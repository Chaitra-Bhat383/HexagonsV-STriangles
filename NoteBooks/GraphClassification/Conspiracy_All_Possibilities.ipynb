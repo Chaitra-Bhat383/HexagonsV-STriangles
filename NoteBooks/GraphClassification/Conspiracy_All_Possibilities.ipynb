{
  "nbformat": 4,
  "nbformat_minor": 0,
  "metadata": {
    "colab": {
      "provenance": []
    },
    "kernelspec": {
      "name": "python3",
      "display_name": "Python 3"
    },
    "language_info": {
      "name": "python"
    }
  },
  "cells": [
    {
      "cell_type": "code",
      "source": [
        "!pip install torch_geometric"
      ],
      "metadata": {
        "colab": {
          "base_uri": "https://localhost:8080/"
        },
        "id": "6EjGA9cZ_ZcP",
        "outputId": "34a234bb-67cc-44c2-ea11-11fd0c1d03ec"
      },
      "execution_count": 84,
      "outputs": [
        {
          "output_type": "stream",
          "name": "stdout",
          "text": [
            "Looking in indexes: https://pypi.org/simple, https://us-python.pkg.dev/colab-wheels/public/simple/\n",
            "Requirement already satisfied: torch_geometric in /usr/local/lib/python3.10/dist-packages (2.3.1)\n",
            "Requirement already satisfied: tqdm in /usr/local/lib/python3.10/dist-packages (from torch_geometric) (4.65.0)\n",
            "Requirement already satisfied: numpy in /usr/local/lib/python3.10/dist-packages (from torch_geometric) (1.22.4)\n",
            "Requirement already satisfied: scipy in /usr/local/lib/python3.10/dist-packages (from torch_geometric) (1.10.1)\n",
            "Requirement already satisfied: jinja2 in /usr/local/lib/python3.10/dist-packages (from torch_geometric) (3.1.2)\n",
            "Requirement already satisfied: requests in /usr/local/lib/python3.10/dist-packages (from torch_geometric) (2.27.1)\n",
            "Requirement already satisfied: pyparsing in /usr/local/lib/python3.10/dist-packages (from torch_geometric) (3.0.9)\n",
            "Requirement already satisfied: scikit-learn in /usr/local/lib/python3.10/dist-packages (from torch_geometric) (1.2.2)\n",
            "Requirement already satisfied: psutil>=5.8.0 in /usr/local/lib/python3.10/dist-packages (from torch_geometric) (5.9.5)\n",
            "Requirement already satisfied: MarkupSafe>=2.0 in /usr/local/lib/python3.10/dist-packages (from jinja2->torch_geometric) (2.1.2)\n",
            "Requirement already satisfied: urllib3<1.27,>=1.21.1 in /usr/local/lib/python3.10/dist-packages (from requests->torch_geometric) (1.26.15)\n",
            "Requirement already satisfied: certifi>=2017.4.17 in /usr/local/lib/python3.10/dist-packages (from requests->torch_geometric) (2022.12.7)\n",
            "Requirement already satisfied: charset-normalizer~=2.0.0 in /usr/local/lib/python3.10/dist-packages (from requests->torch_geometric) (2.0.12)\n",
            "Requirement already satisfied: idna<4,>=2.5 in /usr/local/lib/python3.10/dist-packages (from requests->torch_geometric) (3.4)\n",
            "Requirement already satisfied: joblib>=1.1.1 in /usr/local/lib/python3.10/dist-packages (from scikit-learn->torch_geometric) (1.2.0)\n",
            "Requirement already satisfied: threadpoolctl>=2.0.0 in /usr/local/lib/python3.10/dist-packages (from scikit-learn->torch_geometric) (3.1.0)\n"
          ]
        }
      ]
    },
    {
      "cell_type": "code",
      "source": [
        "import torch\n",
        "import pandas as pd"
      ],
      "metadata": {
        "id": "NIK-fEFH9b3u"
      },
      "execution_count": 85,
      "outputs": []
    },
    {
      "cell_type": "markdown",
      "source": [
        "## Baseline Model"
      ],
      "metadata": {
        "id": "6sv0gQyh93jJ"
      }
    },
    {
      "cell_type": "code",
      "execution_count": 86,
      "metadata": {
        "id": "W8lrWeXh8O4g"
      },
      "outputs": [],
      "source": [
        "dataset = torch.load('hexagon_812_final.pt')"
      ]
    },
    {
      "cell_type": "code",
      "source": [
        "for i in range(len(dataset)):\n",
        "  a=pd.DataFrame(dataset[i].x.numpy()).drop([0,1,4,5],axis=1).to_numpy() #drop id\n",
        "  dataset[i].x=torch.from_numpy(a)"
      ],
      "metadata": {
        "id": "EX9yvGmW-Oog"
      },
      "execution_count": 87,
      "outputs": []
    },
    {
      "cell_type": "code",
      "source": [
        "import random\n",
        "random.shuffle(dataset)"
      ],
      "metadata": {
        "id": "0deS_azj-7Mu"
      },
      "execution_count": 88,
      "outputs": []
    },
    {
      "cell_type": "code",
      "source": [
        "train_dataset = dataset[:650]\n",
        "test_dataset = dataset[650:]"
      ],
      "metadata": {
        "id": "M02QpSYy-_RL"
      },
      "execution_count": 89,
      "outputs": []
    },
    {
      "cell_type": "code",
      "source": [
        "from torch_geometric.loader import DataLoader\n",
        "\n",
        "train_loader = DataLoader(train_dataset, batch_size=32, shuffle=True)\n",
        "test_loader = DataLoader(test_dataset, batch_size=32, shuffle=False)"
      ],
      "metadata": {
        "id": "RuDdoukzBc6n"
      },
      "execution_count": 90,
      "outputs": []
    },
    {
      "cell_type": "code",
      "source": [
        "from torch.nn import Linear\n",
        "import torch.nn.functional as F\n",
        "from torch_geometric.nn import GCNConv\n",
        "from torch_geometric.nn import global_mean_pool\n",
        "\n",
        "\n",
        "class GCN(torch.nn.Module):\n",
        "    def __init__(self, hidden_channels):\n",
        "        super(GCN, self).__init__()\n",
        "        torch.manual_seed(12345)\n",
        "        self.conv1 = GCNConv(2, hidden_channels)\n",
        "        self.conv2 = GCNConv(hidden_channels, hidden_channels)\n",
        "        self.conv3 = GCNConv(hidden_channels, hidden_channels)\n",
        "        self.lin = Linear(hidden_channels, 2)\n",
        "\n",
        "    def forward(self, x, edge_index, batch):\n",
        "        # 1. Obtain node embeddings \n",
        "        x = self.conv1(x, edge_index)\n",
        "        x = x.relu()\n",
        "        x = self.conv2(x, edge_index)\n",
        "        x = x.relu()\n",
        "        x = self.conv3(x, edge_index)\n",
        "\n",
        "        # 2. Readout layer\n",
        "        x = global_mean_pool(x, batch)  # [batch_size, hidden_channels]\n",
        "\n",
        "        # 3. Apply a final classifier\n",
        "        x = F.dropout(x, p=0.5, training=self.training)\n",
        "        x = self.lin(x)\n",
        "        \n",
        "        return x\n",
        "\n",
        "model = GCN(hidden_channels=64)\n",
        "print(model)"
      ],
      "metadata": {
        "colab": {
          "base_uri": "https://localhost:8080/"
        },
        "id": "CDOUDXsK_OKJ",
        "outputId": "7f973f58-58de-49c2-d4ea-c2572647310f"
      },
      "execution_count": 91,
      "outputs": [
        {
          "output_type": "stream",
          "name": "stdout",
          "text": [
            "GCN(\n",
            "  (conv1): GCNConv(2, 64)\n",
            "  (conv2): GCNConv(64, 64)\n",
            "  (conv3): GCNConv(64, 64)\n",
            "  (lin): Linear(in_features=64, out_features=2, bias=True)\n",
            ")\n"
          ]
        }
      ]
    },
    {
      "cell_type": "code",
      "source": [
        "from IPython.display import Javascript\n",
        "display(Javascript('''google.colab.output.setIframeHeight(0, true, {maxHeight: 300})'''))\n",
        "\n",
        "model = GCN(hidden_channels=64)\n",
        "optimizer = torch.optim.Adam(model.parameters(), lr=0.03)\n",
        "criterion = torch.nn.CrossEntropyLoss()\n",
        "\n",
        "def train():\n",
        "    model.train()\n",
        "\n",
        "    for data in train_loader:  # Iterate in batches over the training dataset.\n",
        "         out = model(data.x.float(), data.edge_index, data.batch)  # Perform a single forward pass.\n",
        "         loss = criterion(out, data.y)  # Compute the loss.\n",
        "         loss.backward()  # Derive gradients.\n",
        "         optimizer.step()  # Update parameters based on gradients.\n",
        "         optimizer.zero_grad()  # Clear gradients.\n",
        "\n",
        "def test(loader):\n",
        "     model.eval()\n",
        "\n",
        "     correct = 0\n",
        "     for data in loader:  # Iterate in batches over the training/test dataset.\n",
        "         out = model(data.x.float(), data.edge_index, data.batch)  \n",
        "         pred = out.argmax(dim=1)  # Use the class with highest probability.\n",
        "         correct += int((pred == data.y).sum())  # Check against ground-truth labels.\n",
        "     return correct / len(loader.dataset)  # Derive ratio of correct predictions.\n",
        "\n",
        "\n",
        "for epoch in range(1, 100):\n",
        "    train()\n",
        "    train_acc = test(train_loader)\n",
        "    test_acc = test(test_loader)\n",
        "    print(f'Epoch: {epoch:03d}, Train Acc: {train_acc:.4f}, Test Acc: {test_acc:.4f}')"
      ],
      "metadata": {
        "colab": {
          "base_uri": "https://localhost:8080/",
          "height": 300
        },
        "id": "QT91qUaD_Xis",
        "outputId": "c8bf3340-c6a6-442d-d0f1-55d6fd31ead7"
      },
      "execution_count": 93,
      "outputs": [
        {
          "output_type": "display_data",
          "data": {
            "text/plain": [
              "<IPython.core.display.Javascript object>"
            ],
            "application/javascript": [
              "google.colab.output.setIframeHeight(0, true, {maxHeight: 300})"
            ]
          },
          "metadata": {}
        },
        {
          "output_type": "stream",
          "name": "stdout",
          "text": [
            "Epoch: 001, Train Acc: 0.5015, Test Acc: 0.4938\n",
            "Epoch: 002, Train Acc: 0.5015, Test Acc: 0.4938\n",
            "Epoch: 003, Train Acc: 0.5015, Test Acc: 0.4938\n",
            "Epoch: 004, Train Acc: 0.4985, Test Acc: 0.5062\n",
            "Epoch: 005, Train Acc: 0.5015, Test Acc: 0.4938\n",
            "Epoch: 006, Train Acc: 0.4985, Test Acc: 0.5062\n",
            "Epoch: 007, Train Acc: 0.5015, Test Acc: 0.4938\n",
            "Epoch: 008, Train Acc: 0.5015, Test Acc: 0.4938\n",
            "Epoch: 009, Train Acc: 0.5015, Test Acc: 0.4938\n",
            "Epoch: 010, Train Acc: 0.5015, Test Acc: 0.4938\n",
            "Epoch: 011, Train Acc: 0.4985, Test Acc: 0.5062\n",
            "Epoch: 012, Train Acc: 0.5015, Test Acc: 0.4938\n",
            "Epoch: 013, Train Acc: 0.4985, Test Acc: 0.5062\n",
            "Epoch: 014, Train Acc: 0.5015, Test Acc: 0.4938\n",
            "Epoch: 015, Train Acc: 0.5015, Test Acc: 0.4938\n",
            "Epoch: 016, Train Acc: 0.4985, Test Acc: 0.5062\n",
            "Epoch: 017, Train Acc: 0.4985, Test Acc: 0.5062\n",
            "Epoch: 018, Train Acc: 0.5015, Test Acc: 0.4938\n",
            "Epoch: 019, Train Acc: 0.4985, Test Acc: 0.5062\n",
            "Epoch: 020, Train Acc: 0.4985, Test Acc: 0.5062\n",
            "Epoch: 021, Train Acc: 0.4985, Test Acc: 0.5062\n",
            "Epoch: 022, Train Acc: 0.5015, Test Acc: 0.4938\n",
            "Epoch: 023, Train Acc: 0.4985, Test Acc: 0.5062\n",
            "Epoch: 024, Train Acc: 0.4985, Test Acc: 0.5062\n",
            "Epoch: 025, Train Acc: 0.5015, Test Acc: 0.4938\n",
            "Epoch: 026, Train Acc: 0.4985, Test Acc: 0.5062\n",
            "Epoch: 027, Train Acc: 0.5015, Test Acc: 0.4938\n",
            "Epoch: 028, Train Acc: 0.5015, Test Acc: 0.4938\n",
            "Epoch: 029, Train Acc: 0.5015, Test Acc: 0.4938\n",
            "Epoch: 030, Train Acc: 0.4985, Test Acc: 0.5062\n",
            "Epoch: 031, Train Acc: 0.5015, Test Acc: 0.4938\n",
            "Epoch: 032, Train Acc: 0.5015, Test Acc: 0.4938\n",
            "Epoch: 033, Train Acc: 0.4985, Test Acc: 0.5062\n",
            "Epoch: 034, Train Acc: 0.5015, Test Acc: 0.4938\n",
            "Epoch: 035, Train Acc: 0.4985, Test Acc: 0.5062\n",
            "Epoch: 036, Train Acc: 0.4985, Test Acc: 0.5062\n",
            "Epoch: 037, Train Acc: 0.5015, Test Acc: 0.4938\n",
            "Epoch: 038, Train Acc: 0.5015, Test Acc: 0.4938\n",
            "Epoch: 039, Train Acc: 0.5015, Test Acc: 0.4938\n",
            "Epoch: 040, Train Acc: 0.4985, Test Acc: 0.5062\n",
            "Epoch: 041, Train Acc: 0.5015, Test Acc: 0.4938\n",
            "Epoch: 042, Train Acc: 0.4985, Test Acc: 0.5062\n",
            "Epoch: 043, Train Acc: 0.5015, Test Acc: 0.4938\n",
            "Epoch: 044, Train Acc: 0.4985, Test Acc: 0.5062\n",
            "Epoch: 045, Train Acc: 0.4985, Test Acc: 0.5062\n",
            "Epoch: 046, Train Acc: 0.4985, Test Acc: 0.5062\n",
            "Epoch: 047, Train Acc: 0.5015, Test Acc: 0.4938\n",
            "Epoch: 048, Train Acc: 0.4985, Test Acc: 0.5062\n",
            "Epoch: 049, Train Acc: 0.5015, Test Acc: 0.4938\n",
            "Epoch: 050, Train Acc: 0.4985, Test Acc: 0.5062\n",
            "Epoch: 051, Train Acc: 0.4985, Test Acc: 0.5062\n",
            "Epoch: 052, Train Acc: 0.5015, Test Acc: 0.4938\n",
            "Epoch: 053, Train Acc: 0.4985, Test Acc: 0.5062\n",
            "Epoch: 054, Train Acc: 0.5015, Test Acc: 0.4938\n",
            "Epoch: 055, Train Acc: 0.5015, Test Acc: 0.4938\n",
            "Epoch: 056, Train Acc: 0.4985, Test Acc: 0.5062\n",
            "Epoch: 057, Train Acc: 0.4985, Test Acc: 0.5062\n",
            "Epoch: 058, Train Acc: 0.4985, Test Acc: 0.5062\n",
            "Epoch: 059, Train Acc: 0.4985, Test Acc: 0.5062\n",
            "Epoch: 060, Train Acc: 0.5015, Test Acc: 0.4938\n",
            "Epoch: 061, Train Acc: 0.5015, Test Acc: 0.4938\n",
            "Epoch: 062, Train Acc: 0.5015, Test Acc: 0.4938\n",
            "Epoch: 063, Train Acc: 0.5015, Test Acc: 0.4938\n",
            "Epoch: 064, Train Acc: 0.5015, Test Acc: 0.4938\n",
            "Epoch: 065, Train Acc: 0.4985, Test Acc: 0.5062\n",
            "Epoch: 066, Train Acc: 0.4985, Test Acc: 0.5062\n",
            "Epoch: 067, Train Acc: 0.5015, Test Acc: 0.4938\n",
            "Epoch: 068, Train Acc: 0.5015, Test Acc: 0.4938\n",
            "Epoch: 069, Train Acc: 0.5015, Test Acc: 0.4938\n",
            "Epoch: 070, Train Acc: 0.4985, Test Acc: 0.5062\n",
            "Epoch: 071, Train Acc: 0.4985, Test Acc: 0.5062\n",
            "Epoch: 072, Train Acc: 0.4985, Test Acc: 0.5062\n",
            "Epoch: 073, Train Acc: 0.4985, Test Acc: 0.5062\n",
            "Epoch: 074, Train Acc: 0.5015, Test Acc: 0.4938\n",
            "Epoch: 075, Train Acc: 0.5015, Test Acc: 0.4938\n",
            "Epoch: 076, Train Acc: 0.5015, Test Acc: 0.4938\n",
            "Epoch: 077, Train Acc: 0.5015, Test Acc: 0.4938\n",
            "Epoch: 078, Train Acc: 0.5015, Test Acc: 0.4938\n",
            "Epoch: 079, Train Acc: 0.5015, Test Acc: 0.4938\n",
            "Epoch: 080, Train Acc: 0.5015, Test Acc: 0.4938\n",
            "Epoch: 081, Train Acc: 0.4985, Test Acc: 0.5062\n",
            "Epoch: 082, Train Acc: 0.5015, Test Acc: 0.4938\n",
            "Epoch: 083, Train Acc: 0.4985, Test Acc: 0.5062\n",
            "Epoch: 084, Train Acc: 0.4985, Test Acc: 0.5062\n",
            "Epoch: 085, Train Acc: 0.4985, Test Acc: 0.5062\n",
            "Epoch: 086, Train Acc: 0.4985, Test Acc: 0.5062\n",
            "Epoch: 087, Train Acc: 0.5015, Test Acc: 0.4938\n",
            "Epoch: 088, Train Acc: 0.4985, Test Acc: 0.5062\n",
            "Epoch: 089, Train Acc: 0.4985, Test Acc: 0.5062\n",
            "Epoch: 090, Train Acc: 0.5015, Test Acc: 0.4938\n",
            "Epoch: 091, Train Acc: 0.5015, Test Acc: 0.4938\n",
            "Epoch: 092, Train Acc: 0.4985, Test Acc: 0.5062\n",
            "Epoch: 093, Train Acc: 0.4985, Test Acc: 0.5062\n",
            "Epoch: 094, Train Acc: 0.4985, Test Acc: 0.5062\n",
            "Epoch: 095, Train Acc: 0.5015, Test Acc: 0.4938\n",
            "Epoch: 096, Train Acc: 0.4985, Test Acc: 0.5062\n",
            "Epoch: 097, Train Acc: 0.5015, Test Acc: 0.4938\n",
            "Epoch: 098, Train Acc: 0.4985, Test Acc: 0.5062\n",
            "Epoch: 099, Train Acc: 0.4985, Test Acc: 0.5062\n"
          ]
        }
      ]
    },
    {
      "cell_type": "markdown",
      "source": [
        "## Triangles"
      ],
      "metadata": {
        "id": "HJbtgF8D97kW"
      }
    },
    {
      "cell_type": "code",
      "source": [
        "dataset = torch.load('hexagon_812_final.pt')"
      ],
      "metadata": {
        "id": "XcPiLtF3-aot"
      },
      "execution_count": 94,
      "outputs": []
    },
    {
      "cell_type": "code",
      "source": [
        "for i in range(len(dataset)):\n",
        "  a=pd.DataFrame(dataset[i].x.numpy()).drop([0,1,5],axis=1).to_numpy() #drop id,time,number of hexagons\n",
        "  dataset[i].x=torch.from_numpy(a)"
      ],
      "metadata": {
        "id": "kWWPEObc-Poz"
      },
      "execution_count": 95,
      "outputs": []
    },
    {
      "cell_type": "code",
      "source": [
        "import random\n",
        "random.shuffle(dataset)"
      ],
      "metadata": {
        "id": "wHzPDCyh-6kf"
      },
      "execution_count": 96,
      "outputs": []
    },
    {
      "cell_type": "code",
      "source": [
        "train_dataset = dataset[:650]\n",
        "test_dataset = dataset[650:]"
      ],
      "metadata": {
        "id": "J4_bXEOH--qe"
      },
      "execution_count": 97,
      "outputs": []
    },
    {
      "cell_type": "code",
      "source": [
        "from torch_geometric.loader import DataLoader\n",
        "\n",
        "train_loader = DataLoader(train_dataset, batch_size=32, shuffle=True)\n",
        "test_loader = DataLoader(test_dataset, batch_size=32, shuffle=False)"
      ],
      "metadata": {
        "id": "D-cbXTm9_B9e"
      },
      "execution_count": 98,
      "outputs": []
    },
    {
      "cell_type": "code",
      "source": [
        "from torch.nn import Linear\n",
        "import torch.nn.functional as F\n",
        "from torch_geometric.nn import GCNConv\n",
        "from torch_geometric.nn import global_mean_pool\n",
        "\n",
        "\n",
        "class GCN(torch.nn.Module):\n",
        "    def __init__(self, hidden_channels):\n",
        "        super(GCN, self).__init__()\n",
        "        torch.manual_seed(12345)\n",
        "        self.conv1 = GCNConv(3, hidden_channels)\n",
        "        self.conv2 = GCNConv(hidden_channels, hidden_channels)\n",
        "        self.conv3 = GCNConv(hidden_channels, hidden_channels)\n",
        "        self.lin = Linear(hidden_channels, 2)\n",
        "\n",
        "    def forward(self, x, edge_index, batch):\n",
        "        # 1. Obtain node embeddings \n",
        "        x = self.conv1(x, edge_index)\n",
        "        x = x.relu()\n",
        "        x = self.conv2(x, edge_index)\n",
        "        x = x.relu()\n",
        "        x = self.conv3(x, edge_index)\n",
        "\n",
        "        # 2. Readout layer\n",
        "        x = global_mean_pool(x, batch)  # [batch_size, hidden_channels]\n",
        "\n",
        "        # 3. Apply a final classifier\n",
        "        x = F.dropout(x, p=0.5, training=self.training)\n",
        "        x = self.lin(x)\n",
        "        \n",
        "        return x\n",
        "\n",
        "model = GCN(hidden_channels=64)\n",
        "print(model)"
      ],
      "metadata": {
        "colab": {
          "base_uri": "https://localhost:8080/"
        },
        "id": "mhNowuWn_Md0",
        "outputId": "36300b4b-0827-4851-8652-274ecc3e3a0f"
      },
      "execution_count": 99,
      "outputs": [
        {
          "output_type": "stream",
          "name": "stdout",
          "text": [
            "GCN(\n",
            "  (conv1): GCNConv(3, 64)\n",
            "  (conv2): GCNConv(64, 64)\n",
            "  (conv3): GCNConv(64, 64)\n",
            "  (lin): Linear(in_features=64, out_features=2, bias=True)\n",
            ")\n"
          ]
        }
      ]
    },
    {
      "cell_type": "code",
      "source": [
        "from IPython.display import Javascript\n",
        "display(Javascript('''google.colab.output.setIframeHeight(0, true, {maxHeight: 300})'''))\n",
        "\n",
        "model = GCN(hidden_channels=64)\n",
        "optimizer = torch.optim.Adam(model.parameters(), lr=0.03)\n",
        "criterion = torch.nn.CrossEntropyLoss()\n",
        "\n",
        "def train():\n",
        "    model.train()\n",
        "\n",
        "    for data in train_loader:  # Iterate in batches over the training dataset.\n",
        "         out = model(data.x.float(), data.edge_index, data.batch)  # Perform a single forward pass.\n",
        "         loss = criterion(out, data.y)  # Compute the loss.\n",
        "         loss.backward()  # Derive gradients.\n",
        "         optimizer.step()  # Update parameters based on gradients.\n",
        "         optimizer.zero_grad()  # Clear gradients.\n",
        "\n",
        "def test(loader):\n",
        "     model.eval()\n",
        "\n",
        "     correct = 0\n",
        "     for data in loader:  # Iterate in batches over the training/test dataset.\n",
        "         out = model(data.x.float(), data.edge_index, data.batch)  \n",
        "         pred = out.argmax(dim=1)  # Use the class with highest probability.\n",
        "         correct += int((pred == data.y).sum())  # Check against ground-truth labels.\n",
        "     return correct / len(loader.dataset)  # Derive ratio of correct predictions.\n",
        "\n",
        "\n",
        "for epoch in range(1, 100):\n",
        "    train()\n",
        "    train_acc = test(train_loader)\n",
        "    test_acc = test(test_loader)\n",
        "    print(f'Epoch: {epoch:03d}, Train Acc: {train_acc:.4f}, Test Acc: {test_acc:.4f}')"
      ],
      "metadata": {
        "colab": {
          "base_uri": "https://localhost:8080/",
          "height": 300
        },
        "id": "3yofjqj4_VvK",
        "outputId": "350cd360-25fe-4019-f569-e81e8a00aad5"
      },
      "execution_count": 100,
      "outputs": [
        {
          "output_type": "display_data",
          "data": {
            "text/plain": [
              "<IPython.core.display.Javascript object>"
            ],
            "application/javascript": [
              "google.colab.output.setIframeHeight(0, true, {maxHeight: 300})"
            ]
          },
          "metadata": {}
        },
        {
          "output_type": "stream",
          "name": "stdout",
          "text": [
            "Epoch: 001, Train Acc: 0.5154, Test Acc: 0.4383\n",
            "Epoch: 002, Train Acc: 0.5092, Test Acc: 0.4568\n",
            "Epoch: 003, Train Acc: 0.4846, Test Acc: 0.5617\n",
            "Epoch: 004, Train Acc: 0.5154, Test Acc: 0.4383\n",
            "Epoch: 005, Train Acc: 0.5154, Test Acc: 0.4383\n",
            "Epoch: 006, Train Acc: 0.5154, Test Acc: 0.4383\n",
            "Epoch: 007, Train Acc: 0.4846, Test Acc: 0.5617\n",
            "Epoch: 008, Train Acc: 0.5154, Test Acc: 0.4383\n",
            "Epoch: 009, Train Acc: 0.5154, Test Acc: 0.4383\n",
            "Epoch: 010, Train Acc: 0.5154, Test Acc: 0.4383\n",
            "Epoch: 011, Train Acc: 0.5154, Test Acc: 0.4383\n",
            "Epoch: 012, Train Acc: 0.4846, Test Acc: 0.5617\n",
            "Epoch: 013, Train Acc: 0.5154, Test Acc: 0.4383\n",
            "Epoch: 014, Train Acc: 0.4846, Test Acc: 0.5617\n",
            "Epoch: 015, Train Acc: 0.4846, Test Acc: 0.5617\n",
            "Epoch: 016, Train Acc: 0.5154, Test Acc: 0.4383\n",
            "Epoch: 017, Train Acc: 0.5154, Test Acc: 0.4383\n",
            "Epoch: 018, Train Acc: 0.5154, Test Acc: 0.4383\n",
            "Epoch: 019, Train Acc: 0.5154, Test Acc: 0.4383\n",
            "Epoch: 020, Train Acc: 0.5154, Test Acc: 0.4383\n",
            "Epoch: 021, Train Acc: 0.5154, Test Acc: 0.4383\n",
            "Epoch: 022, Train Acc: 0.5154, Test Acc: 0.4383\n",
            "Epoch: 023, Train Acc: 0.5154, Test Acc: 0.4383\n",
            "Epoch: 024, Train Acc: 0.4846, Test Acc: 0.5617\n",
            "Epoch: 025, Train Acc: 0.5154, Test Acc: 0.4383\n",
            "Epoch: 026, Train Acc: 0.5154, Test Acc: 0.4383\n",
            "Epoch: 027, Train Acc: 0.5154, Test Acc: 0.4383\n",
            "Epoch: 028, Train Acc: 0.5154, Test Acc: 0.4383\n",
            "Epoch: 029, Train Acc: 0.5154, Test Acc: 0.4383\n",
            "Epoch: 030, Train Acc: 0.5154, Test Acc: 0.4383\n",
            "Epoch: 031, Train Acc: 0.5154, Test Acc: 0.4383\n",
            "Epoch: 032, Train Acc: 0.5154, Test Acc: 0.4383\n",
            "Epoch: 033, Train Acc: 0.5154, Test Acc: 0.4383\n",
            "Epoch: 034, Train Acc: 0.5154, Test Acc: 0.4383\n",
            "Epoch: 035, Train Acc: 0.5154, Test Acc: 0.4383\n",
            "Epoch: 036, Train Acc: 0.5154, Test Acc: 0.4383\n",
            "Epoch: 037, Train Acc: 0.5154, Test Acc: 0.4383\n",
            "Epoch: 038, Train Acc: 0.5154, Test Acc: 0.4383\n",
            "Epoch: 039, Train Acc: 0.5154, Test Acc: 0.4383\n",
            "Epoch: 040, Train Acc: 0.5154, Test Acc: 0.4383\n",
            "Epoch: 041, Train Acc: 0.4846, Test Acc: 0.5617\n",
            "Epoch: 042, Train Acc: 0.5154, Test Acc: 0.4383\n",
            "Epoch: 043, Train Acc: 0.5154, Test Acc: 0.4383\n",
            "Epoch: 044, Train Acc: 0.5154, Test Acc: 0.4383\n",
            "Epoch: 045, Train Acc: 0.4846, Test Acc: 0.5617\n",
            "Epoch: 046, Train Acc: 0.5154, Test Acc: 0.4383\n",
            "Epoch: 047, Train Acc: 0.5154, Test Acc: 0.4383\n",
            "Epoch: 048, Train Acc: 0.5154, Test Acc: 0.4383\n",
            "Epoch: 049, Train Acc: 0.5154, Test Acc: 0.4383\n",
            "Epoch: 050, Train Acc: 0.5154, Test Acc: 0.4383\n",
            "Epoch: 051, Train Acc: 0.5154, Test Acc: 0.4383\n",
            "Epoch: 052, Train Acc: 0.5154, Test Acc: 0.4383\n",
            "Epoch: 053, Train Acc: 0.5154, Test Acc: 0.4383\n",
            "Epoch: 054, Train Acc: 0.5154, Test Acc: 0.4383\n",
            "Epoch: 055, Train Acc: 0.5154, Test Acc: 0.4383\n",
            "Epoch: 056, Train Acc: 0.5154, Test Acc: 0.4383\n",
            "Epoch: 057, Train Acc: 0.5154, Test Acc: 0.4383\n",
            "Epoch: 058, Train Acc: 0.5154, Test Acc: 0.4383\n",
            "Epoch: 059, Train Acc: 0.5154, Test Acc: 0.4383\n",
            "Epoch: 060, Train Acc: 0.5154, Test Acc: 0.4383\n",
            "Epoch: 061, Train Acc: 0.5154, Test Acc: 0.4383\n",
            "Epoch: 062, Train Acc: 0.5154, Test Acc: 0.4383\n",
            "Epoch: 063, Train Acc: 0.5154, Test Acc: 0.4383\n",
            "Epoch: 064, Train Acc: 0.5154, Test Acc: 0.4383\n",
            "Epoch: 065, Train Acc: 0.5154, Test Acc: 0.4383\n",
            "Epoch: 066, Train Acc: 0.4846, Test Acc: 0.5617\n",
            "Epoch: 067, Train Acc: 0.5154, Test Acc: 0.4383\n",
            "Epoch: 068, Train Acc: 0.5154, Test Acc: 0.4383\n",
            "Epoch: 069, Train Acc: 0.5154, Test Acc: 0.4383\n",
            "Epoch: 070, Train Acc: 0.5154, Test Acc: 0.4383\n",
            "Epoch: 071, Train Acc: 0.5154, Test Acc: 0.4383\n",
            "Epoch: 072, Train Acc: 0.4846, Test Acc: 0.5617\n",
            "Epoch: 073, Train Acc: 0.5154, Test Acc: 0.4383\n",
            "Epoch: 074, Train Acc: 0.5154, Test Acc: 0.4383\n",
            "Epoch: 075, Train Acc: 0.5154, Test Acc: 0.4383\n",
            "Epoch: 076, Train Acc: 0.5154, Test Acc: 0.4383\n",
            "Epoch: 077, Train Acc: 0.4846, Test Acc: 0.5617\n",
            "Epoch: 078, Train Acc: 0.5154, Test Acc: 0.4383\n",
            "Epoch: 079, Train Acc: 0.5154, Test Acc: 0.4383\n",
            "Epoch: 080, Train Acc: 0.5154, Test Acc: 0.4383\n",
            "Epoch: 081, Train Acc: 0.5154, Test Acc: 0.4383\n",
            "Epoch: 082, Train Acc: 0.4846, Test Acc: 0.5617\n",
            "Epoch: 083, Train Acc: 0.5154, Test Acc: 0.4383\n",
            "Epoch: 084, Train Acc: 0.5154, Test Acc: 0.4383\n",
            "Epoch: 085, Train Acc: 0.5154, Test Acc: 0.4383\n",
            "Epoch: 086, Train Acc: 0.5154, Test Acc: 0.4383\n",
            "Epoch: 087, Train Acc: 0.5154, Test Acc: 0.4383\n",
            "Epoch: 088, Train Acc: 0.5154, Test Acc: 0.4383\n",
            "Epoch: 089, Train Acc: 0.5154, Test Acc: 0.4383\n",
            "Epoch: 090, Train Acc: 0.5154, Test Acc: 0.4383\n",
            "Epoch: 091, Train Acc: 0.5154, Test Acc: 0.4383\n",
            "Epoch: 092, Train Acc: 0.4846, Test Acc: 0.5617\n",
            "Epoch: 093, Train Acc: 0.5154, Test Acc: 0.4383\n",
            "Epoch: 094, Train Acc: 0.5154, Test Acc: 0.4383\n",
            "Epoch: 095, Train Acc: 0.5154, Test Acc: 0.4383\n",
            "Epoch: 096, Train Acc: 0.5154, Test Acc: 0.4383\n",
            "Epoch: 097, Train Acc: 0.5154, Test Acc: 0.4383\n",
            "Epoch: 098, Train Acc: 0.5154, Test Acc: 0.4383\n",
            "Epoch: 099, Train Acc: 0.4846, Test Acc: 0.5617\n"
          ]
        }
      ]
    },
    {
      "cell_type": "markdown",
      "source": [
        "## Hexagons"
      ],
      "metadata": {
        "id": "ISsysGmY99b_"
      }
    },
    {
      "cell_type": "code",
      "source": [
        "dataset = torch.load('hexagon_812_final.pt')"
      ],
      "metadata": {
        "id": "Mf5mKHhe-bQB"
      },
      "execution_count": 101,
      "outputs": []
    },
    {
      "cell_type": "code",
      "source": [
        "for i in range(len(dataset)):\n",
        "  a=pd.DataFrame(dataset[i].x.numpy()).drop([0,1,4],axis=1).to_numpy() #drop id,time,number of triangles\n",
        "  dataset[i].x=torch.from_numpy(a)"
      ],
      "metadata": {
        "id": "-Y9-YDne9A8d"
      },
      "execution_count": 102,
      "outputs": []
    },
    {
      "cell_type": "code",
      "source": [
        "import random\n",
        "random.shuffle(dataset)"
      ],
      "metadata": {
        "id": "jwheF5HO-55-"
      },
      "execution_count": 103,
      "outputs": []
    },
    {
      "cell_type": "code",
      "source": [
        "train_dataset = dataset[:650]\n",
        "test_dataset = dataset[650:]"
      ],
      "metadata": {
        "id": "oLPTN8Wv-95y"
      },
      "execution_count": 104,
      "outputs": []
    },
    {
      "cell_type": "code",
      "source": [
        "from torch_geometric.loader import DataLoader\n",
        "\n",
        "train_loader = DataLoader(train_dataset, batch_size=32, shuffle=True)\n",
        "test_loader = DataLoader(test_dataset, batch_size=32, shuffle=False)"
      ],
      "metadata": {
        "id": "15wu0XNB_BI-"
      },
      "execution_count": 105,
      "outputs": []
    },
    {
      "cell_type": "code",
      "source": [
        "from torch.nn import Linear\n",
        "import torch.nn.functional as F\n",
        "from torch_geometric.nn import GCNConv\n",
        "from torch_geometric.nn import global_mean_pool\n",
        "\n",
        "\n",
        "class GCN(torch.nn.Module):\n",
        "    def __init__(self, hidden_channels):\n",
        "        super(GCN, self).__init__()\n",
        "        torch.manual_seed(12345)\n",
        "        self.conv1 = GCNConv(3, hidden_channels)\n",
        "        self.conv2 = GCNConv(hidden_channels, hidden_channels)\n",
        "        self.conv3 = GCNConv(hidden_channels, hidden_channels)\n",
        "        self.lin = Linear(hidden_channels, 2)\n",
        "\n",
        "    def forward(self, x, edge_index, batch):\n",
        "        # 1. Obtain node embeddings \n",
        "        x = self.conv1(x, edge_index)\n",
        "        x = x.relu()\n",
        "        x = self.conv2(x, edge_index)\n",
        "        x = x.relu()\n",
        "        x = self.conv3(x, edge_index)\n",
        "\n",
        "        # 2. Readout layer\n",
        "        x = global_mean_pool(x, batch)  # [batch_size, hidden_channels]\n",
        "\n",
        "        # 3. Apply a final classifier\n",
        "        x = F.dropout(x, p=0.5, training=self.training)\n",
        "        x = self.lin(x)\n",
        "        \n",
        "        return x\n",
        "\n",
        "model = GCN(hidden_channels=64)\n",
        "print(model)"
      ],
      "metadata": {
        "colab": {
          "base_uri": "https://localhost:8080/"
        },
        "id": "_FS_zT4P_KXb",
        "outputId": "c05138b5-8a15-4f76-f071-45cc3f74bc24"
      },
      "execution_count": 106,
      "outputs": [
        {
          "output_type": "stream",
          "name": "stdout",
          "text": [
            "GCN(\n",
            "  (conv1): GCNConv(3, 64)\n",
            "  (conv2): GCNConv(64, 64)\n",
            "  (conv3): GCNConv(64, 64)\n",
            "  (lin): Linear(in_features=64, out_features=2, bias=True)\n",
            ")\n"
          ]
        }
      ]
    },
    {
      "cell_type": "code",
      "source": [
        "from IPython.display import Javascript\n",
        "display(Javascript('''google.colab.output.setIframeHeight(0, true, {maxHeight: 300})'''))\n",
        "\n",
        "model = GCN(hidden_channels=64)\n",
        "optimizer = torch.optim.Adam(model.parameters(), lr=0.03)\n",
        "criterion = torch.nn.CrossEntropyLoss()\n",
        "\n",
        "def train():\n",
        "    model.train()\n",
        "\n",
        "    for data in train_loader:  # Iterate in batches over the training dataset.\n",
        "         out = model(data.x.float(), data.edge_index, data.batch)  # Perform a single forward pass.\n",
        "         loss = criterion(out, data.y)  # Compute the loss.\n",
        "         loss.backward()  # Derive gradients.\n",
        "         optimizer.step()  # Update parameters based on gradients.\n",
        "         optimizer.zero_grad()  # Clear gradients.\n",
        "\n",
        "def test(loader):\n",
        "     model.eval()\n",
        "\n",
        "     correct = 0\n",
        "     for data in loader:  # Iterate in batches over the training/test dataset.\n",
        "         out = model(data.x.float(), data.edge_index, data.batch)  \n",
        "         pred = out.argmax(dim=1)  # Use the class with highest probability.\n",
        "         correct += int((pred == data.y).sum())  # Check against ground-truth labels.\n",
        "     return correct / len(loader.dataset)  # Derive ratio of correct predictions.\n",
        "\n",
        "\n",
        "for epoch in range(1, 100):\n",
        "    train()\n",
        "    train_acc = test(train_loader)\n",
        "    test_acc = test(test_loader)\n",
        "    print(f'Epoch: {epoch:03d}, Train Acc: {train_acc:.4f}, Test Acc: {test_acc:.4f}')"
      ],
      "metadata": {
        "colab": {
          "base_uri": "https://localhost:8080/",
          "height": 300
        },
        "id": "uy-9MJ76_Uxt",
        "outputId": "d0a397de-1d87-435e-ff4b-7668141c0e1e"
      },
      "execution_count": 107,
      "outputs": [
        {
          "output_type": "display_data",
          "data": {
            "text/plain": [
              "<IPython.core.display.Javascript object>"
            ],
            "application/javascript": [
              "google.colab.output.setIframeHeight(0, true, {maxHeight: 300})"
            ]
          },
          "metadata": {}
        },
        {
          "output_type": "stream",
          "name": "stdout",
          "text": [
            "Epoch: 001, Train Acc: 0.4862, Test Acc: 0.5556\n",
            "Epoch: 002, Train Acc: 0.5138, Test Acc: 0.4444\n",
            "Epoch: 003, Train Acc: 0.4862, Test Acc: 0.5556\n",
            "Epoch: 004, Train Acc: 0.5138, Test Acc: 0.4444\n",
            "Epoch: 005, Train Acc: 0.4862, Test Acc: 0.5556\n",
            "Epoch: 006, Train Acc: 0.5138, Test Acc: 0.4444\n",
            "Epoch: 007, Train Acc: 0.5138, Test Acc: 0.4444\n",
            "Epoch: 008, Train Acc: 0.5138, Test Acc: 0.4444\n",
            "Epoch: 009, Train Acc: 0.5138, Test Acc: 0.4444\n",
            "Epoch: 010, Train Acc: 0.5138, Test Acc: 0.4444\n",
            "Epoch: 011, Train Acc: 0.5138, Test Acc: 0.4444\n",
            "Epoch: 012, Train Acc: 0.5138, Test Acc: 0.4444\n",
            "Epoch: 013, Train Acc: 0.4862, Test Acc: 0.5556\n",
            "Epoch: 014, Train Acc: 0.4862, Test Acc: 0.5556\n",
            "Epoch: 015, Train Acc: 0.5138, Test Acc: 0.4444\n",
            "Epoch: 016, Train Acc: 0.5138, Test Acc: 0.4444\n",
            "Epoch: 017, Train Acc: 0.5138, Test Acc: 0.4444\n",
            "Epoch: 018, Train Acc: 0.5138, Test Acc: 0.4444\n",
            "Epoch: 019, Train Acc: 0.5138, Test Acc: 0.4444\n",
            "Epoch: 020, Train Acc: 0.4862, Test Acc: 0.5556\n",
            "Epoch: 021, Train Acc: 0.4862, Test Acc: 0.5556\n",
            "Epoch: 022, Train Acc: 0.4862, Test Acc: 0.5556\n",
            "Epoch: 023, Train Acc: 0.4862, Test Acc: 0.5556\n",
            "Epoch: 024, Train Acc: 0.5138, Test Acc: 0.4444\n",
            "Epoch: 025, Train Acc: 0.4862, Test Acc: 0.5556\n",
            "Epoch: 026, Train Acc: 0.5138, Test Acc: 0.4444\n",
            "Epoch: 027, Train Acc: 0.5138, Test Acc: 0.4444\n",
            "Epoch: 028, Train Acc: 0.5138, Test Acc: 0.4444\n",
            "Epoch: 029, Train Acc: 0.5138, Test Acc: 0.4444\n",
            "Epoch: 030, Train Acc: 0.4862, Test Acc: 0.5556\n",
            "Epoch: 031, Train Acc: 0.5138, Test Acc: 0.4444\n",
            "Epoch: 032, Train Acc: 0.5138, Test Acc: 0.4444\n",
            "Epoch: 033, Train Acc: 0.4862, Test Acc: 0.5556\n",
            "Epoch: 034, Train Acc: 0.5138, Test Acc: 0.4444\n",
            "Epoch: 035, Train Acc: 0.5138, Test Acc: 0.4444\n",
            "Epoch: 036, Train Acc: 0.5138, Test Acc: 0.4444\n",
            "Epoch: 037, Train Acc: 0.4862, Test Acc: 0.5556\n",
            "Epoch: 038, Train Acc: 0.5138, Test Acc: 0.4444\n",
            "Epoch: 039, Train Acc: 0.5138, Test Acc: 0.4444\n",
            "Epoch: 040, Train Acc: 0.4862, Test Acc: 0.5556\n",
            "Epoch: 041, Train Acc: 0.5138, Test Acc: 0.4444\n",
            "Epoch: 042, Train Acc: 0.4862, Test Acc: 0.5556\n",
            "Epoch: 043, Train Acc: 0.4862, Test Acc: 0.5556\n",
            "Epoch: 044, Train Acc: 0.5138, Test Acc: 0.4444\n",
            "Epoch: 045, Train Acc: 0.5138, Test Acc: 0.4444\n",
            "Epoch: 046, Train Acc: 0.4862, Test Acc: 0.5556\n",
            "Epoch: 047, Train Acc: 0.5138, Test Acc: 0.4444\n",
            "Epoch: 048, Train Acc: 0.5138, Test Acc: 0.4444\n",
            "Epoch: 049, Train Acc: 0.4862, Test Acc: 0.5556\n",
            "Epoch: 050, Train Acc: 0.4862, Test Acc: 0.5556\n",
            "Epoch: 051, Train Acc: 0.5138, Test Acc: 0.4444\n",
            "Epoch: 052, Train Acc: 0.5138, Test Acc: 0.4444\n",
            "Epoch: 053, Train Acc: 0.5138, Test Acc: 0.4444\n",
            "Epoch: 054, Train Acc: 0.5138, Test Acc: 0.4444\n",
            "Epoch: 055, Train Acc: 0.4862, Test Acc: 0.5556\n",
            "Epoch: 056, Train Acc: 0.5138, Test Acc: 0.4444\n",
            "Epoch: 057, Train Acc: 0.5138, Test Acc: 0.4444\n",
            "Epoch: 058, Train Acc: 0.5138, Test Acc: 0.4444\n",
            "Epoch: 059, Train Acc: 0.5138, Test Acc: 0.4444\n",
            "Epoch: 060, Train Acc: 0.5138, Test Acc: 0.4444\n",
            "Epoch: 061, Train Acc: 0.5138, Test Acc: 0.4444\n",
            "Epoch: 062, Train Acc: 0.4862, Test Acc: 0.5556\n",
            "Epoch: 063, Train Acc: 0.5138, Test Acc: 0.4444\n",
            "Epoch: 064, Train Acc: 0.5138, Test Acc: 0.4444\n",
            "Epoch: 065, Train Acc: 0.5138, Test Acc: 0.4444\n",
            "Epoch: 066, Train Acc: 0.5138, Test Acc: 0.4444\n",
            "Epoch: 067, Train Acc: 0.4862, Test Acc: 0.5556\n",
            "Epoch: 068, Train Acc: 0.5138, Test Acc: 0.4444\n",
            "Epoch: 069, Train Acc: 0.5138, Test Acc: 0.4444\n",
            "Epoch: 070, Train Acc: 0.5138, Test Acc: 0.4444\n",
            "Epoch: 071, Train Acc: 0.5138, Test Acc: 0.4444\n",
            "Epoch: 072, Train Acc: 0.5138, Test Acc: 0.4444\n",
            "Epoch: 073, Train Acc: 0.4862, Test Acc: 0.5556\n",
            "Epoch: 074, Train Acc: 0.5138, Test Acc: 0.4444\n",
            "Epoch: 075, Train Acc: 0.5138, Test Acc: 0.4444\n",
            "Epoch: 076, Train Acc: 0.5138, Test Acc: 0.4444\n",
            "Epoch: 077, Train Acc: 0.5138, Test Acc: 0.4444\n",
            "Epoch: 078, Train Acc: 0.4862, Test Acc: 0.5556\n",
            "Epoch: 079, Train Acc: 0.5138, Test Acc: 0.4444\n",
            "Epoch: 080, Train Acc: 0.5138, Test Acc: 0.4444\n",
            "Epoch: 081, Train Acc: 0.4862, Test Acc: 0.5556\n",
            "Epoch: 082, Train Acc: 0.5138, Test Acc: 0.4444\n",
            "Epoch: 083, Train Acc: 0.5138, Test Acc: 0.4444\n",
            "Epoch: 084, Train Acc: 0.5138, Test Acc: 0.4444\n",
            "Epoch: 085, Train Acc: 0.5138, Test Acc: 0.4444\n",
            "Epoch: 086, Train Acc: 0.5138, Test Acc: 0.4444\n",
            "Epoch: 087, Train Acc: 0.5138, Test Acc: 0.4444\n",
            "Epoch: 088, Train Acc: 0.4862, Test Acc: 0.5556\n",
            "Epoch: 089, Train Acc: 0.5138, Test Acc: 0.4444\n",
            "Epoch: 090, Train Acc: 0.5138, Test Acc: 0.4444\n",
            "Epoch: 091, Train Acc: 0.4862, Test Acc: 0.5556\n",
            "Epoch: 092, Train Acc: 0.5138, Test Acc: 0.4444\n",
            "Epoch: 093, Train Acc: 0.5138, Test Acc: 0.4444\n",
            "Epoch: 094, Train Acc: 0.5138, Test Acc: 0.4444\n",
            "Epoch: 095, Train Acc: 0.5138, Test Acc: 0.4444\n",
            "Epoch: 096, Train Acc: 0.5138, Test Acc: 0.4444\n",
            "Epoch: 097, Train Acc: 0.5138, Test Acc: 0.4444\n",
            "Epoch: 098, Train Acc: 0.5138, Test Acc: 0.4444\n",
            "Epoch: 099, Train Acc: 0.5138, Test Acc: 0.4444\n"
          ]
        }
      ]
    },
    {
      "cell_type": "markdown",
      "source": [
        "## Triangles and Hexagons"
      ],
      "metadata": {
        "id": "dzRvnGf0-GOU"
      }
    },
    {
      "cell_type": "code",
      "source": [
        "dataset = torch.load('hexagon_812_final.pt')"
      ],
      "metadata": {
        "id": "N-TgB1dU-bxx"
      },
      "execution_count": 108,
      "outputs": []
    },
    {
      "cell_type": "code",
      "source": [
        "for i in range(len(dataset)):\n",
        "  a=pd.DataFrame(dataset[i].x.numpy()).drop([0,1],axis=1).to_numpy() #drop id\n",
        "  dataset[i].x=torch.from_numpy(a)"
      ],
      "metadata": {
        "id": "AVCYROl9-WiZ"
      },
      "execution_count": 109,
      "outputs": []
    },
    {
      "cell_type": "code",
      "source": [
        "import random\n",
        "random.shuffle(dataset)"
      ],
      "metadata": {
        "id": "2kqEG8oH9KcG"
      },
      "execution_count": 110,
      "outputs": []
    },
    {
      "cell_type": "code",
      "source": [
        "train_dataset = dataset[:650]\n",
        "test_dataset = dataset[650:]"
      ],
      "metadata": {
        "id": "8vgf7A129L1P"
      },
      "execution_count": 111,
      "outputs": []
    },
    {
      "cell_type": "code",
      "source": [
        "from torch_geometric.loader import DataLoader\n",
        "\n",
        "train_loader = DataLoader(train_dataset, batch_size=32, shuffle=True)\n",
        "test_loader = DataLoader(test_dataset, batch_size=32, shuffle=False)"
      ],
      "metadata": {
        "id": "TeS00DBn9NOG"
      },
      "execution_count": 112,
      "outputs": []
    },
    {
      "cell_type": "code",
      "source": [
        "from torch.nn import Linear\n",
        "import torch.nn.functional as F\n",
        "from torch_geometric.nn import GCNConv\n",
        "from torch_geometric.nn import global_mean_pool\n",
        "\n",
        "\n",
        "class GCN(torch.nn.Module):\n",
        "    def __init__(self, hidden_channels):\n",
        "        super(GCN, self).__init__()\n",
        "        torch.manual_seed(12345)\n",
        "        self.conv1 = GCNConv(4, hidden_channels)\n",
        "        self.conv2 = GCNConv(hidden_channels, hidden_channels)\n",
        "        self.conv3 = GCNConv(hidden_channels, hidden_channels)\n",
        "        self.lin = Linear(hidden_channels, 2)\n",
        "\n",
        "    def forward(self, x, edge_index, batch):\n",
        "        # 1. Obtain node embeddings \n",
        "        x = self.conv1(x, edge_index)\n",
        "        x = x.relu()\n",
        "        x = self.conv2(x, edge_index)\n",
        "        x = x.relu()\n",
        "        x = self.conv3(x, edge_index)\n",
        "\n",
        "        # 2. Readout layer\n",
        "        x = global_mean_pool(x, batch)  # [batch_size, hidden_channels]\n",
        "\n",
        "        # 3. Apply a final classifier\n",
        "        x = F.dropout(x, p=0.5, training=self.training)\n",
        "        x = self.lin(x)\n",
        "        \n",
        "        return x\n",
        "\n",
        "model = GCN(hidden_channels=64)\n",
        "print(model)"
      ],
      "metadata": {
        "colab": {
          "base_uri": "https://localhost:8080/"
        },
        "id": "pHvFjjh49PBc",
        "outputId": "8110f85b-4b58-474f-9199-79e5c403f7eb"
      },
      "execution_count": 113,
      "outputs": [
        {
          "output_type": "stream",
          "name": "stdout",
          "text": [
            "GCN(\n",
            "  (conv1): GCNConv(4, 64)\n",
            "  (conv2): GCNConv(64, 64)\n",
            "  (conv3): GCNConv(64, 64)\n",
            "  (lin): Linear(in_features=64, out_features=2, bias=True)\n",
            ")\n"
          ]
        }
      ]
    },
    {
      "cell_type": "code",
      "source": [
        "from IPython.display import Javascript\n",
        "display(Javascript('''google.colab.output.setIframeHeight(0, true, {maxHeight: 300})'''))\n",
        "\n",
        "model = GCN(hidden_channels=64)\n",
        "optimizer = torch.optim.Adam(model.parameters(), lr=0.03)\n",
        "criterion = torch.nn.CrossEntropyLoss()\n",
        "\n",
        "def train():\n",
        "    model.train()\n",
        "\n",
        "    for data in train_loader:  # Iterate in batches over the training dataset.\n",
        "         out = model(data.x.float(), data.edge_index, data.batch)  # Perform a single forward pass.\n",
        "         loss = criterion(out, data.y)  # Compute the loss.\n",
        "         loss.backward()  # Derive gradients.\n",
        "         optimizer.step()  # Update parameters based on gradients.\n",
        "         optimizer.zero_grad()  # Clear gradients.\n",
        "\n",
        "def test(loader):\n",
        "     model.eval()\n",
        "\n",
        "     correct = 0\n",
        "     for data in loader:  # Iterate in batches over the training/test dataset.\n",
        "         out = model(data.x.float(), data.edge_index, data.batch)  \n",
        "         pred = out.argmax(dim=1)  # Use the class with highest probability.\n",
        "         correct += int((pred == data.y).sum())  # Check against ground-truth labels.\n",
        "     return correct / len(loader.dataset)  # Derive ratio of correct predictions.\n",
        "\n",
        "\n",
        "for epoch in range(1, 100):\n",
        "    train()\n",
        "    train_acc = test(train_loader)\n",
        "    test_acc = test(test_loader)\n",
        "    print(f'Epoch: {epoch:03d}, Train Acc: {train_acc:.4f}, Test Acc: {test_acc:.4f}')"
      ],
      "metadata": {
        "colab": {
          "base_uri": "https://localhost:8080/",
          "height": 300
        },
        "id": "nZ3dMqP69Qwf",
        "outputId": "a4a25652-003b-4ce4-d21b-5b2a531799eb"
      },
      "execution_count": 114,
      "outputs": [
        {
          "output_type": "display_data",
          "data": {
            "text/plain": [
              "<IPython.core.display.Javascript object>"
            ],
            "application/javascript": [
              "google.colab.output.setIframeHeight(0, true, {maxHeight: 300})"
            ]
          },
          "metadata": {}
        },
        {
          "output_type": "stream",
          "name": "stdout",
          "text": [
            "Epoch: 001, Train Acc: 0.5015, Test Acc: 0.5432\n",
            "Epoch: 002, Train Acc: 0.4831, Test Acc: 0.5679\n",
            "Epoch: 003, Train Acc: 0.5169, Test Acc: 0.4321\n",
            "Epoch: 004, Train Acc: 0.4831, Test Acc: 0.5679\n",
            "Epoch: 005, Train Acc: 0.5169, Test Acc: 0.4321\n",
            "Epoch: 006, Train Acc: 0.5169, Test Acc: 0.4321\n",
            "Epoch: 007, Train Acc: 0.5169, Test Acc: 0.4321\n",
            "Epoch: 008, Train Acc: 0.5169, Test Acc: 0.4321\n",
            "Epoch: 009, Train Acc: 0.5169, Test Acc: 0.4321\n",
            "Epoch: 010, Train Acc: 0.5169, Test Acc: 0.4321\n",
            "Epoch: 011, Train Acc: 0.5169, Test Acc: 0.4321\n",
            "Epoch: 012, Train Acc: 0.5169, Test Acc: 0.4321\n",
            "Epoch: 013, Train Acc: 0.5169, Test Acc: 0.4321\n",
            "Epoch: 014, Train Acc: 0.5169, Test Acc: 0.4321\n",
            "Epoch: 015, Train Acc: 0.5169, Test Acc: 0.4321\n",
            "Epoch: 016, Train Acc: 0.4831, Test Acc: 0.5679\n",
            "Epoch: 017, Train Acc: 0.5169, Test Acc: 0.4321\n",
            "Epoch: 018, Train Acc: 0.5169, Test Acc: 0.4321\n",
            "Epoch: 019, Train Acc: 0.5169, Test Acc: 0.4321\n",
            "Epoch: 020, Train Acc: 0.5169, Test Acc: 0.4321\n",
            "Epoch: 021, Train Acc: 0.4831, Test Acc: 0.5679\n",
            "Epoch: 022, Train Acc: 0.4831, Test Acc: 0.5679\n",
            "Epoch: 023, Train Acc: 0.5169, Test Acc: 0.4321\n",
            "Epoch: 024, Train Acc: 0.4831, Test Acc: 0.5679\n",
            "Epoch: 025, Train Acc: 0.4831, Test Acc: 0.5679\n",
            "Epoch: 026, Train Acc: 0.5169, Test Acc: 0.4321\n",
            "Epoch: 027, Train Acc: 0.5169, Test Acc: 0.4321\n",
            "Epoch: 028, Train Acc: 0.5169, Test Acc: 0.4321\n",
            "Epoch: 029, Train Acc: 0.5169, Test Acc: 0.4321\n",
            "Epoch: 030, Train Acc: 0.5169, Test Acc: 0.4321\n",
            "Epoch: 031, Train Acc: 0.5169, Test Acc: 0.4321\n",
            "Epoch: 032, Train Acc: 0.4831, Test Acc: 0.5679\n",
            "Epoch: 033, Train Acc: 0.4831, Test Acc: 0.5679\n",
            "Epoch: 034, Train Acc: 0.5169, Test Acc: 0.4321\n",
            "Epoch: 035, Train Acc: 0.5169, Test Acc: 0.4321\n",
            "Epoch: 036, Train Acc: 0.5169, Test Acc: 0.4321\n",
            "Epoch: 037, Train Acc: 0.5169, Test Acc: 0.4321\n",
            "Epoch: 038, Train Acc: 0.4831, Test Acc: 0.5679\n",
            "Epoch: 039, Train Acc: 0.5169, Test Acc: 0.4321\n",
            "Epoch: 040, Train Acc: 0.4831, Test Acc: 0.5679\n",
            "Epoch: 041, Train Acc: 0.5169, Test Acc: 0.4321\n",
            "Epoch: 042, Train Acc: 0.5169, Test Acc: 0.4321\n",
            "Epoch: 043, Train Acc: 0.4831, Test Acc: 0.5679\n",
            "Epoch: 044, Train Acc: 0.5169, Test Acc: 0.4321\n",
            "Epoch: 045, Train Acc: 0.4831, Test Acc: 0.5679\n",
            "Epoch: 046, Train Acc: 0.5169, Test Acc: 0.4321\n",
            "Epoch: 047, Train Acc: 0.4831, Test Acc: 0.5679\n",
            "Epoch: 048, Train Acc: 0.5169, Test Acc: 0.4321\n",
            "Epoch: 049, Train Acc: 0.5169, Test Acc: 0.4321\n",
            "Epoch: 050, Train Acc: 0.4831, Test Acc: 0.5679\n",
            "Epoch: 051, Train Acc: 0.4831, Test Acc: 0.5679\n",
            "Epoch: 052, Train Acc: 0.5169, Test Acc: 0.4321\n",
            "Epoch: 053, Train Acc: 0.5169, Test Acc: 0.4321\n",
            "Epoch: 054, Train Acc: 0.5169, Test Acc: 0.4321\n",
            "Epoch: 055, Train Acc: 0.5169, Test Acc: 0.4321\n",
            "Epoch: 056, Train Acc: 0.5169, Test Acc: 0.4321\n",
            "Epoch: 057, Train Acc: 0.5169, Test Acc: 0.4321\n",
            "Epoch: 058, Train Acc: 0.5169, Test Acc: 0.4321\n",
            "Epoch: 059, Train Acc: 0.5169, Test Acc: 0.4321\n",
            "Epoch: 060, Train Acc: 0.5169, Test Acc: 0.4321\n",
            "Epoch: 061, Train Acc: 0.5169, Test Acc: 0.4321\n",
            "Epoch: 062, Train Acc: 0.5169, Test Acc: 0.4321\n",
            "Epoch: 063, Train Acc: 0.5169, Test Acc: 0.4321\n",
            "Epoch: 064, Train Acc: 0.5169, Test Acc: 0.4321\n",
            "Epoch: 065, Train Acc: 0.5169, Test Acc: 0.4321\n",
            "Epoch: 066, Train Acc: 0.5169, Test Acc: 0.4321\n",
            "Epoch: 067, Train Acc: 0.5169, Test Acc: 0.4321\n",
            "Epoch: 068, Train Acc: 0.5169, Test Acc: 0.4321\n",
            "Epoch: 069, Train Acc: 0.5169, Test Acc: 0.4321\n",
            "Epoch: 070, Train Acc: 0.5169, Test Acc: 0.4321\n",
            "Epoch: 071, Train Acc: 0.5169, Test Acc: 0.4321\n",
            "Epoch: 072, Train Acc: 0.5169, Test Acc: 0.4321\n",
            "Epoch: 073, Train Acc: 0.5169, Test Acc: 0.4321\n",
            "Epoch: 074, Train Acc: 0.5169, Test Acc: 0.4321\n",
            "Epoch: 075, Train Acc: 0.5169, Test Acc: 0.4321\n",
            "Epoch: 076, Train Acc: 0.5169, Test Acc: 0.4321\n",
            "Epoch: 077, Train Acc: 0.5169, Test Acc: 0.4321\n",
            "Epoch: 078, Train Acc: 0.5169, Test Acc: 0.4321\n",
            "Epoch: 079, Train Acc: 0.4831, Test Acc: 0.5679\n",
            "Epoch: 080, Train Acc: 0.5169, Test Acc: 0.4321\n",
            "Epoch: 081, Train Acc: 0.5169, Test Acc: 0.4321\n",
            "Epoch: 082, Train Acc: 0.4831, Test Acc: 0.5679\n",
            "Epoch: 083, Train Acc: 0.5169, Test Acc: 0.4321\n",
            "Epoch: 084, Train Acc: 0.5169, Test Acc: 0.4321\n",
            "Epoch: 085, Train Acc: 0.5169, Test Acc: 0.4321\n",
            "Epoch: 086, Train Acc: 0.5169, Test Acc: 0.4321\n",
            "Epoch: 087, Train Acc: 0.5169, Test Acc: 0.4321\n",
            "Epoch: 088, Train Acc: 0.5169, Test Acc: 0.4321\n",
            "Epoch: 089, Train Acc: 0.5169, Test Acc: 0.4321\n",
            "Epoch: 090, Train Acc: 0.4831, Test Acc: 0.5679\n",
            "Epoch: 091, Train Acc: 0.5169, Test Acc: 0.4321\n",
            "Epoch: 092, Train Acc: 0.5169, Test Acc: 0.4321\n",
            "Epoch: 093, Train Acc: 0.5169, Test Acc: 0.4321\n",
            "Epoch: 094, Train Acc: 0.5169, Test Acc: 0.4321\n",
            "Epoch: 095, Train Acc: 0.5169, Test Acc: 0.4321\n",
            "Epoch: 096, Train Acc: 0.5169, Test Acc: 0.4321\n",
            "Epoch: 097, Train Acc: 0.5169, Test Acc: 0.4321\n",
            "Epoch: 098, Train Acc: 0.5169, Test Acc: 0.4321\n",
            "Epoch: 099, Train Acc: 0.4831, Test Acc: 0.5679\n"
          ]
        }
      ]
    }
  ]
}
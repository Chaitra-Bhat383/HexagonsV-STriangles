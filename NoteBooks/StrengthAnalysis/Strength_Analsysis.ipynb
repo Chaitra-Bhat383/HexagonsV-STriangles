{
  "nbformat": 4,
  "nbformat_minor": 0,
  "metadata": {
    "colab": {
      "provenance": []
    },
    "kernelspec": {
      "name": "python3",
      "display_name": "Python 3"
    },
    "language_info": {
      "name": "python"
    }
  },
  "cells": [
    {
      "cell_type": "markdown",
      "source": [
        "# Strength Analysis"
      ],
      "metadata": {
        "id": "CmFBK0GswRBI"
      }
    },
    {
      "cell_type": "code",
      "execution_count": null,
      "metadata": {
        "id": "q_gtTFW4g4Nm"
      },
      "outputs": [],
      "source": [
        "import codecs\n",
        "import os\n",
        "import spacy\n",
        "import json\n",
        "import pandas as pd\n",
        "import numpy as np\n",
        "import networkx as nx\n",
        "import matplotlib.pyplot as plt\n",
        "from pathlib import Path\n",
        "from nltk.tokenize import sent_tokenize\n",
        "from sklearn.feature_extraction.text import CountVectorizer"
      ]
    },
    {
      "cell_type": "code",
      "source": [
        "print(pd.__version__)\n",
        "print(np.__version__)\n",
        "print(nx.__version__)"
      ],
      "metadata": {
        "colab": {
          "base_uri": "https://localhost:8080/"
        },
        "id": "ftNihLahXz7G",
        "outputId": "7020cff4-183a-4b36-c895-3aa7fe09cdde"
      },
      "execution_count": null,
      "outputs": [
        {
          "output_type": "stream",
          "name": "stdout",
          "text": [
            "1.5.3\n",
            "1.22.4\n",
            "3.1\n"
          ]
        }
      ]
    },
    {
      "cell_type": "markdown",
      "source": [
        "# Graph Construction"
      ],
      "metadata": {
        "id": "G18yvZcdvBRX"
      }
    },
    {
      "cell_type": "code",
      "source": [
        "# Load the data\n",
        "f = open(\"/content/Harry Potter 1 Sorcerer's_Stone.txt\", \"r\")\n",
        "HarryPotter = f.read()"
      ],
      "metadata": {
        "id": "Nr_RniIEg80Z"
      },
      "execution_count": null,
      "outputs": []
    },
    {
      "cell_type": "code",
      "source": [
        "characters = [\"Harry\",\n",
        "\"Hermione\",\n",
        "\"Ron\",\n",
        "\"Dumbledore\",\n",
        "\"Voldemort\",\n",
        "\"Hagrid\",\n",
        "\"Draco\",\n",
        "\"McGonagall\",\n",
        "\"Snape\",\n",
        "\"Quirrell\",\n",
        "\"Neville\",\n",
        "\"Vernon\",\n",
        "\"Petunia\",\n",
        "\"Dudley\",\n",
        "\"Hedwig\",\n",
        "\"Fred\",\n",
        "\"George\",\n",
        "\"Lily\",\n",
        "\"James\",\n",
        "\"Sorting Hat\",\n",
        "\"Oliver Wood\",\n",
        "\"Filch\",\n",
        "\"Seamus\",\n",
        "\"Goyle\",\n",
        "\"Crabbe\",\n",
        "\"Ginny\",\n",
        "\"Griphook\",\n",
        "\"Ollivander\"\n",
        "]"
      ],
      "metadata": {
        "id": "ygSD4oIfhGVu"
      },
      "execution_count": null,
      "outputs": []
    },
    {
      "cell_type": "code",
      "source": [
        "HarryPotter = HarryPotter.replace('Harry Potter', 'Harry')\n",
        "HarryPotter = HarryPotter.replace('Granger','Hermione')\n",
        "HarryPotter = HarryPotter.replace('Potter', 'Harry')\n",
        "HarryPotter = HarryPotter.replace('Ron Weasley', 'Ron')\n",
        "HarryPotter = HarryPotter.replace('Hermione Granger','Hermione')\n",
        "HarryPotter = HarryPotter.replace('Draco Malfoy', 'Draco')\n",
        "HarryPotter = HarryPotter.replace('Malfoy','Draco')\n",
        "HarryPotter = HarryPotter.replace('Albus Dumbledore', 'Dumbledore')\n",
        "HarryPotter = HarryPotter.replace('Albus','Dubmledore')\n",
        "HarryPotter = HarryPotter.replace('Rubeus Hagrid', 'Hagrid')\n",
        "HarryPotter = HarryPotter.replace('Rubeus','Hagrid')\n",
        "HarryPotter = HarryPotter.replace('You-Know-Who', 'Voldemort')\n",
        "HarryPotter = HarryPotter.replace('You- Know-Who','Voldemort')\n",
        "HarryPotter = HarryPotter.replace('He-Who-Must-Not-Be-Named','Voldemort')"
      ],
      "metadata": {
        "id": "6nYaLT3thHey"
      },
      "execution_count": null,
      "outputs": []
    },
    {
      "cell_type": "code",
      "source": [
        "char_df = pd.DataFrame(0, index=characters, columns=characters)\n",
        "char_df.head()"
      ],
      "metadata": {
        "colab": {
          "base_uri": "https://localhost:8080/",
          "height": 236
        },
        "id": "Fl_g5to_hIs5",
        "outputId": "96ff2897-62e7-4bfd-8187-69d587081bda"
      },
      "execution_count": null,
      "outputs": [
        {
          "output_type": "execute_result",
          "data": {
            "text/plain": [
              "            Harry  Hermione  Ron  Dumbledore  Voldemort  Hagrid  Draco  \\\n",
              "Harry           0         0    0           0          0       0      0   \n",
              "Hermione        0         0    0           0          0       0      0   \n",
              "Ron             0         0    0           0          0       0      0   \n",
              "Dumbledore      0         0    0           0          0       0      0   \n",
              "Voldemort       0         0    0           0          0       0      0   \n",
              "\n",
              "            McGonagall  Snape  Quirrell  ...  James  Sorting Hat  Oliver Wood  \\\n",
              "Harry                0      0         0  ...      0            0            0   \n",
              "Hermione             0      0         0  ...      0            0            0   \n",
              "Ron                  0      0         0  ...      0            0            0   \n",
              "Dumbledore           0      0         0  ...      0            0            0   \n",
              "Voldemort            0      0         0  ...      0            0            0   \n",
              "\n",
              "            Filch  Seamus  Goyle  Crabbe  Ginny  Griphook  Ollivander  \n",
              "Harry           0       0      0       0      0         0           0  \n",
              "Hermione        0       0      0       0      0         0           0  \n",
              "Ron             0       0      0       0      0         0           0  \n",
              "Dumbledore      0       0      0       0      0         0           0  \n",
              "Voldemort       0       0      0       0      0         0           0  \n",
              "\n",
              "[5 rows x 28 columns]"
            ],
            "text/html": [
              "\n",
              "  <div id=\"df-153b54fd-a450-4a33-9c04-9eece7b41e1d\">\n",
              "    <div class=\"colab-df-container\">\n",
              "      <div>\n",
              "<style scoped>\n",
              "    .dataframe tbody tr th:only-of-type {\n",
              "        vertical-align: middle;\n",
              "    }\n",
              "\n",
              "    .dataframe tbody tr th {\n",
              "        vertical-align: top;\n",
              "    }\n",
              "\n",
              "    .dataframe thead th {\n",
              "        text-align: right;\n",
              "    }\n",
              "</style>\n",
              "<table border=\"1\" class=\"dataframe\">\n",
              "  <thead>\n",
              "    <tr style=\"text-align: right;\">\n",
              "      <th></th>\n",
              "      <th>Harry</th>\n",
              "      <th>Hermione</th>\n",
              "      <th>Ron</th>\n",
              "      <th>Dumbledore</th>\n",
              "      <th>Voldemort</th>\n",
              "      <th>Hagrid</th>\n",
              "      <th>Draco</th>\n",
              "      <th>McGonagall</th>\n",
              "      <th>Snape</th>\n",
              "      <th>Quirrell</th>\n",
              "      <th>...</th>\n",
              "      <th>James</th>\n",
              "      <th>Sorting Hat</th>\n",
              "      <th>Oliver Wood</th>\n",
              "      <th>Filch</th>\n",
              "      <th>Seamus</th>\n",
              "      <th>Goyle</th>\n",
              "      <th>Crabbe</th>\n",
              "      <th>Ginny</th>\n",
              "      <th>Griphook</th>\n",
              "      <th>Ollivander</th>\n",
              "    </tr>\n",
              "  </thead>\n",
              "  <tbody>\n",
              "    <tr>\n",
              "      <th>Harry</th>\n",
              "      <td>0</td>\n",
              "      <td>0</td>\n",
              "      <td>0</td>\n",
              "      <td>0</td>\n",
              "      <td>0</td>\n",
              "      <td>0</td>\n",
              "      <td>0</td>\n",
              "      <td>0</td>\n",
              "      <td>0</td>\n",
              "      <td>0</td>\n",
              "      <td>...</td>\n",
              "      <td>0</td>\n",
              "      <td>0</td>\n",
              "      <td>0</td>\n",
              "      <td>0</td>\n",
              "      <td>0</td>\n",
              "      <td>0</td>\n",
              "      <td>0</td>\n",
              "      <td>0</td>\n",
              "      <td>0</td>\n",
              "      <td>0</td>\n",
              "    </tr>\n",
              "    <tr>\n",
              "      <th>Hermione</th>\n",
              "      <td>0</td>\n",
              "      <td>0</td>\n",
              "      <td>0</td>\n",
              "      <td>0</td>\n",
              "      <td>0</td>\n",
              "      <td>0</td>\n",
              "      <td>0</td>\n",
              "      <td>0</td>\n",
              "      <td>0</td>\n",
              "      <td>0</td>\n",
              "      <td>...</td>\n",
              "      <td>0</td>\n",
              "      <td>0</td>\n",
              "      <td>0</td>\n",
              "      <td>0</td>\n",
              "      <td>0</td>\n",
              "      <td>0</td>\n",
              "      <td>0</td>\n",
              "      <td>0</td>\n",
              "      <td>0</td>\n",
              "      <td>0</td>\n",
              "    </tr>\n",
              "    <tr>\n",
              "      <th>Ron</th>\n",
              "      <td>0</td>\n",
              "      <td>0</td>\n",
              "      <td>0</td>\n",
              "      <td>0</td>\n",
              "      <td>0</td>\n",
              "      <td>0</td>\n",
              "      <td>0</td>\n",
              "      <td>0</td>\n",
              "      <td>0</td>\n",
              "      <td>0</td>\n",
              "      <td>...</td>\n",
              "      <td>0</td>\n",
              "      <td>0</td>\n",
              "      <td>0</td>\n",
              "      <td>0</td>\n",
              "      <td>0</td>\n",
              "      <td>0</td>\n",
              "      <td>0</td>\n",
              "      <td>0</td>\n",
              "      <td>0</td>\n",
              "      <td>0</td>\n",
              "    </tr>\n",
              "    <tr>\n",
              "      <th>Dumbledore</th>\n",
              "      <td>0</td>\n",
              "      <td>0</td>\n",
              "      <td>0</td>\n",
              "      <td>0</td>\n",
              "      <td>0</td>\n",
              "      <td>0</td>\n",
              "      <td>0</td>\n",
              "      <td>0</td>\n",
              "      <td>0</td>\n",
              "      <td>0</td>\n",
              "      <td>...</td>\n",
              "      <td>0</td>\n",
              "      <td>0</td>\n",
              "      <td>0</td>\n",
              "      <td>0</td>\n",
              "      <td>0</td>\n",
              "      <td>0</td>\n",
              "      <td>0</td>\n",
              "      <td>0</td>\n",
              "      <td>0</td>\n",
              "      <td>0</td>\n",
              "    </tr>\n",
              "    <tr>\n",
              "      <th>Voldemort</th>\n",
              "      <td>0</td>\n",
              "      <td>0</td>\n",
              "      <td>0</td>\n",
              "      <td>0</td>\n",
              "      <td>0</td>\n",
              "      <td>0</td>\n",
              "      <td>0</td>\n",
              "      <td>0</td>\n",
              "      <td>0</td>\n",
              "      <td>0</td>\n",
              "      <td>...</td>\n",
              "      <td>0</td>\n",
              "      <td>0</td>\n",
              "      <td>0</td>\n",
              "      <td>0</td>\n",
              "      <td>0</td>\n",
              "      <td>0</td>\n",
              "      <td>0</td>\n",
              "      <td>0</td>\n",
              "      <td>0</td>\n",
              "      <td>0</td>\n",
              "    </tr>\n",
              "  </tbody>\n",
              "</table>\n",
              "<p>5 rows × 28 columns</p>\n",
              "</div>\n",
              "      <button class=\"colab-df-convert\" onclick=\"convertToInteractive('df-153b54fd-a450-4a33-9c04-9eece7b41e1d')\"\n",
              "              title=\"Convert this dataframe to an interactive table.\"\n",
              "              style=\"display:none;\">\n",
              "        \n",
              "  <svg xmlns=\"http://www.w3.org/2000/svg\" height=\"24px\"viewBox=\"0 0 24 24\"\n",
              "       width=\"24px\">\n",
              "    <path d=\"M0 0h24v24H0V0z\" fill=\"none\"/>\n",
              "    <path d=\"M18.56 5.44l.94 2.06.94-2.06 2.06-.94-2.06-.94-.94-2.06-.94 2.06-2.06.94zm-11 1L8.5 8.5l.94-2.06 2.06-.94-2.06-.94L8.5 2.5l-.94 2.06-2.06.94zm10 10l.94 2.06.94-2.06 2.06-.94-2.06-.94-.94-2.06-.94 2.06-2.06.94z\"/><path d=\"M17.41 7.96l-1.37-1.37c-.4-.4-.92-.59-1.43-.59-.52 0-1.04.2-1.43.59L10.3 9.45l-7.72 7.72c-.78.78-.78 2.05 0 2.83L4 21.41c.39.39.9.59 1.41.59.51 0 1.02-.2 1.41-.59l7.78-7.78 2.81-2.81c.8-.78.8-2.07 0-2.86zM5.41 20L4 18.59l7.72-7.72 1.47 1.35L5.41 20z\"/>\n",
              "  </svg>\n",
              "      </button>\n",
              "      \n",
              "  <style>\n",
              "    .colab-df-container {\n",
              "      display:flex;\n",
              "      flex-wrap:wrap;\n",
              "      gap: 12px;\n",
              "    }\n",
              "\n",
              "    .colab-df-convert {\n",
              "      background-color: #E8F0FE;\n",
              "      border: none;\n",
              "      border-radius: 50%;\n",
              "      cursor: pointer;\n",
              "      display: none;\n",
              "      fill: #1967D2;\n",
              "      height: 32px;\n",
              "      padding: 0 0 0 0;\n",
              "      width: 32px;\n",
              "    }\n",
              "\n",
              "    .colab-df-convert:hover {\n",
              "      background-color: #E2EBFA;\n",
              "      box-shadow: 0px 1px 2px rgba(60, 64, 67, 0.3), 0px 1px 3px 1px rgba(60, 64, 67, 0.15);\n",
              "      fill: #174EA6;\n",
              "    }\n",
              "\n",
              "    [theme=dark] .colab-df-convert {\n",
              "      background-color: #3B4455;\n",
              "      fill: #D2E3FC;\n",
              "    }\n",
              "\n",
              "    [theme=dark] .colab-df-convert:hover {\n",
              "      background-color: #434B5C;\n",
              "      box-shadow: 0px 1px 3px 1px rgba(0, 0, 0, 0.15);\n",
              "      filter: drop-shadow(0px 1px 2px rgba(0, 0, 0, 0.3));\n",
              "      fill: #FFFFFF;\n",
              "    }\n",
              "  </style>\n",
              "\n",
              "      <script>\n",
              "        const buttonEl =\n",
              "          document.querySelector('#df-153b54fd-a450-4a33-9c04-9eece7b41e1d button.colab-df-convert');\n",
              "        buttonEl.style.display =\n",
              "          google.colab.kernel.accessAllowed ? 'block' : 'none';\n",
              "\n",
              "        async function convertToInteractive(key) {\n",
              "          const element = document.querySelector('#df-153b54fd-a450-4a33-9c04-9eece7b41e1d');\n",
              "          const dataTable =\n",
              "            await google.colab.kernel.invokeFunction('convertToInteractive',\n",
              "                                                     [key], {});\n",
              "          if (!dataTable) return;\n",
              "\n",
              "          const docLinkHtml = 'Like what you see? Visit the ' +\n",
              "            '<a target=\"_blank\" href=https://colab.research.google.com/notebooks/data_table.ipynb>data table notebook</a>'\n",
              "            + ' to learn more about interactive tables.';\n",
              "          element.innerHTML = '';\n",
              "          dataTable['output_type'] = 'display_data';\n",
              "          await google.colab.output.renderOutput(dataTable, element);\n",
              "          const docLink = document.createElement('div');\n",
              "          docLink.innerHTML = docLinkHtml;\n",
              "          element.appendChild(docLink);\n",
              "        }\n",
              "      </script>\n",
              "    </div>\n",
              "  </div>\n",
              "  "
            ]
          },
          "metadata": {},
          "execution_count": 5
        }
      ]
    },
    {
      "cell_type": "code",
      "source": [
        "import nltk\n",
        "nltk.download('punkt')"
      ],
      "metadata": {
        "colab": {
          "base_uri": "https://localhost:8080/"
        },
        "id": "2kj4hOYChLKH",
        "outputId": "77b1aeac-e836-47d8-a0f1-247bd1b67124"
      },
      "execution_count": null,
      "outputs": [
        {
          "output_type": "stream",
          "name": "stderr",
          "text": [
            "[nltk_data] Downloading package punkt to /root/nltk_data...\n",
            "[nltk_data]   Unzipping tokenizers/punkt.zip.\n"
          ]
        },
        {
          "output_type": "execute_result",
          "data": {
            "text/plain": [
              "True"
            ]
          },
          "metadata": {},
          "execution_count": 6
        }
      ]
    },
    {
      "cell_type": "code",
      "source": [
        "sentences = sent_tokenize(HarryPotter)\n",
        "print(len(sentences))"
      ],
      "metadata": {
        "colab": {
          "base_uri": "https://localhost:8080/"
        },
        "id": "LwAIutzmhMam",
        "outputId": "7a1c56ff-5059-4b05-d4ed-fac4e9e08378"
      },
      "execution_count": null,
      "outputs": [
        {
          "output_type": "stream",
          "name": "stdout",
          "text": [
            "6394\n"
          ]
        }
      ]
    },
    {
      "cell_type": "code",
      "source": [
        "for sentence in sentences:\n",
        "    for char1 in characters:\n",
        "        for char2 in characters:\n",
        "            if (char1 != char2) and char1 in sentence and char2 in sentence:\n",
        "                char_df[char1][char2] += 1\n",
        "                char_df[char2][char1] += 1\n",
        "\n",
        "char_df.head()"
      ],
      "metadata": {
        "colab": {
          "base_uri": "https://localhost:8080/",
          "height": 236
        },
        "id": "f4UON50vhODz",
        "outputId": "041acf18-9758-441a-e2d3-395aa451e284"
      },
      "execution_count": null,
      "outputs": [
        {
          "output_type": "execute_result",
          "data": {
            "text/plain": [
              "            Harry  Hermione  Ron  Dumbledore  Voldemort  Hagrid  Draco  \\\n",
              "Harry           0       164  302          50         22     150     68   \n",
              "Hermione      164         0  152           4          0      22     10   \n",
              "Ron           302       152    0          10          6      48     30   \n",
              "Dumbledore     50         4   10           0          8      18      2   \n",
              "Voldemort      22         0    6           8          0       6      0   \n",
              "\n",
              "            McGonagall  Snape  Quirrell  ...  James  Sorting Hat  Oliver Wood  \\\n",
              "Harry               38     74        50  ...      8            0            2   \n",
              "Hermione             6     22         6  ...      0            0            0   \n",
              "Ron                  8     24         4  ...      0            0            0   \n",
              "Dumbledore          20      4         2  ...      2            0            0   \n",
              "Voldemort            0     10        12  ...      0            0            0   \n",
              "\n",
              "            Filch  Seamus  Goyle  Crabbe  Ginny  Griphook  Ollivander  \n",
              "Harry          18      18     10      10      0         2          14  \n",
              "Hermione        0       2      2       2      0         0           0  \n",
              "Ron             0       2      8       6      2         0           0  \n",
              "Dumbledore      0       0      0       0      0         0           0  \n",
              "Voldemort       0       0      0       0      0         0           0  \n",
              "\n",
              "[5 rows x 28 columns]"
            ],
            "text/html": [
              "\n",
              "  <div id=\"df-806369a1-e0fe-4c20-af34-2c0a2200a41d\">\n",
              "    <div class=\"colab-df-container\">\n",
              "      <div>\n",
              "<style scoped>\n",
              "    .dataframe tbody tr th:only-of-type {\n",
              "        vertical-align: middle;\n",
              "    }\n",
              "\n",
              "    .dataframe tbody tr th {\n",
              "        vertical-align: top;\n",
              "    }\n",
              "\n",
              "    .dataframe thead th {\n",
              "        text-align: right;\n",
              "    }\n",
              "</style>\n",
              "<table border=\"1\" class=\"dataframe\">\n",
              "  <thead>\n",
              "    <tr style=\"text-align: right;\">\n",
              "      <th></th>\n",
              "      <th>Harry</th>\n",
              "      <th>Hermione</th>\n",
              "      <th>Ron</th>\n",
              "      <th>Dumbledore</th>\n",
              "      <th>Voldemort</th>\n",
              "      <th>Hagrid</th>\n",
              "      <th>Draco</th>\n",
              "      <th>McGonagall</th>\n",
              "      <th>Snape</th>\n",
              "      <th>Quirrell</th>\n",
              "      <th>...</th>\n",
              "      <th>James</th>\n",
              "      <th>Sorting Hat</th>\n",
              "      <th>Oliver Wood</th>\n",
              "      <th>Filch</th>\n",
              "      <th>Seamus</th>\n",
              "      <th>Goyle</th>\n",
              "      <th>Crabbe</th>\n",
              "      <th>Ginny</th>\n",
              "      <th>Griphook</th>\n",
              "      <th>Ollivander</th>\n",
              "    </tr>\n",
              "  </thead>\n",
              "  <tbody>\n",
              "    <tr>\n",
              "      <th>Harry</th>\n",
              "      <td>0</td>\n",
              "      <td>164</td>\n",
              "      <td>302</td>\n",
              "      <td>50</td>\n",
              "      <td>22</td>\n",
              "      <td>150</td>\n",
              "      <td>68</td>\n",
              "      <td>38</td>\n",
              "      <td>74</td>\n",
              "      <td>50</td>\n",
              "      <td>...</td>\n",
              "      <td>8</td>\n",
              "      <td>0</td>\n",
              "      <td>2</td>\n",
              "      <td>18</td>\n",
              "      <td>18</td>\n",
              "      <td>10</td>\n",
              "      <td>10</td>\n",
              "      <td>0</td>\n",
              "      <td>2</td>\n",
              "      <td>14</td>\n",
              "    </tr>\n",
              "    <tr>\n",
              "      <th>Hermione</th>\n",
              "      <td>164</td>\n",
              "      <td>0</td>\n",
              "      <td>152</td>\n",
              "      <td>4</td>\n",
              "      <td>0</td>\n",
              "      <td>22</td>\n",
              "      <td>10</td>\n",
              "      <td>6</td>\n",
              "      <td>22</td>\n",
              "      <td>6</td>\n",
              "      <td>...</td>\n",
              "      <td>0</td>\n",
              "      <td>0</td>\n",
              "      <td>0</td>\n",
              "      <td>0</td>\n",
              "      <td>2</td>\n",
              "      <td>2</td>\n",
              "      <td>2</td>\n",
              "      <td>0</td>\n",
              "      <td>0</td>\n",
              "      <td>0</td>\n",
              "    </tr>\n",
              "    <tr>\n",
              "      <th>Ron</th>\n",
              "      <td>302</td>\n",
              "      <td>152</td>\n",
              "      <td>0</td>\n",
              "      <td>10</td>\n",
              "      <td>6</td>\n",
              "      <td>48</td>\n",
              "      <td>30</td>\n",
              "      <td>8</td>\n",
              "      <td>24</td>\n",
              "      <td>4</td>\n",
              "      <td>...</td>\n",
              "      <td>0</td>\n",
              "      <td>0</td>\n",
              "      <td>0</td>\n",
              "      <td>0</td>\n",
              "      <td>2</td>\n",
              "      <td>8</td>\n",
              "      <td>6</td>\n",
              "      <td>2</td>\n",
              "      <td>0</td>\n",
              "      <td>0</td>\n",
              "    </tr>\n",
              "    <tr>\n",
              "      <th>Dumbledore</th>\n",
              "      <td>50</td>\n",
              "      <td>4</td>\n",
              "      <td>10</td>\n",
              "      <td>0</td>\n",
              "      <td>8</td>\n",
              "      <td>18</td>\n",
              "      <td>2</td>\n",
              "      <td>20</td>\n",
              "      <td>4</td>\n",
              "      <td>2</td>\n",
              "      <td>...</td>\n",
              "      <td>2</td>\n",
              "      <td>0</td>\n",
              "      <td>0</td>\n",
              "      <td>0</td>\n",
              "      <td>0</td>\n",
              "      <td>0</td>\n",
              "      <td>0</td>\n",
              "      <td>0</td>\n",
              "      <td>0</td>\n",
              "      <td>0</td>\n",
              "    </tr>\n",
              "    <tr>\n",
              "      <th>Voldemort</th>\n",
              "      <td>22</td>\n",
              "      <td>0</td>\n",
              "      <td>6</td>\n",
              "      <td>8</td>\n",
              "      <td>0</td>\n",
              "      <td>6</td>\n",
              "      <td>0</td>\n",
              "      <td>0</td>\n",
              "      <td>10</td>\n",
              "      <td>12</td>\n",
              "      <td>...</td>\n",
              "      <td>0</td>\n",
              "      <td>0</td>\n",
              "      <td>0</td>\n",
              "      <td>0</td>\n",
              "      <td>0</td>\n",
              "      <td>0</td>\n",
              "      <td>0</td>\n",
              "      <td>0</td>\n",
              "      <td>0</td>\n",
              "      <td>0</td>\n",
              "    </tr>\n",
              "  </tbody>\n",
              "</table>\n",
              "<p>5 rows × 28 columns</p>\n",
              "</div>\n",
              "      <button class=\"colab-df-convert\" onclick=\"convertToInteractive('df-806369a1-e0fe-4c20-af34-2c0a2200a41d')\"\n",
              "              title=\"Convert this dataframe to an interactive table.\"\n",
              "              style=\"display:none;\">\n",
              "        \n",
              "  <svg xmlns=\"http://www.w3.org/2000/svg\" height=\"24px\"viewBox=\"0 0 24 24\"\n",
              "       width=\"24px\">\n",
              "    <path d=\"M0 0h24v24H0V0z\" fill=\"none\"/>\n",
              "    <path d=\"M18.56 5.44l.94 2.06.94-2.06 2.06-.94-2.06-.94-.94-2.06-.94 2.06-2.06.94zm-11 1L8.5 8.5l.94-2.06 2.06-.94-2.06-.94L8.5 2.5l-.94 2.06-2.06.94zm10 10l.94 2.06.94-2.06 2.06-.94-2.06-.94-.94-2.06-.94 2.06-2.06.94z\"/><path d=\"M17.41 7.96l-1.37-1.37c-.4-.4-.92-.59-1.43-.59-.52 0-1.04.2-1.43.59L10.3 9.45l-7.72 7.72c-.78.78-.78 2.05 0 2.83L4 21.41c.39.39.9.59 1.41.59.51 0 1.02-.2 1.41-.59l7.78-7.78 2.81-2.81c.8-.78.8-2.07 0-2.86zM5.41 20L4 18.59l7.72-7.72 1.47 1.35L5.41 20z\"/>\n",
              "  </svg>\n",
              "      </button>\n",
              "      \n",
              "  <style>\n",
              "    .colab-df-container {\n",
              "      display:flex;\n",
              "      flex-wrap:wrap;\n",
              "      gap: 12px;\n",
              "    }\n",
              "\n",
              "    .colab-df-convert {\n",
              "      background-color: #E8F0FE;\n",
              "      border: none;\n",
              "      border-radius: 50%;\n",
              "      cursor: pointer;\n",
              "      display: none;\n",
              "      fill: #1967D2;\n",
              "      height: 32px;\n",
              "      padding: 0 0 0 0;\n",
              "      width: 32px;\n",
              "    }\n",
              "\n",
              "    .colab-df-convert:hover {\n",
              "      background-color: #E2EBFA;\n",
              "      box-shadow: 0px 1px 2px rgba(60, 64, 67, 0.3), 0px 1px 3px 1px rgba(60, 64, 67, 0.15);\n",
              "      fill: #174EA6;\n",
              "    }\n",
              "\n",
              "    [theme=dark] .colab-df-convert {\n",
              "      background-color: #3B4455;\n",
              "      fill: #D2E3FC;\n",
              "    }\n",
              "\n",
              "    [theme=dark] .colab-df-convert:hover {\n",
              "      background-color: #434B5C;\n",
              "      box-shadow: 0px 1px 3px 1px rgba(0, 0, 0, 0.15);\n",
              "      filter: drop-shadow(0px 1px 2px rgba(0, 0, 0, 0.3));\n",
              "      fill: #FFFFFF;\n",
              "    }\n",
              "  </style>\n",
              "\n",
              "      <script>\n",
              "        const buttonEl =\n",
              "          document.querySelector('#df-806369a1-e0fe-4c20-af34-2c0a2200a41d button.colab-df-convert');\n",
              "        buttonEl.style.display =\n",
              "          google.colab.kernel.accessAllowed ? 'block' : 'none';\n",
              "\n",
              "        async function convertToInteractive(key) {\n",
              "          const element = document.querySelector('#df-806369a1-e0fe-4c20-af34-2c0a2200a41d');\n",
              "          const dataTable =\n",
              "            await google.colab.kernel.invokeFunction('convertToInteractive',\n",
              "                                                     [key], {});\n",
              "          if (!dataTable) return;\n",
              "\n",
              "          const docLinkHtml = 'Like what you see? Visit the ' +\n",
              "            '<a target=\"_blank\" href=https://colab.research.google.com/notebooks/data_table.ipynb>data table notebook</a>'\n",
              "            + ' to learn more about interactive tables.';\n",
              "          element.innerHTML = '';\n",
              "          dataTable['output_type'] = 'display_data';\n",
              "          await google.colab.output.renderOutput(dataTable, element);\n",
              "          const docLink = document.createElement('div');\n",
              "          docLink.innerHTML = docLinkHtml;\n",
              "          element.appendChild(docLink);\n",
              "        }\n",
              "      </script>\n",
              "    </div>\n",
              "  </div>\n",
              "  "
            ]
          },
          "metadata": {},
          "execution_count": 8
        }
      ]
    },
    {
      "cell_type": "code",
      "source": [
        "G = nx.Graph()\n",
        "G = nx.from_pandas_adjacency(char_df)\n"
      ],
      "metadata": {
        "id": "iXGst9ichPZN"
      },
      "execution_count": null,
      "outputs": []
    },
    {
      "cell_type": "code",
      "source": [
        "newdf.head()"
      ],
      "metadata": {
        "colab": {
          "base_uri": "https://localhost:8080/",
          "height": 236
        },
        "id": "ch94FFpEwFQn",
        "outputId": "339da839-313a-4139-835b-3352e6212cff"
      },
      "execution_count": null,
      "outputs": [
        {
          "output_type": "execute_result",
          "data": {
            "text/plain": [
              "            Harry  Hermione  Ron  Dumbledore  Voldemort  Hagrid  Draco  \\\n",
              "Harry           0       164  302          50         22     150     68   \n",
              "Hermione      164         0  152           4          0      22     10   \n",
              "Ron           302       152    0          10          6      48     30   \n",
              "Dumbledore     50         4   10           0          8      18      2   \n",
              "Voldemort      22         0    6           8          0       6      0   \n",
              "\n",
              "            McGonagall  Snape  Quirrell  ...  James  Sorting Hat  Oliver Wood  \\\n",
              "Harry               38     74        50  ...      8            0            2   \n",
              "Hermione             6     22         6  ...      0            0            0   \n",
              "Ron                  8     24         4  ...      0            0            0   \n",
              "Dumbledore          20      4         2  ...      2            0            0   \n",
              "Voldemort            0     10        12  ...      0            0            0   \n",
              "\n",
              "            Filch  Seamus  Goyle  Crabbe  Ginny  Griphook  Ollivander  \n",
              "Harry          18      18     10      10      0         2          14  \n",
              "Hermione        0       2      2       2      0         0           0  \n",
              "Ron             0       2      8       6      2         0           0  \n",
              "Dumbledore      0       0      0       0      0         0           0  \n",
              "Voldemort       0       0      0       0      0         0           0  \n",
              "\n",
              "[5 rows x 28 columns]"
            ],
            "text/html": [
              "\n",
              "  <div id=\"df-8f6dca5c-d08b-422f-9be2-15a0aa526a97\">\n",
              "    <div class=\"colab-df-container\">\n",
              "      <div>\n",
              "<style scoped>\n",
              "    .dataframe tbody tr th:only-of-type {\n",
              "        vertical-align: middle;\n",
              "    }\n",
              "\n",
              "    .dataframe tbody tr th {\n",
              "        vertical-align: top;\n",
              "    }\n",
              "\n",
              "    .dataframe thead th {\n",
              "        text-align: right;\n",
              "    }\n",
              "</style>\n",
              "<table border=\"1\" class=\"dataframe\">\n",
              "  <thead>\n",
              "    <tr style=\"text-align: right;\">\n",
              "      <th></th>\n",
              "      <th>Harry</th>\n",
              "      <th>Hermione</th>\n",
              "      <th>Ron</th>\n",
              "      <th>Dumbledore</th>\n",
              "      <th>Voldemort</th>\n",
              "      <th>Hagrid</th>\n",
              "      <th>Draco</th>\n",
              "      <th>McGonagall</th>\n",
              "      <th>Snape</th>\n",
              "      <th>Quirrell</th>\n",
              "      <th>...</th>\n",
              "      <th>James</th>\n",
              "      <th>Sorting Hat</th>\n",
              "      <th>Oliver Wood</th>\n",
              "      <th>Filch</th>\n",
              "      <th>Seamus</th>\n",
              "      <th>Goyle</th>\n",
              "      <th>Crabbe</th>\n",
              "      <th>Ginny</th>\n",
              "      <th>Griphook</th>\n",
              "      <th>Ollivander</th>\n",
              "    </tr>\n",
              "  </thead>\n",
              "  <tbody>\n",
              "    <tr>\n",
              "      <th>Harry</th>\n",
              "      <td>0</td>\n",
              "      <td>164</td>\n",
              "      <td>302</td>\n",
              "      <td>50</td>\n",
              "      <td>22</td>\n",
              "      <td>150</td>\n",
              "      <td>68</td>\n",
              "      <td>38</td>\n",
              "      <td>74</td>\n",
              "      <td>50</td>\n",
              "      <td>...</td>\n",
              "      <td>8</td>\n",
              "      <td>0</td>\n",
              "      <td>2</td>\n",
              "      <td>18</td>\n",
              "      <td>18</td>\n",
              "      <td>10</td>\n",
              "      <td>10</td>\n",
              "      <td>0</td>\n",
              "      <td>2</td>\n",
              "      <td>14</td>\n",
              "    </tr>\n",
              "    <tr>\n",
              "      <th>Hermione</th>\n",
              "      <td>164</td>\n",
              "      <td>0</td>\n",
              "      <td>152</td>\n",
              "      <td>4</td>\n",
              "      <td>0</td>\n",
              "      <td>22</td>\n",
              "      <td>10</td>\n",
              "      <td>6</td>\n",
              "      <td>22</td>\n",
              "      <td>6</td>\n",
              "      <td>...</td>\n",
              "      <td>0</td>\n",
              "      <td>0</td>\n",
              "      <td>0</td>\n",
              "      <td>0</td>\n",
              "      <td>2</td>\n",
              "      <td>2</td>\n",
              "      <td>2</td>\n",
              "      <td>0</td>\n",
              "      <td>0</td>\n",
              "      <td>0</td>\n",
              "    </tr>\n",
              "    <tr>\n",
              "      <th>Ron</th>\n",
              "      <td>302</td>\n",
              "      <td>152</td>\n",
              "      <td>0</td>\n",
              "      <td>10</td>\n",
              "      <td>6</td>\n",
              "      <td>48</td>\n",
              "      <td>30</td>\n",
              "      <td>8</td>\n",
              "      <td>24</td>\n",
              "      <td>4</td>\n",
              "      <td>...</td>\n",
              "      <td>0</td>\n",
              "      <td>0</td>\n",
              "      <td>0</td>\n",
              "      <td>0</td>\n",
              "      <td>2</td>\n",
              "      <td>8</td>\n",
              "      <td>6</td>\n",
              "      <td>2</td>\n",
              "      <td>0</td>\n",
              "      <td>0</td>\n",
              "    </tr>\n",
              "    <tr>\n",
              "      <th>Dumbledore</th>\n",
              "      <td>50</td>\n",
              "      <td>4</td>\n",
              "      <td>10</td>\n",
              "      <td>0</td>\n",
              "      <td>8</td>\n",
              "      <td>18</td>\n",
              "      <td>2</td>\n",
              "      <td>20</td>\n",
              "      <td>4</td>\n",
              "      <td>2</td>\n",
              "      <td>...</td>\n",
              "      <td>2</td>\n",
              "      <td>0</td>\n",
              "      <td>0</td>\n",
              "      <td>0</td>\n",
              "      <td>0</td>\n",
              "      <td>0</td>\n",
              "      <td>0</td>\n",
              "      <td>0</td>\n",
              "      <td>0</td>\n",
              "      <td>0</td>\n",
              "    </tr>\n",
              "    <tr>\n",
              "      <th>Voldemort</th>\n",
              "      <td>22</td>\n",
              "      <td>0</td>\n",
              "      <td>6</td>\n",
              "      <td>8</td>\n",
              "      <td>0</td>\n",
              "      <td>6</td>\n",
              "      <td>0</td>\n",
              "      <td>0</td>\n",
              "      <td>10</td>\n",
              "      <td>12</td>\n",
              "      <td>...</td>\n",
              "      <td>0</td>\n",
              "      <td>0</td>\n",
              "      <td>0</td>\n",
              "      <td>0</td>\n",
              "      <td>0</td>\n",
              "      <td>0</td>\n",
              "      <td>0</td>\n",
              "      <td>0</td>\n",
              "      <td>0</td>\n",
              "      <td>0</td>\n",
              "    </tr>\n",
              "  </tbody>\n",
              "</table>\n",
              "<p>5 rows × 28 columns</p>\n",
              "</div>\n",
              "      <button class=\"colab-df-convert\" onclick=\"convertToInteractive('df-8f6dca5c-d08b-422f-9be2-15a0aa526a97')\"\n",
              "              title=\"Convert this dataframe to an interactive table.\"\n",
              "              style=\"display:none;\">\n",
              "        \n",
              "  <svg xmlns=\"http://www.w3.org/2000/svg\" height=\"24px\"viewBox=\"0 0 24 24\"\n",
              "       width=\"24px\">\n",
              "    <path d=\"M0 0h24v24H0V0z\" fill=\"none\"/>\n",
              "    <path d=\"M18.56 5.44l.94 2.06.94-2.06 2.06-.94-2.06-.94-.94-2.06-.94 2.06-2.06.94zm-11 1L8.5 8.5l.94-2.06 2.06-.94-2.06-.94L8.5 2.5l-.94 2.06-2.06.94zm10 10l.94 2.06.94-2.06 2.06-.94-2.06-.94-.94-2.06-.94 2.06-2.06.94z\"/><path d=\"M17.41 7.96l-1.37-1.37c-.4-.4-.92-.59-1.43-.59-.52 0-1.04.2-1.43.59L10.3 9.45l-7.72 7.72c-.78.78-.78 2.05 0 2.83L4 21.41c.39.39.9.59 1.41.59.51 0 1.02-.2 1.41-.59l7.78-7.78 2.81-2.81c.8-.78.8-2.07 0-2.86zM5.41 20L4 18.59l7.72-7.72 1.47 1.35L5.41 20z\"/>\n",
              "  </svg>\n",
              "      </button>\n",
              "      \n",
              "  <style>\n",
              "    .colab-df-container {\n",
              "      display:flex;\n",
              "      flex-wrap:wrap;\n",
              "      gap: 12px;\n",
              "    }\n",
              "\n",
              "    .colab-df-convert {\n",
              "      background-color: #E8F0FE;\n",
              "      border: none;\n",
              "      border-radius: 50%;\n",
              "      cursor: pointer;\n",
              "      display: none;\n",
              "      fill: #1967D2;\n",
              "      height: 32px;\n",
              "      padding: 0 0 0 0;\n",
              "      width: 32px;\n",
              "    }\n",
              "\n",
              "    .colab-df-convert:hover {\n",
              "      background-color: #E2EBFA;\n",
              "      box-shadow: 0px 1px 2px rgba(60, 64, 67, 0.3), 0px 1px 3px 1px rgba(60, 64, 67, 0.15);\n",
              "      fill: #174EA6;\n",
              "    }\n",
              "\n",
              "    [theme=dark] .colab-df-convert {\n",
              "      background-color: #3B4455;\n",
              "      fill: #D2E3FC;\n",
              "    }\n",
              "\n",
              "    [theme=dark] .colab-df-convert:hover {\n",
              "      background-color: #434B5C;\n",
              "      box-shadow: 0px 1px 3px 1px rgba(0, 0, 0, 0.15);\n",
              "      filter: drop-shadow(0px 1px 2px rgba(0, 0, 0, 0.3));\n",
              "      fill: #FFFFFF;\n",
              "    }\n",
              "  </style>\n",
              "\n",
              "      <script>\n",
              "        const buttonEl =\n",
              "          document.querySelector('#df-8f6dca5c-d08b-422f-9be2-15a0aa526a97 button.colab-df-convert');\n",
              "        buttonEl.style.display =\n",
              "          google.colab.kernel.accessAllowed ? 'block' : 'none';\n",
              "\n",
              "        async function convertToInteractive(key) {\n",
              "          const element = document.querySelector('#df-8f6dca5c-d08b-422f-9be2-15a0aa526a97');\n",
              "          const dataTable =\n",
              "            await google.colab.kernel.invokeFunction('convertToInteractive',\n",
              "                                                     [key], {});\n",
              "          if (!dataTable) return;\n",
              "\n",
              "          const docLinkHtml = 'Like what you see? Visit the ' +\n",
              "            '<a target=\"_blank\" href=https://colab.research.google.com/notebooks/data_table.ipynb>data table notebook</a>'\n",
              "            + ' to learn more about interactive tables.';\n",
              "          element.innerHTML = '';\n",
              "          dataTable['output_type'] = 'display_data';\n",
              "          await google.colab.output.renderOutput(dataTable, element);\n",
              "          const docLink = document.createElement('div');\n",
              "          docLink.innerHTML = docLinkHtml;\n",
              "          element.appendChild(docLink);\n",
              "        }\n",
              "      </script>\n",
              "    </div>\n",
              "  </div>\n",
              "  "
            ]
          },
          "metadata": {},
          "execution_count": 16
        }
      ]
    },
    {
      "cell_type": "code",
      "source": [
        "newdf=char_df.copy()"
      ],
      "metadata": {
        "id": "1JJrXyL6v_NI"
      },
      "execution_count": null,
      "outputs": []
    },
    {
      "cell_type": "code",
      "source": [
        "df=newdf.astype(bool).astype(int)\n",
        "df.head()"
      ],
      "metadata": {
        "colab": {
          "base_uri": "https://localhost:8080/",
          "height": 236
        },
        "id": "pYcWxqIxwBZy",
        "outputId": "428ccd27-ee91-4165-f321-b6978b3b585a"
      },
      "execution_count": null,
      "outputs": [
        {
          "output_type": "execute_result",
          "data": {
            "text/plain": [
              "            Harry  Hermione  Ron  Dumbledore  Voldemort  Hagrid  Draco  \\\n",
              "Harry           0         1    1           1          1       1      1   \n",
              "Hermione        1         0    1           1          0       1      1   \n",
              "Ron             1         1    0           1          1       1      1   \n",
              "Dumbledore      1         1    1           0          1       1      1   \n",
              "Voldemort       1         0    1           1          0       1      0   \n",
              "\n",
              "            McGonagall  Snape  Quirrell  ...  James  Sorting Hat  Oliver Wood  \\\n",
              "Harry                1      1         1  ...      1            0            1   \n",
              "Hermione             1      1         1  ...      0            0            0   \n",
              "Ron                  1      1         1  ...      0            0            0   \n",
              "Dumbledore           1      1         1  ...      1            0            0   \n",
              "Voldemort            0      1         1  ...      0            0            0   \n",
              "\n",
              "            Filch  Seamus  Goyle  Crabbe  Ginny  Griphook  Ollivander  \n",
              "Harry           1       1      1       1      0         1           1  \n",
              "Hermione        0       1      1       1      0         0           0  \n",
              "Ron             0       1      1       1      1         0           0  \n",
              "Dumbledore      0       0      0       0      0         0           0  \n",
              "Voldemort       0       0      0       0      0         0           0  \n",
              "\n",
              "[5 rows x 28 columns]"
            ],
            "text/html": [
              "\n",
              "  <div id=\"df-bd5f4573-9a4b-48f7-8771-779e168ce9b7\">\n",
              "    <div class=\"colab-df-container\">\n",
              "      <div>\n",
              "<style scoped>\n",
              "    .dataframe tbody tr th:only-of-type {\n",
              "        vertical-align: middle;\n",
              "    }\n",
              "\n",
              "    .dataframe tbody tr th {\n",
              "        vertical-align: top;\n",
              "    }\n",
              "\n",
              "    .dataframe thead th {\n",
              "        text-align: right;\n",
              "    }\n",
              "</style>\n",
              "<table border=\"1\" class=\"dataframe\">\n",
              "  <thead>\n",
              "    <tr style=\"text-align: right;\">\n",
              "      <th></th>\n",
              "      <th>Harry</th>\n",
              "      <th>Hermione</th>\n",
              "      <th>Ron</th>\n",
              "      <th>Dumbledore</th>\n",
              "      <th>Voldemort</th>\n",
              "      <th>Hagrid</th>\n",
              "      <th>Draco</th>\n",
              "      <th>McGonagall</th>\n",
              "      <th>Snape</th>\n",
              "      <th>Quirrell</th>\n",
              "      <th>...</th>\n",
              "      <th>James</th>\n",
              "      <th>Sorting Hat</th>\n",
              "      <th>Oliver Wood</th>\n",
              "      <th>Filch</th>\n",
              "      <th>Seamus</th>\n",
              "      <th>Goyle</th>\n",
              "      <th>Crabbe</th>\n",
              "      <th>Ginny</th>\n",
              "      <th>Griphook</th>\n",
              "      <th>Ollivander</th>\n",
              "    </tr>\n",
              "  </thead>\n",
              "  <tbody>\n",
              "    <tr>\n",
              "      <th>Harry</th>\n",
              "      <td>0</td>\n",
              "      <td>1</td>\n",
              "      <td>1</td>\n",
              "      <td>1</td>\n",
              "      <td>1</td>\n",
              "      <td>1</td>\n",
              "      <td>1</td>\n",
              "      <td>1</td>\n",
              "      <td>1</td>\n",
              "      <td>1</td>\n",
              "      <td>...</td>\n",
              "      <td>1</td>\n",
              "      <td>0</td>\n",
              "      <td>1</td>\n",
              "      <td>1</td>\n",
              "      <td>1</td>\n",
              "      <td>1</td>\n",
              "      <td>1</td>\n",
              "      <td>0</td>\n",
              "      <td>1</td>\n",
              "      <td>1</td>\n",
              "    </tr>\n",
              "    <tr>\n",
              "      <th>Hermione</th>\n",
              "      <td>1</td>\n",
              "      <td>0</td>\n",
              "      <td>1</td>\n",
              "      <td>1</td>\n",
              "      <td>0</td>\n",
              "      <td>1</td>\n",
              "      <td>1</td>\n",
              "      <td>1</td>\n",
              "      <td>1</td>\n",
              "      <td>1</td>\n",
              "      <td>...</td>\n",
              "      <td>0</td>\n",
              "      <td>0</td>\n",
              "      <td>0</td>\n",
              "      <td>0</td>\n",
              "      <td>1</td>\n",
              "      <td>1</td>\n",
              "      <td>1</td>\n",
              "      <td>0</td>\n",
              "      <td>0</td>\n",
              "      <td>0</td>\n",
              "    </tr>\n",
              "    <tr>\n",
              "      <th>Ron</th>\n",
              "      <td>1</td>\n",
              "      <td>1</td>\n",
              "      <td>0</td>\n",
              "      <td>1</td>\n",
              "      <td>1</td>\n",
              "      <td>1</td>\n",
              "      <td>1</td>\n",
              "      <td>1</td>\n",
              "      <td>1</td>\n",
              "      <td>1</td>\n",
              "      <td>...</td>\n",
              "      <td>0</td>\n",
              "      <td>0</td>\n",
              "      <td>0</td>\n",
              "      <td>0</td>\n",
              "      <td>1</td>\n",
              "      <td>1</td>\n",
              "      <td>1</td>\n",
              "      <td>1</td>\n",
              "      <td>0</td>\n",
              "      <td>0</td>\n",
              "    </tr>\n",
              "    <tr>\n",
              "      <th>Dumbledore</th>\n",
              "      <td>1</td>\n",
              "      <td>1</td>\n",
              "      <td>1</td>\n",
              "      <td>0</td>\n",
              "      <td>1</td>\n",
              "      <td>1</td>\n",
              "      <td>1</td>\n",
              "      <td>1</td>\n",
              "      <td>1</td>\n",
              "      <td>1</td>\n",
              "      <td>...</td>\n",
              "      <td>1</td>\n",
              "      <td>0</td>\n",
              "      <td>0</td>\n",
              "      <td>0</td>\n",
              "      <td>0</td>\n",
              "      <td>0</td>\n",
              "      <td>0</td>\n",
              "      <td>0</td>\n",
              "      <td>0</td>\n",
              "      <td>0</td>\n",
              "    </tr>\n",
              "    <tr>\n",
              "      <th>Voldemort</th>\n",
              "      <td>1</td>\n",
              "      <td>0</td>\n",
              "      <td>1</td>\n",
              "      <td>1</td>\n",
              "      <td>0</td>\n",
              "      <td>1</td>\n",
              "      <td>0</td>\n",
              "      <td>0</td>\n",
              "      <td>1</td>\n",
              "      <td>1</td>\n",
              "      <td>...</td>\n",
              "      <td>0</td>\n",
              "      <td>0</td>\n",
              "      <td>0</td>\n",
              "      <td>0</td>\n",
              "      <td>0</td>\n",
              "      <td>0</td>\n",
              "      <td>0</td>\n",
              "      <td>0</td>\n",
              "      <td>0</td>\n",
              "      <td>0</td>\n",
              "    </tr>\n",
              "  </tbody>\n",
              "</table>\n",
              "<p>5 rows × 28 columns</p>\n",
              "</div>\n",
              "      <button class=\"colab-df-convert\" onclick=\"convertToInteractive('df-bd5f4573-9a4b-48f7-8771-779e168ce9b7')\"\n",
              "              title=\"Convert this dataframe to an interactive table.\"\n",
              "              style=\"display:none;\">\n",
              "        \n",
              "  <svg xmlns=\"http://www.w3.org/2000/svg\" height=\"24px\"viewBox=\"0 0 24 24\"\n",
              "       width=\"24px\">\n",
              "    <path d=\"M0 0h24v24H0V0z\" fill=\"none\"/>\n",
              "    <path d=\"M18.56 5.44l.94 2.06.94-2.06 2.06-.94-2.06-.94-.94-2.06-.94 2.06-2.06.94zm-11 1L8.5 8.5l.94-2.06 2.06-.94-2.06-.94L8.5 2.5l-.94 2.06-2.06.94zm10 10l.94 2.06.94-2.06 2.06-.94-2.06-.94-.94-2.06-.94 2.06-2.06.94z\"/><path d=\"M17.41 7.96l-1.37-1.37c-.4-.4-.92-.59-1.43-.59-.52 0-1.04.2-1.43.59L10.3 9.45l-7.72 7.72c-.78.78-.78 2.05 0 2.83L4 21.41c.39.39.9.59 1.41.59.51 0 1.02-.2 1.41-.59l7.78-7.78 2.81-2.81c.8-.78.8-2.07 0-2.86zM5.41 20L4 18.59l7.72-7.72 1.47 1.35L5.41 20z\"/>\n",
              "  </svg>\n",
              "      </button>\n",
              "      \n",
              "  <style>\n",
              "    .colab-df-container {\n",
              "      display:flex;\n",
              "      flex-wrap:wrap;\n",
              "      gap: 12px;\n",
              "    }\n",
              "\n",
              "    .colab-df-convert {\n",
              "      background-color: #E8F0FE;\n",
              "      border: none;\n",
              "      border-radius: 50%;\n",
              "      cursor: pointer;\n",
              "      display: none;\n",
              "      fill: #1967D2;\n",
              "      height: 32px;\n",
              "      padding: 0 0 0 0;\n",
              "      width: 32px;\n",
              "    }\n",
              "\n",
              "    .colab-df-convert:hover {\n",
              "      background-color: #E2EBFA;\n",
              "      box-shadow: 0px 1px 2px rgba(60, 64, 67, 0.3), 0px 1px 3px 1px rgba(60, 64, 67, 0.15);\n",
              "      fill: #174EA6;\n",
              "    }\n",
              "\n",
              "    [theme=dark] .colab-df-convert {\n",
              "      background-color: #3B4455;\n",
              "      fill: #D2E3FC;\n",
              "    }\n",
              "\n",
              "    [theme=dark] .colab-df-convert:hover {\n",
              "      background-color: #434B5C;\n",
              "      box-shadow: 0px 1px 3px 1px rgba(0, 0, 0, 0.15);\n",
              "      filter: drop-shadow(0px 1px 2px rgba(0, 0, 0, 0.3));\n",
              "      fill: #FFFFFF;\n",
              "    }\n",
              "  </style>\n",
              "\n",
              "      <script>\n",
              "        const buttonEl =\n",
              "          document.querySelector('#df-bd5f4573-9a4b-48f7-8771-779e168ce9b7 button.colab-df-convert');\n",
              "        buttonEl.style.display =\n",
              "          google.colab.kernel.accessAllowed ? 'block' : 'none';\n",
              "\n",
              "        async function convertToInteractive(key) {\n",
              "          const element = document.querySelector('#df-bd5f4573-9a4b-48f7-8771-779e168ce9b7');\n",
              "          const dataTable =\n",
              "            await google.colab.kernel.invokeFunction('convertToInteractive',\n",
              "                                                     [key], {});\n",
              "          if (!dataTable) return;\n",
              "\n",
              "          const docLinkHtml = 'Like what you see? Visit the ' +\n",
              "            '<a target=\"_blank\" href=https://colab.research.google.com/notebooks/data_table.ipynb>data table notebook</a>'\n",
              "            + ' to learn more about interactive tables.';\n",
              "          element.innerHTML = '';\n",
              "          dataTable['output_type'] = 'display_data';\n",
              "          await google.colab.output.renderOutput(dataTable, element);\n",
              "          const docLink = document.createElement('div');\n",
              "          docLink.innerHTML = docLinkHtml;\n",
              "          element.appendChild(docLink);\n",
              "        }\n",
              "      </script>\n",
              "    </div>\n",
              "  </div>\n",
              "  "
            ]
          },
          "metadata": {},
          "execution_count": 17
        }
      ]
    },
    {
      "cell_type": "code",
      "source": [
        "G = nx.Graph()\n",
        "G = nx.from_pandas_adjacency(df)\n"
      ],
      "metadata": {
        "id": "1wVYbsYywDD0"
      },
      "execution_count": null,
      "outputs": []
    },
    {
      "cell_type": "code",
      "source": [
        "print(\"Number of nodes in the graph:\", len(G.nodes()))\n",
        "print(\"Nodes:\", G.nodes())\n",
        "print()\n",
        "print(\"Number of edges in the graph:\", len(G.edges()))\n",
        "print(\"Edges:\", G.edges(data=True))"
      ],
      "metadata": {
        "colab": {
          "base_uri": "https://localhost:8080/"
        },
        "id": "xSfH3CS3hRCI",
        "outputId": "95cad901-23f1-44ba-d52e-ac59cdf25a47"
      },
      "execution_count": null,
      "outputs": [
        {
          "output_type": "stream",
          "name": "stdout",
          "text": [
            "Number of nodes in the graph: 28\n",
            "Nodes: ['Harry', 'Hermione', 'Ron', 'Dumbledore', 'Voldemort', 'Hagrid', 'Draco', 'McGonagall', 'Snape', 'Quirrell', 'Neville', 'Vernon', 'Petunia', 'Dudley', 'Hedwig', 'Fred', 'George', 'Lily', 'James', 'Sorting Hat', 'Oliver Wood', 'Filch', 'Seamus', 'Goyle', 'Crabbe', 'Ginny', 'Griphook', 'Ollivander']\n",
            "\n",
            "Number of edges in the graph: 126\n",
            "Edges: [('Harry', 'Hermione', {'weight': 164}), ('Harry', 'Ron', {'weight': 302}), ('Harry', 'Dumbledore', {'weight': 50}), ('Harry', 'Voldemort', {'weight': 22}), ('Harry', 'Hagrid', {'weight': 150}), ('Harry', 'Draco', {'weight': 68}), ('Harry', 'McGonagall', {'weight': 38}), ('Harry', 'Snape', {'weight': 74}), ('Harry', 'Quirrell', {'weight': 50}), ('Harry', 'Neville', {'weight': 52}), ('Harry', 'Vernon', {'weight': 56}), ('Harry', 'Petunia', {'weight': 28}), ('Harry', 'Dudley', {'weight': 78}), ('Harry', 'Hedwig', {'weight': 6}), ('Harry', 'Fred', {'weight': 14}), ('Harry', 'George', {'weight': 8}), ('Harry', 'Lily', {'weight': 8}), ('Harry', 'James', {'weight': 8}), ('Harry', 'Oliver Wood', {'weight': 2}), ('Harry', 'Filch', {'weight': 18}), ('Harry', 'Seamus', {'weight': 18}), ('Harry', 'Goyle', {'weight': 10}), ('Harry', 'Crabbe', {'weight': 10}), ('Harry', 'Griphook', {'weight': 2}), ('Harry', 'Ollivander', {'weight': 14}), ('Hermione', 'Ron', {'weight': 152}), ('Hermione', 'Dumbledore', {'weight': 4}), ('Hermione', 'Hagrid', {'weight': 22}), ('Hermione', 'Draco', {'weight': 10}), ('Hermione', 'McGonagall', {'weight': 6}), ('Hermione', 'Snape', {'weight': 22}), ('Hermione', 'Quirrell', {'weight': 6}), ('Hermione', 'Neville', {'weight': 34}), ('Hermione', 'Vernon', {'weight': 2}), ('Hermione', 'Seamus', {'weight': 2}), ('Hermione', 'Goyle', {'weight': 2}), ('Hermione', 'Crabbe', {'weight': 2}), ('Ron', 'Dumbledore', {'weight': 10}), ('Ron', 'Voldemort', {'weight': 6}), ('Ron', 'Hagrid', {'weight': 48}), ('Ron', 'Draco', {'weight': 30}), ('Ron', 'McGonagall', {'weight': 8}), ('Ron', 'Snape', {'weight': 24}), ('Ron', 'Quirrell', {'weight': 4}), ('Ron', 'Neville', {'weight': 26}), ('Ron', 'Dudley', {'weight': 2}), ('Ron', 'Hedwig', {'weight': 2}), ('Ron', 'Fred', {'weight': 4}), ('Ron', 'George', {'weight': 6}), ('Ron', 'Seamus', {'weight': 2}), ('Ron', 'Goyle', {'weight': 8}), ('Ron', 'Crabbe', {'weight': 6}), ('Ron', 'Ginny', {'weight': 2}), ('Dumbledore', 'Voldemort', {'weight': 8}), ('Dumbledore', 'Hagrid', {'weight': 18}), ('Dumbledore', 'Draco', {'weight': 2}), ('Dumbledore', 'McGonagall', {'weight': 20}), ('Dumbledore', 'Snape', {'weight': 4}), ('Dumbledore', 'Quirrell', {'weight': 2}), ('Dumbledore', 'Neville', {'weight': 2}), ('Dumbledore', 'Hedwig', {'weight': 4}), ('Dumbledore', 'Lily', {'weight': 2}), ('Dumbledore', 'James', {'weight': 2}), ('Voldemort', 'Hagrid', {'weight': 6}), ('Voldemort', 'Snape', {'weight': 10}), ('Voldemort', 'Quirrell', {'weight': 12}), ('Hagrid', 'Draco', {'weight': 6}), ('Hagrid', 'McGonagall', {'weight': 10}), ('Hagrid', 'Snape', {'weight': 16}), ('Hagrid', 'Neville', {'weight': 8}), ('Hagrid', 'Vernon', {'weight': 4}), ('Hagrid', 'Petunia', {'weight': 2}), ('Hagrid', 'Dudley', {'weight': 2}), ('Hagrid', 'Hedwig', {'weight': 4}), ('Hagrid', 'Fred', {'weight': 2}), ('Hagrid', 'Lily', {'weight': 2}), ('Hagrid', 'James', {'weight': 2}), ('Hagrid', 'Filch', {'weight': 4}), ('Hagrid', 'Griphook', {'weight': 2}), ('Hagrid', 'Ollivander', {'weight': 4}), ('Draco', 'McGonagall', {'weight': 8}), ('Draco', 'Snape', {'weight': 14}), ('Draco', 'Neville', {'weight': 30}), ('Draco', 'Dudley', {'weight': 2}), ('Draco', 'Fred', {'weight': 2}), ('Draco', 'George', {'weight': 2}), ('Draco', 'Filch', {'weight': 4}), ('Draco', 'Goyle', {'weight': 26}), ('Draco', 'Crabbe', {'weight': 28}), ('McGonagall', 'Snape', {'weight': 12}), ('McGonagall', 'Quirrell', {'weight': 6}), ('McGonagall', 'Neville', {'weight': 4}), ('McGonagall', 'Lily', {'weight': 2}), ('McGonagall', 'James', {'weight': 2}), ('McGonagall', 'Sorting Hat', {'weight': 2}), ('McGonagall', 'Filch', {'weight': 2}), ('McGonagall', 'Goyle', {'weight': 2}), ('McGonagall', 'Crabbe', {'weight': 2}), ('Snape', 'Quirrell', {'weight': 18}), ('Snape', 'Neville', {'weight': 4}), ('Snape', 'Fred', {'weight': 2}), ('Snape', 'George', {'weight': 4}), ('Snape', 'Filch', {'weight': 14}), ('Snape', 'Seamus', {'weight': 2}), ('Snape', 'Goyle', {'weight': 2}), ('Snape', 'Crabbe', {'weight': 2}), ('Quirrell', 'Seamus', {'weight': 2}), ('Quirrell', 'Ollivander', {'weight': 2}), ('Neville', 'Fred', {'weight': 2}), ('Neville', 'Filch', {'weight': 2}), ('Neville', 'Seamus', {'weight': 8}), ('Neville', 'Goyle', {'weight': 6}), ('Neville', 'Crabbe', {'weight': 6}), ('Vernon', 'Petunia', {'weight': 24}), ('Vernon', 'Dudley', {'weight': 42}), ('Petunia', 'Dudley', {'weight': 34}), ('Petunia', 'Hedwig', {'weight': 2}), ('Fred', 'George', {'weight': 32}), ('Fred', 'Oliver Wood', {'weight': 2}), ('Fred', 'Goyle', {'weight': 2}), ('Fred', 'Crabbe', {'weight': 2}), ('George', 'Oliver Wood', {'weight': 2}), ('George', 'Goyle', {'weight': 2}), ('George', 'Crabbe', {'weight': 2}), ('Lily', 'James', {'weight': 10}), ('Goyle', 'Crabbe', {'weight': 38})]\n"
          ]
        }
      ]
    },
    {
      "cell_type": "code",
      "source": [
        "plt.figure(5, figsize=(10,10))\n",
        "pos = nx.fruchterman_reingold_layout(G)\n",
        "\n",
        "nx.draw_networkx(G, pos=pos, node_size = 800, font_size=8, node_color=\"pink\")\n",
        "nx.draw_networkx_edges(G, pos=pos)\n",
        "edge_labels = nx.get_edge_attributes(G, 'weight')\n",
        "nx.draw_networkx_edge_labels(G, pos=pos, edge_labels=edge_labels)\n",
        "plt.show()"
      ],
      "metadata": {
        "colab": {
          "base_uri": "https://localhost:8080/",
          "height": 807
        },
        "id": "_l8Tv7dnhSBf",
        "outputId": "1a86d8b3-5959-4cb6-fdec-b302f74bc794"
      },
      "execution_count": null,
      "outputs": [
        {
          "output_type": "display_data",
          "data": {
            "text/plain": [
              "<Figure size 1000x1000 with 1 Axes>"
            ],
            "image/png": "[encoded data removed]"
          },
          "metadata": {}
        }
      ]
    },
    {
      "cell_type": "markdown",
      "source": [
        "# Cycles of Length 3"
      ],
      "metadata": {
        "id": "lJ7QnFQPhesj"
      }
    },
    {
      "cell_type": "code",
      "source": [
        "cycle3 = []\n",
        "\n",
        "for i in range(0,28):\n",
        "  for j in range(0,28):\n",
        "    if(char_df[characters[i]][characters[j]]>0): #if edge exists\n",
        "      for k in range(0,28):\n",
        "        if(i!=k and char_df[characters[j]][characters[k]]>0 and char_df[characters[i]][characters[k]]>0):  #if other two edges exist\n",
        "          if([i,j,k] not in cycle3 and [j,i,k] not in cycle3 and [k,i,j] not in cycle3 and [i,k,j] not in cycle3 and [j,k,i] not in cycle3 and [k,j,i] not in cycle3):\n",
        "            cycle3.append([i,j,k])\n",
        "            print(characters[i],characters[j],characters[k]);"
      ],
      "metadata": {
        "colab": {
          "base_uri": "https://localhost:8080/"
        },
        "id": "BGGnvoJIhT4H",
        "outputId": "ca4012bf-e6e0-41e3-d93f-b757f247d57f"
      },
      "execution_count": null,
      "outputs": [
        {
          "output_type": "stream",
          "name": "stdout",
          "text": [
            "Harry Hermione Ron\n",
            "Harry Hermione Dumbledore\n",
            "Harry Hermione Hagrid\n",
            "Harry Hermione Draco\n",
            "Harry Hermione McGonagall\n",
            "Harry Hermione Snape\n",
            "Harry Hermione Quirrell\n",
            "Harry Hermione Neville\n",
            "Harry Hermione Vernon\n",
            "Harry Hermione Seamus\n",
            "Harry Hermione Goyle\n",
            "Harry Hermione Crabbe\n",
            "Harry Ron Dumbledore\n",
            "Harry Ron Voldemort\n",
            "Harry Ron Hagrid\n",
            "Harry Ron Draco\n",
            "Harry Ron McGonagall\n",
            "Harry Ron Snape\n",
            "Harry Ron Quirrell\n",
            "Harry Ron Neville\n",
            "Harry Ron Dudley\n",
            "Harry Ron Hedwig\n",
            "Harry Ron Fred\n",
            "Harry Ron George\n",
            "Harry Ron Seamus\n",
            "Harry Ron Goyle\n",
            "Harry Ron Crabbe\n",
            "Harry Dumbledore Voldemort\n",
            "Harry Dumbledore Hagrid\n",
            "Harry Dumbledore Draco\n",
            "Harry Dumbledore McGonagall\n",
            "Harry Dumbledore Snape\n",
            "Harry Dumbledore Quirrell\n",
            "Harry Dumbledore Neville\n",
            "Harry Dumbledore Hedwig\n",
            "Harry Dumbledore Lily\n",
            "Harry Dumbledore James\n",
            "Harry Voldemort Hagrid\n",
            "Harry Voldemort Snape\n",
            "Harry Voldemort Quirrell\n",
            "Harry Hagrid Draco\n",
            "Harry Hagrid McGonagall\n",
            "Harry Hagrid Snape\n",
            "Harry Hagrid Neville\n",
            "Harry Hagrid Vernon\n",
            "Harry Hagrid Petunia\n",
            "Harry Hagrid Dudley\n",
            "Harry Hagrid Hedwig\n",
            "Harry Hagrid Fred\n",
            "Harry Hagrid Lily\n",
            "Harry Hagrid James\n",
            "Harry Hagrid Filch\n",
            "Harry Hagrid Griphook\n",
            "Harry Hagrid Ollivander\n",
            "Harry Draco McGonagall\n",
            "Harry Draco Snape\n",
            "Harry Draco Neville\n",
            "Harry Draco Dudley\n",
            "Harry Draco Fred\n",
            "Harry Draco George\n",
            "Harry Draco Filch\n",
            "Harry Draco Goyle\n",
            "Harry Draco Crabbe\n",
            "Harry McGonagall Snape\n",
            "Harry McGonagall Quirrell\n",
            "Harry McGonagall Neville\n",
            "Harry McGonagall Lily\n",
            "Harry McGonagall James\n",
            "Harry McGonagall Filch\n",
            "Harry McGonagall Goyle\n",
            "Harry McGonagall Crabbe\n",
            "Harry Snape Quirrell\n",
            "Harry Snape Neville\n",
            "Harry Snape Fred\n",
            "Harry Snape George\n",
            "Harry Snape Filch\n",
            "Harry Snape Seamus\n",
            "Harry Snape Goyle\n",
            "Harry Snape Crabbe\n",
            "Harry Quirrell Seamus\n",
            "Harry Quirrell Ollivander\n",
            "Harry Neville Fred\n",
            "Harry Neville Filch\n",
            "Harry Neville Seamus\n",
            "Harry Neville Goyle\n",
            "Harry Neville Crabbe\n",
            "Harry Vernon Petunia\n",
            "Harry Vernon Dudley\n",
            "Harry Petunia Dudley\n",
            "Harry Petunia Hedwig\n",
            "Harry Fred George\n",
            "Harry Fred Oliver Wood\n",
            "Harry Fred Goyle\n",
            "Harry Fred Crabbe\n",
            "Harry George Oliver Wood\n",
            "Harry George Goyle\n",
            "Harry George Crabbe\n",
            "Harry Lily James\n",
            "Harry Goyle Crabbe\n",
            "Hermione Ron Dumbledore\n",
            "Hermione Ron Hagrid\n",
            "Hermione Ron Draco\n",
            "Hermione Ron McGonagall\n",
            "Hermione Ron Snape\n",
            "Hermione Ron Quirrell\n",
            "Hermione Ron Neville\n",
            "Hermione Ron Seamus\n",
            "Hermione Ron Goyle\n",
            "Hermione Ron Crabbe\n",
            "Hermione Dumbledore Hagrid\n",
            "Hermione Dumbledore Draco\n",
            "Hermione Dumbledore McGonagall\n",
            "Hermione Dumbledore Snape\n",
            "Hermione Dumbledore Quirrell\n",
            "Hermione Dumbledore Neville\n",
            "Hermione Hagrid Draco\n",
            "Hermione Hagrid McGonagall\n",
            "Hermione Hagrid Snape\n",
            "Hermione Hagrid Neville\n",
            "Hermione Hagrid Vernon\n",
            "Hermione Draco McGonagall\n",
            "Hermione Draco Snape\n",
            "Hermione Draco Neville\n",
            "Hermione Draco Goyle\n",
            "Hermione Draco Crabbe\n",
            "Hermione McGonagall Snape\n",
            "Hermione McGonagall Quirrell\n",
            "Hermione McGonagall Neville\n",
            "Hermione McGonagall Goyle\n",
            "Hermione McGonagall Crabbe\n",
            "Hermione Snape Quirrell\n",
            "Hermione Snape Neville\n",
            "Hermione Snape Seamus\n",
            "Hermione Snape Goyle\n",
            "Hermione Snape Crabbe\n",
            "Hermione Quirrell Seamus\n",
            "Hermione Neville Seamus\n",
            "Hermione Neville Goyle\n",
            "Hermione Neville Crabbe\n",
            "Hermione Goyle Crabbe\n",
            "Ron Dumbledore Voldemort\n",
            "Ron Dumbledore Hagrid\n",
            "Ron Dumbledore Draco\n",
            "Ron Dumbledore McGonagall\n",
            "Ron Dumbledore Snape\n",
            "Ron Dumbledore Quirrell\n",
            "Ron Dumbledore Neville\n",
            "Ron Dumbledore Hedwig\n",
            "Ron Voldemort Hagrid\n",
            "Ron Voldemort Snape\n",
            "Ron Voldemort Quirrell\n",
            "Ron Hagrid Draco\n",
            "Ron Hagrid McGonagall\n",
            "Ron Hagrid Snape\n",
            "Ron Hagrid Neville\n",
            "Ron Hagrid Dudley\n",
            "Ron Hagrid Hedwig\n",
            "Ron Hagrid Fred\n",
            "Ron Draco McGonagall\n",
            "Ron Draco Snape\n",
            "Ron Draco Neville\n",
            "Ron Draco Dudley\n",
            "Ron Draco Fred\n",
            "Ron Draco George\n",
            "Ron Draco Goyle\n",
            "Ron Draco Crabbe\n",
            "Ron McGonagall Snape\n",
            "Ron McGonagall Quirrell\n",
            "Ron McGonagall Neville\n",
            "Ron McGonagall Goyle\n",
            "Ron McGonagall Crabbe\n",
            "Ron Snape Quirrell\n",
            "Ron Snape Neville\n",
            "Ron Snape Fred\n",
            "Ron Snape George\n",
            "Ron Snape Seamus\n",
            "Ron Snape Goyle\n",
            "Ron Snape Crabbe\n",
            "Ron Quirrell Seamus\n",
            "Ron Neville Fred\n",
            "Ron Neville Seamus\n",
            "Ron Neville Goyle\n",
            "Ron Neville Crabbe\n",
            "Ron Fred George\n",
            "Ron Fred Goyle\n",
            "Ron Fred Crabbe\n",
            "Ron George Goyle\n",
            "Ron George Crabbe\n",
            "Ron Goyle Crabbe\n",
            "Dumbledore Voldemort Hagrid\n",
            "Dumbledore Voldemort Snape\n",
            "Dumbledore Voldemort Quirrell\n",
            "Dumbledore Hagrid Draco\n",
            "Dumbledore Hagrid McGonagall\n",
            "Dumbledore Hagrid Snape\n",
            "Dumbledore Hagrid Neville\n",
            "Dumbledore Hagrid Hedwig\n",
            "Dumbledore Hagrid Lily\n",
            "Dumbledore Hagrid James\n",
            "Dumbledore Draco McGonagall\n",
            "Dumbledore Draco Snape\n",
            "Dumbledore Draco Neville\n",
            "Dumbledore McGonagall Snape\n",
            "Dumbledore McGonagall Quirrell\n",
            "Dumbledore McGonagall Neville\n",
            "Dumbledore McGonagall Lily\n",
            "Dumbledore McGonagall James\n",
            "Dumbledore Snape Quirrell\n",
            "Dumbledore Snape Neville\n",
            "Dumbledore Lily James\n",
            "Voldemort Hagrid Snape\n",
            "Voldemort Snape Quirrell\n",
            "Hagrid Draco McGonagall\n",
            "Hagrid Draco Snape\n",
            "Hagrid Draco Neville\n",
            "Hagrid Draco Dudley\n",
            "Hagrid Draco Fred\n",
            "Hagrid Draco Filch\n",
            "Hagrid McGonagall Snape\n",
            "Hagrid McGonagall Neville\n",
            "Hagrid McGonagall Lily\n",
            "Hagrid McGonagall James\n",
            "Hagrid McGonagall Filch\n",
            "Hagrid Snape Neville\n",
            "Hagrid Snape Fred\n",
            "Hagrid Snape Filch\n",
            "Hagrid Neville Fred\n",
            "Hagrid Neville Filch\n",
            "Hagrid Vernon Petunia\n",
            "Hagrid Vernon Dudley\n",
            "Hagrid Petunia Dudley\n",
            "Hagrid Petunia Hedwig\n",
            "Hagrid Lily James\n",
            "Draco McGonagall Snape\n",
            "Draco McGonagall Neville\n",
            "Draco McGonagall Filch\n",
            "Draco McGonagall Goyle\n",
            "Draco McGonagall Crabbe\n",
            "Draco Snape Neville\n",
            "Draco Snape Fred\n",
            "Draco Snape George\n",
            "Draco Snape Filch\n",
            "Draco Snape Goyle\n",
            "Draco Snape Crabbe\n",
            "Draco Neville Fred\n",
            "Draco Neville Filch\n",
            "Draco Neville Goyle\n",
            "Draco Neville Crabbe\n",
            "Draco Fred George\n",
            "Draco Fred Goyle\n",
            "Draco Fred Crabbe\n",
            "Draco George Goyle\n",
            "Draco George Crabbe\n",
            "Draco Goyle Crabbe\n",
            "McGonagall Snape Quirrell\n",
            "McGonagall Snape Neville\n",
            "McGonagall Snape Filch\n",
            "McGonagall Snape Goyle\n",
            "McGonagall Snape Crabbe\n",
            "McGonagall Neville Filch\n",
            "McGonagall Neville Goyle\n",
            "McGonagall Neville Crabbe\n",
            "McGonagall Lily James\n",
            "McGonagall Goyle Crabbe\n",
            "Snape Quirrell Seamus\n",
            "Snape Neville Fred\n",
            "Snape Neville Filch\n",
            "Snape Neville Seamus\n",
            "Snape Neville Goyle\n",
            "Snape Neville Crabbe\n",
            "Snape Fred George\n",
            "Snape Fred Goyle\n",
            "Snape Fred Crabbe\n",
            "Snape George Goyle\n",
            "Snape George Crabbe\n",
            "Snape Goyle Crabbe\n",
            "Neville Fred Goyle\n",
            "Neville Fred Crabbe\n",
            "Neville Goyle Crabbe\n",
            "Vernon Petunia Dudley\n",
            "Fred George Oliver Wood\n",
            "Fred George Goyle\n",
            "Fred George Crabbe\n",
            "Fred Goyle Crabbe\n",
            "George Goyle Crabbe\n"
          ]
        }
      ]
    },
    {
      "cell_type": "code",
      "source": [
        "len(cycle3)"
      ],
      "metadata": {
        "colab": {
          "base_uri": "https://localhost:8080/"
        },
        "id": "g7P1kVEAh0XN",
        "outputId": "56216df5-0153-456b-fdd5-f7bfe9a3752a"
      },
      "execution_count": null,
      "outputs": [
        {
          "output_type": "execute_result",
          "data": {
            "text/plain": [
              "285"
            ]
          },
          "metadata": {},
          "execution_count": 101
        }
      ]
    },
    {
      "cell_type": "code",
      "source": [
        "char_df.to_csv(\"Adajacencymatrix.csv\")"
      ],
      "metadata": {
        "id": "oWVnNo3Bh2OQ"
      },
      "execution_count": null,
      "outputs": []
    },
    {
      "cell_type": "markdown",
      "source": [
        "# Cycles of Length 6"
      ],
      "metadata": {
        "id": "XvzWactCjcUI"
      }
    },
    {
      "cell_type": "code",
      "source": [
        "cycle6 = []\n",
        "\n",
        "for i in range(0,28):\n",
        "  for j in range(0,28):\n",
        "    if(char_df[characters[i]][characters[j]]>0): #edge btw i and j\n",
        "      for k in range(0,28):\n",
        "        if(i!=k and char_df[characters[j]][characters[k]]>0): #edge btw j and k\n",
        "          for l in range(0,28):\n",
        "            if(i!=l and j!=l and char_df[characters[l]][characters[k]]>0): #edge between l and k\n",
        "              for m in range(0,28):\n",
        "                if(i!=m and j!=m and k!=m and char_df[characters[l]][characters[m]]>0): #edge between l and m\n",
        "                  for n in range(0,28):\n",
        "                    if(i!=n and j!=n and k!=n and l!=n and char_df[characters[n]][characters[m]]>0 and char_df[characters[n]][characters[i]]>0): #edge between m and n and edge btw n and i to complete the cycle\n",
        "                      whatever = []\n",
        "                      whatever.append(i)\n",
        "                      whatever.append(j)\n",
        "                      whatever.append(k)\n",
        "                      whatever.append(l)\n",
        "                      whatever.append(m)\n",
        "                      whatever.append(n)\n",
        "                      whatever.sort()\n",
        "                      if(whatever not in cycle6):\n",
        "                        cycle6.append(whatever)\n",
        "\n",
        "                      # print(characters[i],characters[j],characters[k],characters[l],characters[m],characters[n])\n",
        "                  "
      ],
      "metadata": {
        "id": "xHjggshxjd6E"
      },
      "execution_count": null,
      "outputs": []
    },
    {
      "cell_type": "code",
      "source": [
        "x=[]\n",
        "l=[3,2,1]\n",
        "l.sort()\n",
        "x.append(l)\n",
        "x"
      ],
      "metadata": {
        "colab": {
          "base_uri": "https://localhost:8080/"
        },
        "id": "OQ6royoXpobt",
        "outputId": "387840ea-b01a-44f9-ba0d-51372f49bacf"
      },
      "execution_count": null,
      "outputs": [
        {
          "output_type": "execute_result",
          "data": {
            "text/plain": [
              "[[1, 2, 3]]"
            ]
          },
          "metadata": {},
          "execution_count": 104
        }
      ]
    },
    {
      "cell_type": "code",
      "source": [
        "cycle6"
      ],
      "metadata": {
        "colab": {
          "base_uri": "https://localhost:8080/"
        },
        "id": "_MZ767EIj3zy",
        "outputId": "1249e567-8065-4f7e-f467-12b042d20d38"
      },
      "execution_count": null,
      "outputs": [
        {
          "output_type": "execute_result",
          "data": {
            "text/plain": [
              "[[0, 1, 2, 3, 4, 5],\n",
              " [0, 1, 2, 3, 4, 8],\n",
              " [0, 1, 2, 3, 4, 9],\n",
              " [0, 1, 2, 3, 5, 6],\n",
              " [0, 1, 2, 3, 5, 7],\n",
              " [0, 1, 2, 3, 5, 8],\n",
              " [0, 1, 2, 3, 5, 10],\n",
              " [0, 1, 2, 3, 5, 11],\n",
              " [0, 1, 2, 3, 5, 12],\n",
              " [0, 1, 2, 3, 5, 13],\n",
              " [0, 1, 2, 3, 5, 14],\n",
              " [0, 1, 2, 3, 5, 15],\n",
              " [0, 1, 2, 3, 5, 17],\n",
              " [0, 1, 2, 3, 5, 18],\n",
              " [0, 1, 2, 3, 5, 21],\n",
              " [0, 1, 2, 3, 5, 26],\n",
              " [0, 1, 2, 3, 5, 27],\n",
              " [0, 1, 2, 3, 6, 7],\n",
              " [0, 1, 2, 3, 6, 8],\n",
              " [0, 1, 2, 3, 6, 10],\n",
              " [0, 1, 2, 3, 6, 13],\n",
              " [0, 1, 2, 3, 6, 15],\n",
              " [0, 1, 2, 3, 6, 16],\n",
              " [0, 1, 2, 3, 6, 21],\n",
              " [0, 1, 2, 3, 6, 23],\n",
              " [0, 1, 2, 3, 6, 24],\n",
              " [0, 1, 2, 3, 7, 8],\n",
              " [0, 1, 2, 3, 7, 9],\n",
              " [0, 1, 2, 3, 7, 10],\n",
              " [0, 1, 2, 3, 7, 17],\n",
              " [0, 1, 2, 3, 7, 18],\n",
              " [0, 1, 2, 3, 7, 21],\n",
              " [0, 1, 2, 3, 7, 23],\n",
              " [0, 1, 2, 3, 7, 24],\n",
              " [0, 1, 2, 3, 8, 9],\n",
              " [0, 1, 2, 3, 8, 10],\n",
              " [0, 1, 2, 3, 8, 15],\n",
              " [0, 1, 2, 3, 8, 16],\n",
              " [0, 1, 2, 3, 8, 21],\n",
              " [0, 1, 2, 3, 8, 22],\n",
              " [0, 1, 2, 3, 8, 23],\n",
              " [0, 1, 2, 3, 8, 24],\n",
              " [0, 1, 2, 3, 9, 22],\n",
              " [0, 1, 2, 3, 9, 27],\n",
              " [0, 1, 2, 3, 10, 15],\n",
              " [0, 1, 2, 3, 10, 21],\n",
              " [0, 1, 2, 3, 10, 22],\n",
              " [0, 1, 2, 3, 10, 23],\n",
              " [0, 1, 2, 3, 10, 24],\n",
              " [0, 1, 2, 3, 12, 14],\n",
              " [0, 1, 2, 3, 17, 18],\n",
              " [0, 1, 2, 3, 4, 6],\n",
              " [0, 1, 2, 3, 4, 7],\n",
              " [0, 1, 2, 3, 4, 10],\n",
              " [0, 1, 2, 3, 4, 14],\n",
              " [0, 1, 2, 3, 4, 17],\n",
              " [0, 1, 2, 3, 4, 18],\n",
              " [0, 1, 2, 4, 5, 6],\n",
              " [0, 1, 2, 4, 5, 7],\n",
              " [0, 1, 2, 4, 5, 8],\n",
              " [0, 1, 2, 4, 5, 10],\n",
              " [0, 1, 2, 4, 5, 11],\n",
              " [0, 1, 2, 4, 5, 12],\n",
              " [0, 1, 2, 4, 5, 13],\n",
              " [0, 1, 2, 4, 5, 14],\n",
              " [0, 1, 2, 4, 5, 15],\n",
              " [0, 1, 2, 4, 5, 17],\n",
              " [0, 1, 2, 4, 5, 18],\n",
              " [0, 1, 2, 4, 5, 21],\n",
              " [0, 1, 2, 4, 5, 26],\n",
              " [0, 1, 2, 4, 5, 27],\n",
              " [0, 1, 2, 4, 6, 8],\n",
              " [0, 1, 2, 4, 7, 8],\n",
              " [0, 1, 2, 4, 8, 9],\n",
              " [0, 1, 2, 4, 8, 10],\n",
              " [0, 1, 2, 4, 8, 15],\n",
              " [0, 1, 2, 4, 8, 16],\n",
              " [0, 1, 2, 4, 8, 21],\n",
              " [0, 1, 2, 4, 8, 22],\n",
              " [0, 1, 2, 4, 8, 23],\n",
              " [0, 1, 2, 4, 8, 24],\n",
              " [0, 1, 2, 4, 7, 9],\n",
              " [0, 1, 2, 4, 9, 22],\n",
              " [0, 1, 2, 4, 9, 27],\n",
              " [0, 1, 2, 3, 5, 9],\n",
              " [0, 1, 2, 4, 5, 9],\n",
              " [0, 1, 2, 5, 6, 7],\n",
              " [0, 1, 2, 5, 6, 8],\n",
              " [0, 1, 2, 5, 6, 10],\n",
              " [0, 1, 2, 5, 6, 13],\n",
              " [0, 1, 2, 5, 6, 15],\n",
              " [0, 1, 2, 5, 6, 16],\n",
              " [0, 1, 2, 5, 6, 21],\n",
              " [0, 1, 2, 5, 6, 23],\n",
              " [0, 1, 2, 5, 6, 24],\n",
              " [0, 1, 2, 5, 7, 8],\n",
              " [0, 1, 2, 5, 7, 9],\n",
              " [0, 1, 2, 5, 7, 10],\n",
              " [0, 1, 2, 5, 7, 17],\n",
              " [0, 1, 2, 5, 7, 18],\n",
              " [0, 1, 2, 5, 7, 21],\n",
              " [0, 1, 2, 5, 7, 23],\n",
              " [0, 1, 2, 5, 7, 24],\n",
              " [0, 1, 2, 5, 8, 9],\n",
              " [0, 1, 2, 5, 8, 10],\n",
              " [0, 1, 2, 5, 8, 15],\n",
              " [0, 1, 2, 5, 8, 16],\n",
              " [0, 1, 2, 5, 8, 21],\n",
              " [0, 1, 2, 5, 8, 22],\n",
              " [0, 1, 2, 5, 8, 23],\n",
              " [0, 1, 2, 5, 8, 24],\n",
              " [0, 1, 2, 5, 10, 15],\n",
              " [0, 1, 2, 5, 10, 21],\n",
              " [0, 1, 2, 5, 10, 22],\n",
              " [0, 1, 2, 5, 10, 23],\n",
              " [0, 1, 2, 5, 10, 24],\n",
              " [0, 1, 2, 5, 11, 12],\n",
              " [0, 1, 2, 5, 11, 13],\n",
              " [0, 1, 2, 5, 12, 13],\n",
              " [0, 1, 2, 5, 12, 14],\n",
              " [0, 1, 2, 5, 15, 16],\n",
              " [0, 1, 2, 5, 15, 20],\n",
              " [0, 1, 2, 5, 15, 23],\n",
              " [0, 1, 2, 5, 15, 24],\n",
              " [0, 1, 2, 5, 17, 18],\n",
              " [0, 1, 2, 5, 9, 27],\n",
              " [0, 1, 2, 3, 6, 9],\n",
              " [0, 1, 2, 3, 6, 14],\n",
              " [0, 1, 2, 3, 6, 17],\n",
              " [0, 1, 2, 3, 6, 18],\n",
              " [0, 1, 2, 5, 6, 11],\n",
              " [0, 1, 2, 5, 6, 12],\n",
              " [0, 1, 2, 5, 6, 14],\n",
              " [0, 1, 2, 5, 6, 17],\n",
              " [0, 1, 2, 5, 6, 18],\n",
              " [0, 1, 2, 5, 6, 26],\n",
              " [0, 1, 2, 5, 6, 27],\n",
              " [0, 1, 2, 6, 7, 8],\n",
              " [0, 1, 2, 6, 7, 9],\n",
              " [0, 1, 2, 6, 7, 10],\n",
              " [0, 1, 2, 6, 7, 17],\n",
              " [0, 1, 2, 6, 7, 18],\n",
              " [0, 1, 2, 6, 7, 21],\n",
              " [0, 1, 2, 6, 7, 23],\n",
              " [0, 1, 2, 6, 7, 24],\n",
              " [0, 1, 2, 6, 8, 9],\n",
              " [0, 1, 2, 6, 8, 10],\n",
              " [0, 1, 2, 6, 8, 15],\n",
              " [0, 1, 2, 6, 8, 16],\n",
              " [0, 1, 2, 6, 8, 21],\n",
              " [0, 1, 2, 6, 8, 22],\n",
              " [0, 1, 2, 6, 8, 23],\n",
              " [0, 1, 2, 6, 8, 24],\n",
              " [0, 1, 2, 6, 10, 15],\n",
              " [0, 1, 2, 6, 10, 21],\n",
              " [0, 1, 2, 6, 10, 22],\n",
              " [0, 1, 2, 6, 10, 23],\n",
              " [0, 1, 2, 6, 10, 24],\n",
              " [0, 1, 2, 6, 11, 13],\n",
              " [0, 1, 2, 6, 12, 13],\n",
              " [0, 1, 2, 6, 15, 16],\n",
              " [0, 1, 2, 6, 15, 20],\n",
              " [0, 1, 2, 6, 15, 23],\n",
              " [0, 1, 2, 6, 15, 24],\n",
              " [0, 1, 2, 6, 16, 20],\n",
              " [0, 1, 2, 6, 16, 23],\n",
              " [0, 1, 2, 6, 16, 24],\n",
              " [0, 1, 2, 6, 23, 24],\n",
              " [0, 1, 2, 3, 7, 14],\n",
              " [0, 1, 2, 5, 7, 11],\n",
              " [0, 1, 2, 5, 7, 12],\n",
              " [0, 1, 2, 5, 7, 13],\n",
              " [0, 1, 2, 5, 7, 14],\n",
              " [0, 1, 2, 5, 7, 15],\n",
              " [0, 1, 2, 5, 7, 26],\n",
              " [0, 1, 2, 5, 7, 27],\n",
              " [0, 1, 2, 6, 7, 13],\n",
              " [0, 1, 2, 6, 7, 15],\n",
              " [0, 1, 2, 6, 7, 16],\n",
              " [0, 1, 2, 7, 8, 9],\n",
              " [0, 1, 2, 7, 8, 10],\n",
              " [0, 1, 2, 7, 8, 15],\n",
              " [0, 1, 2, 7, 8, 16],\n",
              " [0, 1, 2, 7, 8, 21],\n",
              " [0, 1, 2, 7, 8, 22],\n",
              " [0, 1, 2, 7, 8, 23],\n",
              " [0, 1, 2, 7, 8, 24],\n",
              " [0, 1, 2, 7, 9, 22],\n",
              " [0, 1, 2, 7, 9, 27],\n",
              " [0, 1, 2, 7, 10, 15],\n",
              " [0, 1, 2, 7, 10, 21],\n",
              " [0, 1, 2, 7, 10, 22],\n",
              " [0, 1, 2, 7, 10, 23],\n",
              " [0, 1, 2, 7, 10, 24],\n",
              " [0, 1, 2, 7, 17, 18],\n",
              " [0, 1, 2, 7, 15, 23],\n",
              " [0, 1, 2, 7, 16, 23],\n",
              " [0, 1, 2, 7, 23, 24],\n",
              " [0, 1, 2, 7, 15, 24],\n",
              " [0, 1, 2, 7, 16, 24],\n",
              " [0, 1, 2, 3, 8, 14],\n",
              " [0, 1, 2, 3, 8, 17],\n",
              " [0, 1, 2, 3, 8, 18],\n",
              " [0, 1, 2, 5, 8, 11],\n",
              " [0, 1, 2, 5, 8, 12],\n",
              " [0, 1, 2, 5, 8, 13],\n",
              " [0, 1, 2, 5, 8, 14],\n",
              " [0, 1, 2, 5, 8, 17],\n",
              " [0, 1, 2, 5, 8, 18],\n",
              " [0, 1, 2, 5, 8, 26],\n",
              " [0, 1, 2, 5, 8, 27],\n",
              " [0, 1, 2, 6, 8, 13],\n",
              " [0, 1, 2, 7, 8, 17],\n",
              " [0, 1, 2, 7, 8, 18],\n",
              " [0, 1, 2, 8, 9, 22],\n",
              " [0, 1, 2, 8, 9, 27],\n",
              " [0, 1, 2, 8, 10, 15],\n",
              " [0, 1, 2, 8, 10, 21],\n",
              " [0, 1, 2, 8, 10, 22],\n",
              " [0, 1, 2, 8, 10, 23],\n",
              " [0, 1, 2, 8, 10, 24],\n",
              " [0, 1, 2, 8, 15, 16],\n",
              " [0, 1, 2, 8, 15, 20],\n",
              " [0, 1, 2, 8, 15, 23],\n",
              " [0, 1, 2, 8, 15, 24],\n",
              " [0, 1, 2, 8, 16, 20],\n",
              " [0, 1, 2, 8, 16, 23],\n",
              " [0, 1, 2, 8, 16, 24],\n",
              " [0, 1, 2, 8, 23, 24],\n",
              " [0, 1, 2, 3, 9, 10],\n",
              " [0, 1, 2, 3, 9, 14],\n",
              " [0, 1, 2, 3, 9, 17],\n",
              " [0, 1, 2, 3, 9, 18],\n",
              " [0, 1, 2, 7, 9, 10],\n",
              " [0, 1, 2, 7, 9, 17],\n",
              " [0, 1, 2, 7, 9, 18],\n",
              " [0, 1, 2, 7, 9, 21],\n",
              " [0, 1, 2, 7, 9, 23],\n",
              " [0, 1, 2, 7, 9, 24],\n",
              " [0, 1, 2, 8, 9, 10],\n",
              " [0, 1, 2, 8, 9, 15],\n",
              " [0, 1, 2, 8, 9, 16],\n",
              " [0, 1, 2, 8, 9, 21],\n",
              " [0, 1, 2, 8, 9, 23],\n",
              " [0, 1, 2, 8, 9, 24],\n",
              " [0, 1, 2, 9, 10, 22],\n",
              " [0, 1, 2, 3, 10, 14],\n",
              " [0, 1, 2, 3, 10, 17],\n",
              " [0, 1, 2, 3, 10, 18],\n",
              " [0, 1, 2, 5, 10, 11],\n",
              " [0, 1, 2, 5, 10, 12],\n",
              " [0, 1, 2, 5, 10, 13],\n",
              " [0, 1, 2, 5, 10, 14],\n",
              " [0, 1, 2, 5, 10, 17],\n",
              " [0, 1, 2, 5, 10, 18],\n",
              " [0, 1, 2, 5, 10, 26],\n",
              " [0, 1, 2, 5, 10, 27],\n",
              " [0, 1, 2, 6, 10, 13],\n",
              " [0, 1, 2, 6, 10, 16],\n",
              " [0, 1, 2, 7, 10, 17],\n",
              " [0, 1, 2, 7, 10, 18],\n",
              " [0, 1, 2, 8, 10, 16],\n",
              " [0, 1, 2, 10, 15, 16],\n",
              " [0, 1, 2, 10, 15, 20],\n",
              " [0, 1, 2, 10, 15, 23],\n",
              " [0, 1, 2, 10, 15, 24],\n",
              " [0, 1, 2, 10, 16, 23],\n",
              " [0, 1, 2, 10, 23, 24],\n",
              " [0, 1, 2, 10, 16, 24],\n",
              " [0, 1, 2, 5, 13, 14],\n",
              " [0, 1, 2, 5, 13, 15],\n",
              " [0, 1, 2, 5, 13, 17],\n",
              " [0, 1, 2, 5, 13, 18],\n",
              " [0, 1, 2, 5, 13, 21],\n",
              " [0, 1, 2, 5, 13, 26],\n",
              " [0, 1, 2, 5, 13, 27],\n",
              " [0, 1, 2, 6, 13, 15],\n",
              " [0, 1, 2, 6, 13, 16],\n",
              " [0, 1, 2, 6, 13, 21],\n",
              " [0, 1, 2, 6, 13, 23],\n",
              " [0, 1, 2, 6, 13, 24],\n",
              " [0, 1, 2, 11, 12, 13],\n",
              " [0, 1, 2, 12, 13, 14],\n",
              " [0, 1, 2, 3, 14, 17],\n",
              " [0, 1, 2, 3, 14, 18],\n",
              " [0, 1, 2, 5, 11, 14],\n",
              " [0, 1, 2, 5, 14, 15],\n",
              " [0, 1, 2, 5, 14, 17],\n",
              " [0, 1, 2, 5, 14, 18],\n",
              " [0, 1, 2, 5, 14, 21],\n",
              " [0, 1, 2, 5, 14, 26],\n",
              " [0, 1, 2, 5, 14, 27],\n",
              " [0, 1, 2, 11, 12, 14],\n",
              " [0, 1, 2, 5, 11, 15],\n",
              " [0, 1, 2, 5, 12, 15],\n",
              " [0, 1, 2, 5, 15, 17],\n",
              " [0, 1, 2, 5, 15, 18],\n",
              " [0, 1, 2, 5, 15, 21],\n",
              " [0, 1, 2, 5, 15, 26],\n",
              " [0, 1, 2, 5, 15, 27],\n",
              " [0, 1, 2, 6, 15, 21],\n",
              " [0, 1, 2, 8, 15, 21],\n",
              " [0, 1, 2, 8, 15, 22],\n",
              " [0, 1, 2, 10, 15, 21],\n",
              " [0, 1, 2, 10, 15, 22],\n",
              " [0, 1, 2, 15, 16, 20],\n",
              " [0, 1, 2, 15, 16, 23],\n",
              " [0, 1, 2, 15, 16, 24],\n",
              " [0, 1, 2, 15, 23, 24],\n",
              " [0, 1, 2, 6, 16, 21],\n",
              " [0, 1, 2, 8, 16, 21],\n",
              " [0, 1, 2, 8, 16, 22],\n",
              " [0, 1, 2, 16, 23, 24],\n",
              " [0, 1, 2, 8, 21, 22],\n",
              " [0, 1, 2, 8, 22, 23],\n",
              " [0, 1, 2, 8, 22, 24],\n",
              " [0, 1, 2, 9, 22, 27],\n",
              " [0, 1, 2, 10, 21, 22],\n",
              " [0, 1, 2, 10, 22, 23],\n",
              " [0, 1, 2, 10, 22, 24],\n",
              " [0, 1, 2, 6, 21, 23],\n",
              " [0, 1, 2, 7, 17, 23],\n",
              " [0, 1, 2, 7, 18, 23],\n",
              " [0, 1, 2, 7, 21, 23],\n",
              " [0, 1, 2, 8, 21, 23],\n",
              " [0, 1, 2, 10, 21, 23],\n",
              " [0, 1, 2, 15, 20, 23],\n",
              " [0, 1, 2, 16, 20, 23],\n",
              " [0, 1, 2, 6, 21, 24],\n",
              " [0, 1, 2, 7, 17, 24],\n",
              " [0, 1, 2, 7, 18, 24],\n",
              " [0, 1, 2, 7, 21, 24],\n",
              " [0, 1, 2, 8, 21, 24],\n",
              " [0, 1, 2, 10, 21, 24],\n",
              " [0, 1, 2, 15, 20, 24],\n",
              " [0, 1, 2, 16, 20, 24],\n",
              " [0, 1, 2, 3, 11, 13],\n",
              " [0, 1, 2, 3, 12, 13],\n",
              " [0, 1, 2, 3, 15, 16],\n",
              " [0, 1, 2, 3, 15, 20],\n",
              " [0, 1, 2, 3, 15, 23],\n",
              " [0, 1, 2, 3, 15, 24],\n",
              " [0, 1, 2, 3, 16, 20],\n",
              " [0, 1, 2, 3, 16, 23],\n",
              " [0, 1, 2, 3, 16, 24],\n",
              " [0, 1, 2, 3, 23, 24],\n",
              " [0, 1, 2, 3, 4, 13],\n",
              " [0, 1, 2, 3, 4, 15],\n",
              " [0, 1, 2, 3, 4, 16],\n",
              " [0, 1, 2, 3, 4, 22],\n",
              " [0, 1, 2, 3, 4, 23],\n",
              " [0, 1, 2, 3, 4, 24],\n",
              " [0, 1, 3, 4, 5, 6],\n",
              " [0, 1, 3, 4, 5, 7],\n",
              " [0, 1, 3, 4, 5, 8],\n",
              " [0, 1, 3, 4, 5, 10],\n",
              " [0, 1, 3, 4, 5, 11],\n",
              " [0, 1, 3, 4, 5, 12],\n",
              " [0, 1, 3, 4, 5, 13],\n",
              " [0, 1, 3, 4, 5, 14],\n",
              " [0, 1, 3, 4, 5, 15],\n",
              " [0, 1, 3, 4, 5, 17],\n",
              " [0, 1, 3, 4, 5, 18],\n",
              " [0, 1, 3, 4, 5, 21],\n",
              " [0, 1, 3, 4, 5, 26],\n",
              " [0, 1, 3, 4, 5, 27],\n",
              " [0, 1, 3, 4, 6, 8],\n",
              " [0, 1, 3, 4, 7, 8],\n",
              " [0, 1, 3, 4, 8, 9],\n",
              " [0, 1, 3, 4, 8, 10],\n",
              " [0, 1, 3, 4, 8, 15],\n",
              " [0, 1, 3, 4, 8, 16],\n",
              " [0, 1, 3, 4, 8, 21],\n",
              " [0, 1, 3, 4, 8, 22],\n",
              " [0, 1, 3, 4, 8, 23],\n",
              " [0, 1, 3, 4, 8, 24],\n",
              " [0, 1, 3, 4, 7, 9],\n",
              " [0, 1, 3, 4, 9, 22],\n",
              " [0, 1, 3, 4, 9, 27],\n",
              " [0, 1, 2, 3, 5, 16],\n",
              " [0, 1, 2, 3, 5, 22],\n",
              " [0, 1, 2, 3, 5, 23],\n",
              " [0, 1, 2, 3, 5, 24],\n",
              " [0, 1, 3, 4, 5, 9],\n",
              " [0, 1, 3, 5, 6, 7],\n",
              " [0, 1, 3, 5, 6, 8],\n",
              " [0, 1, 3, 5, 6, 10],\n",
              " [0, 1, 3, 5, 6, 13],\n",
              " [0, 1, 3, 5, 6, 15],\n",
              " [0, 1, 3, 5, 6, 16],\n",
              " [0, 1, 3, 5, 6, 21],\n",
              " [0, 1, 3, 5, 6, 23],\n",
              " [0, 1, 3, 5, 6, 24],\n",
              " [0, 1, 3, 5, 7, 8],\n",
              " [0, 1, 3, 5, 7, 9],\n",
              " [0, 1, 3, 5, 7, 10],\n",
              " [0, 1, 3, 5, 7, 17],\n",
              " [0, 1, 3, 5, 7, 18],\n",
              " [0, 1, 3, 5, 7, 21],\n",
              " [0, 1, 3, 5, 7, 23],\n",
              " [0, 1, 3, 5, 7, 24],\n",
              " [0, 1, 3, 5, 8, 9],\n",
              " [0, 1, 3, 5, 8, 10],\n",
              " [0, 1, 3, 5, 8, 15],\n",
              " [0, 1, 3, 5, 8, 16],\n",
              " [0, 1, 3, 5, 8, 21],\n",
              " [0, 1, 3, 5, 8, 22],\n",
              " [0, 1, 3, 5, 8, 23],\n",
              " [0, 1, 3, 5, 8, 24],\n",
              " [0, 1, 3, 5, 10, 15],\n",
              " [0, 1, 3, 5, 10, 21],\n",
              " [0, 1, 3, 5, 10, 22],\n",
              " [0, 1, 3, 5, 10, 23],\n",
              " [0, 1, 3, 5, 10, 24],\n",
              " [0, 1, 3, 5, 11, 12],\n",
              " [0, 1, 3, 5, 11, 13],\n",
              " [0, 1, 3, 5, 12, 13],\n",
              " [0, 1, 3, 5, 12, 14],\n",
              " [0, 1, 3, 5, 15, 16],\n",
              " [0, 1, 3, 5, 15, 20],\n",
              " [0, 1, 3, 5, 15, 23],\n",
              " [0, 1, 3, 5, 15, 24],\n",
              " [0, 1, 3, 5, 17, 18],\n",
              " [0, 1, 3, 5, 9, 27],\n",
              " [0, 1, 2, 3, 6, 22],\n",
              " [0, 1, 3, 5, 6, 11],\n",
              " [0, 1, 3, 5, 6, 12],\n",
              " [0, 1, 3, 5, 6, 14],\n",
              " [0, 1, 3, 5, 6, 17],\n",
              " [0, 1, 3, 5, 6, 18],\n",
              " [0, 1, 3, 5, 6, 26],\n",
              " [0, 1, 3, 5, 6, 27],\n",
              " [0, 1, 3, 6, 7, 8],\n",
              " [0, 1, 3, 6, 7, 9],\n",
              " [0, 1, 3, 6, 7, 10],\n",
              " [0, 1, 3, 6, 7, 17],\n",
              " [0, 1, 3, 6, 7, 18],\n",
              " [0, 1, 3, 6, 7, 21],\n",
              " [0, 1, 3, 6, 7, 23],\n",
              " [0, 1, 3, 6, 7, 24],\n",
              " [0, 1, 3, 6, 8, 9],\n",
              " [0, 1, 3, 6, 8, 10],\n",
              " [0, 1, 3, 6, 8, 15],\n",
              " [0, 1, 3, 6, 8, 16],\n",
              " [0, 1, 3, 6, 8, 21],\n",
              " [0, 1, 3, 6, 8, 22],\n",
              " [0, 1, 3, 6, 8, 23],\n",
              " [0, 1, 3, 6, 8, 24],\n",
              " [0, 1, 3, 6, 10, 15],\n",
              " [0, 1, 3, 6, 10, 21],\n",
              " [0, 1, 3, 6, 10, 22],\n",
              " [0, 1, 3, 6, 10, 23],\n",
              " [0, 1, 3, 6, 10, 24],\n",
              " [0, 1, 3, 6, 11, 13],\n",
              " [0, 1, 3, 6, 12, 13],\n",
              " [0, 1, 3, 6, 15, 16],\n",
              " [0, 1, 3, 6, 15, 20],\n",
              " [0, 1, 3, 6, 15, 23],\n",
              " [0, 1, 3, 6, 15, 24],\n",
              " [0, 1, 3, 6, 16, 20],\n",
              " [0, 1, 3, 6, 16, 23],\n",
              " [0, 1, 3, 6, 16, 24],\n",
              " [0, 1, 3, 6, 23, 24],\n",
              " [0, 1, 2, 3, 7, 13],\n",
              " [0, 1, 2, 3, 7, 15],\n",
              " [0, 1, 2, 3, 7, 16],\n",
              " [0, 1, 2, 3, 7, 22],\n",
              " [0, 1, 3, 5, 7, 11],\n",
              " [0, 1, 3, 5, 7, 12],\n",
              " [0, 1, 3, 5, 7, 13],\n",
              " [0, 1, 3, 5, 7, 14],\n",
              " [0, 1, 3, 5, 7, 15],\n",
              " [0, 1, 3, 5, 7, 26],\n",
              " [0, 1, 3, 5, 7, 27],\n",
              " [0, 1, 3, 6, 7, 13],\n",
              " [0, 1, 3, 6, 7, 15],\n",
              " [0, 1, 3, 6, 7, 16],\n",
              " [0, 1, 3, 7, 8, 9],\n",
              " [0, 1, 3, 7, 8, 10],\n",
              " [0, 1, 3, 7, 8, 15],\n",
              " [0, 1, 3, 7, 8, 16],\n",
              " [0, 1, 3, 7, 8, 21],\n",
              " [0, 1, 3, 7, 8, 22],\n",
              " [0, 1, 3, 7, 8, 23],\n",
              " [0, 1, 3, 7, 8, 24],\n",
              " [0, 1, 3, 7, 9, 22],\n",
              " [0, 1, 3, 7, 9, 27],\n",
              " [0, 1, 3, 7, 10, 15],\n",
              " [0, 1, 3, 7, 10, 21],\n",
              " [0, 1, 3, 7, 10, 22],\n",
              " [0, 1, 3, 7, 10, 23],\n",
              " [0, 1, 3, 7, 10, 24],\n",
              " [0, 1, 3, 7, 17, 18],\n",
              " [0, 1, 3, 7, 15, 23],\n",
              " [0, 1, 3, 7, 16, 23],\n",
              " [0, 1, 3, 7, 23, 24],\n",
              " [0, 1, 3, 7, 15, 24],\n",
              " [0, 1, 3, 7, 16, 24],\n",
              " [0, 1, 2, 3, 8, 13],\n",
              " [0, 1, 3, 5, 8, 11],\n",
              " [0, 1, 3, 5, 8, 12],\n",
              " [0, 1, 3, 5, 8, 13],\n",
              " [0, 1, 3, 5, 8, 14],\n",
              " [0, 1, 3, 5, 8, 17],\n",
              " [0, 1, 3, 5, 8, 18],\n",
              " [0, 1, 3, 5, 8, 26],\n",
              " [0, 1, 3, 5, 8, 27],\n",
              " [0, 1, 3, 6, 8, 13],\n",
              " [0, 1, 3, 7, 8, 17],\n",
              " [0, 1, 3, 7, 8, 18],\n",
              " [0, 1, 3, 8, 9, 22],\n",
              " [0, 1, 3, 8, 9, 27],\n",
              " [0, 1, 3, 8, 10, 15],\n",
              " [0, 1, 3, 8, 10, 21],\n",
              " [0, 1, 3, 8, 10, 22],\n",
              " [0, 1, 3, 8, 10, 23],\n",
              " [0, 1, 3, 8, 10, 24],\n",
              " [0, 1, 3, 8, 15, 16],\n",
              " [0, 1, 3, 8, 15, 20],\n",
              " [0, 1, 3, 8, 15, 23],\n",
              " [0, 1, 3, 8, 15, 24],\n",
              " [0, 1, 3, 8, 16, 20],\n",
              " [0, 1, 3, 8, 16, 23],\n",
              " [0, 1, 3, 8, 16, 24],\n",
              " [0, 1, 3, 8, 23, 24],\n",
              " [0, 1, 2, 3, 9, 13],\n",
              " [0, 1, 2, 3, 9, 15],\n",
              " [0, 1, 2, 3, 9, 16],\n",
              " [0, 1, 2, 3, 9, 23],\n",
              " [0, 1, 2, 3, 9, 24],\n",
              " [0, 1, 3, 7, 9, 10],\n",
              " [0, 1, 3, 7, 9, 17],\n",
              " [0, 1, 3, 7, 9, 18],\n",
              " [0, 1, 3, 7, 9, 21],\n",
              " [0, 1, 3, 7, 9, 23],\n",
              " [0, 1, 3, 7, 9, 24],\n",
              " [0, 1, 3, 8, 9, 10],\n",
              " [0, 1, 3, 8, 9, 15],\n",
              " [0, 1, 3, 8, 9, 16],\n",
              " [0, 1, 3, 8, 9, 21],\n",
              " [0, 1, 3, 8, 9, 23],\n",
              " [0, 1, 3, 8, 9, 24],\n",
              " [0, 1, 3, 9, 10, 22],\n",
              " [0, 1, 2, 3, 10, 13],\n",
              " [0, 1, 2, 3, 10, 16],\n",
              " [0, 1, 3, 5, 10, 11],\n",
              " [0, 1, 3, 5, 10, 12],\n",
              " [0, 1, 3, 5, 10, 13],\n",
              " [0, 1, 3, 5, 10, 14],\n",
              " [0, 1, 3, 5, 10, 17],\n",
              " [0, 1, 3, 5, 10, 18],\n",
              " [0, 1, 3, 5, 10, 26],\n",
              " [0, 1, 3, 5, 10, 27],\n",
              " [0, 1, 3, 6, 10, 13],\n",
              " [0, 1, 3, 6, 10, 16],\n",
              " [0, 1, 3, 7, 10, 17],\n",
              " [0, 1, 3, 7, 10, 18],\n",
              " [0, 1, 3, 8, 10, 16],\n",
              " [0, 1, 3, 10, 15, 16],\n",
              " [0, 1, 3, 10, 15, 20],\n",
              " [0, 1, 3, 10, 15, 23],\n",
              " [0, 1, 3, 10, 15, 24],\n",
              " [0, 1, 3, 10, 16, 23],\n",
              " [0, 1, 3, 10, 23, 24],\n",
              " [0, 1, 3, 10, 16, 24],\n",
              " [0, 1, 2, 3, 13, 14],\n",
              " [0, 1, 2, 3, 14, 15],\n",
              " [0, 1, 2, 3, 14, 16],\n",
              " [0, 1, 2, 3, 14, 22],\n",
              " [0, 1, 2, 3, 14, 23],\n",
              " [0, 1, 2, 3, 14, 24],\n",
              " [0, 1, 3, 5, 11, 14],\n",
              " [0, 1, 3, 5, 13, 14],\n",
              " [0, 1, 3, 5, 14, 15],\n",
              " [0, 1, 3, 5, 14, 17],\n",
              " [0, 1, 3, 5, 14, 18],\n",
              " [0, 1, 3, 5, 14, 21],\n",
              " [0, 1, 3, 5, 14, 26],\n",
              " [0, 1, 3, 5, 14, 27],\n",
              " [0, 1, 3, 11, 12, 14],\n",
              " [0, 1, 3, 12, 13, 14],\n",
              " [0, 1, 3, 5, 11, 17],\n",
              " [0, 1, 3, 5, 12, 17],\n",
              " [0, 1, 3, 5, 13, 17],\n",
              " [0, 1, 3, 5, 15, 17],\n",
              " [0, 1, 3, 5, 17, 21],\n",
              " [0, 1, 3, 5, 17, 26],\n",
              " [0, 1, 3, 5, 17, 27],\n",
              " [0, 1, 3, 7, 17, 21],\n",
              " [0, 1, 3, 7, 17, 23],\n",
              " [0, 1, 3, 7, 17, 24],\n",
              " [0, 1, 3, 5, 11, 18],\n",
              " [0, 1, 3, 5, 12, 18],\n",
              " [0, 1, 3, 5, 13, 18],\n",
              " [0, 1, 3, 5, 15, 18],\n",
              " [0, 1, 3, 5, 18, 21],\n",
              " [0, 1, 3, 5, 18, 26],\n",
              " [0, 1, 3, 5, 18, 27],\n",
              " [0, 1, 3, 7, 18, 21],\n",
              " [0, 1, 3, 7, 18, 23],\n",
              " [0, 1, 3, 7, 18, 24],\n",
              " [0, 1, 2, 5, 9, 22],\n",
              " [0, 1, 2, 5, 16, 20],\n",
              " [0, 1, 2, 5, 16, 23],\n",
              " [0, 1, 2, 5, 16, 24],\n",
              " [0, 1, 2, 5, 23, 24],\n",
              " [0, 1, 3, 5, 9, 22],\n",
              " [0, 1, 2, 4, 5, 16],\n",
              " [0, 1, 2, 4, 5, 22],\n",
              " [0, 1, 2, 4, 5, 23],\n",
              " [0, 1, 2, 4, 5, 24],\n",
              " [0, 1, 4, 5, 6, 8],\n",
              " [0, 1, 4, 5, 7, 8],\n",
              " [0, 1, 4, 5, 8, 9],\n",
              " [0, 1, 4, 5, 8, 10],\n",
              " [0, 1, 4, 5, 8, 15],\n",
              " [0, 1, 4, 5, 8, 16],\n",
              " [0, 1, 4, 5, 8, 21],\n",
              " [0, 1, 4, 5, 8, 22],\n",
              " [0, 1, 4, 5, 8, 23],\n",
              " [0, 1, 4, 5, 8, 24],\n",
              " [0, 1, 4, 5, 7, 9],\n",
              " [0, 1, 4, 5, 9, 22],\n",
              " [0, 1, 4, 5, 9, 27],\n",
              " [0, 1, 2, 5, 6, 9],\n",
              " [0, 1, 2, 5, 6, 22],\n",
              " [0, 1, 3, 5, 6, 9],\n",
              " [0, 1, 5, 6, 7, 8],\n",
              " [0, 1, 5, 6, 7, 9],\n",
              " [0, 1, 5, 6, 7, 10],\n",
              " [0, 1, 5, 6, 7, 17],\n",
              " [0, 1, 5, 6, 7, 18],\n",
              " [0, 1, 5, 6, 7, 21],\n",
              " [0, 1, 5, 6, 7, 23],\n",
              " [0, 1, 5, 6, 7, 24],\n",
              " [0, 1, 5, 6, 8, 9],\n",
              " [0, 1, 5, 6, 8, 10],\n",
              " [0, 1, 5, 6, 8, 15],\n",
              " [0, 1, 5, 6, 8, 16],\n",
              " [0, 1, 5, 6, 8, 21],\n",
              " [0, 1, 5, 6, 8, 22],\n",
              " [0, 1, 5, 6, 8, 23],\n",
              " [0, 1, 5, 6, 8, 24],\n",
              " [0, 1, 5, 6, 10, 15],\n",
              " [0, 1, 5, 6, 10, 21],\n",
              " [0, 1, 5, 6, 10, 22],\n",
              " [0, 1, 5, 6, 10, 23],\n",
              " [0, 1, 5, 6, 10, 24],\n",
              " [0, 1, 5, 6, 11, 13],\n",
              " [0, 1, 5, 6, 12, 13],\n",
              " [0, 1, 5, 6, 15, 16],\n",
              " [0, 1, 5, 6, 15, 20],\n",
              " [0, 1, 5, 6, 15, 23],\n",
              " [0, 1, 5, 6, 15, 24],\n",
              " [0, 1, 5, 6, 16, 20],\n",
              " [0, 1, 5, 6, 16, 23],\n",
              " [0, 1, 5, 6, 16, 24],\n",
              " [0, 1, 5, 6, 23, 24],\n",
              " [0, 1, 2, 5, 7, 16],\n",
              " [0, 1, 2, 5, 7, 22],\n",
              " [0, 1, 5, 6, 7, 13],\n",
              " [0, 1, 5, 6, 7, 15],\n",
              " [0, 1, 5, 6, 7, 16],\n",
              " [0, 1, 5, 7, 8, 9],\n",
              " [0, 1, 5, 7, 8, 10],\n",
              " [0, 1, 5, 7, 8, 15],\n",
              " [0, 1, 5, 7, 8, 16],\n",
              " [0, 1, 5, 7, 8, 21],\n",
              " [0, 1, 5, 7, 8, 22],\n",
              " [0, 1, 5, 7, 8, 23],\n",
              " [0, 1, 5, 7, 8, 24],\n",
              " [0, 1, 5, 7, 9, 22],\n",
              " [0, 1, 5, 7, 9, 27],\n",
              " [0, 1, 5, 7, 10, 15],\n",
              " [0, 1, 5, 7, 10, 21],\n",
              " [0, 1, 5, 7, 10, 22],\n",
              " [0, 1, 5, 7, 10, 23],\n",
              " [0, 1, 5, 7, 10, 24],\n",
              " [0, 1, 5, 7, 17, 18],\n",
              " [0, 1, 5, 7, 15, 23],\n",
              " [0, 1, 5, 7, 16, 23],\n",
              " [0, 1, 5, 7, 23, 24],\n",
              " [0, 1, 5, 7, 15, 24],\n",
              " [0, 1, 5, 7, 16, 24],\n",
              " [0, 1, 5, 6, 8, 13],\n",
              " [0, 1, 5, 7, 8, 17],\n",
              " [0, 1, 5, 7, 8, 18],\n",
              " [0, 1, 5, 8, 9, 22],\n",
              " [0, 1, 5, 8, 9, 27],\n",
              " [0, 1, 5, 8, 10, 15],\n",
              " [0, 1, 5, 8, 10, 21],\n",
              " [0, 1, 5, 8, 10, 22],\n",
              " [0, 1, 5, 8, 10, 23],\n",
              " [0, 1, 5, 8, 10, 24],\n",
              " [0, 1, 5, 8, 15, 16],\n",
              " [0, 1, 5, 8, 15, 20],\n",
              " [0, 1, 5, 8, 15, 23],\n",
              " [0, 1, 5, 8, 15, 24],\n",
              " [0, 1, 5, 8, 16, 20],\n",
              " [0, 1, 5, 8, 16, 23],\n",
              " [0, 1, 5, 8, 16, 24],\n",
              " [0, 1, 5, 8, 23, 24],\n",
              " [0, 1, 2, 5, 9, 10],\n",
              " [0, 1, 2, 5, 10, 16],\n",
              " [0, 1, 3, 5, 9, 10],\n",
              " [0, 1, 5, 6, 10, 13],\n",
              " [0, 1, 5, 6, 10, 16],\n",
              " [0, 1, 5, 7, 9, 10],\n",
              " [0, 1, 5, 7, 10, 17],\n",
              " [0, 1, 5, 7, 10, 18],\n",
              " [0, 1, 5, 8, 9, 10],\n",
              " [0, 1, 5, 8, 10, 16],\n",
              " [0, 1, 5, 10, 15, 16],\n",
              " [0, 1, 5, 10, 15, 20],\n",
              " [0, 1, 5, 10, 15, 23],\n",
              " [0, 1, 5, 10, 15, 24],\n",
              " [0, 1, 5, 9, 10, 22],\n",
              " [0, 1, 5, 10, 16, 23],\n",
              " [0, 1, 5, 10, 23, 24],\n",
              " [0, 1, 5, 10, 16, 24],\n",
              " [0, 1, 5, 11, 12, 13],\n",
              " [0, 1, 5, 11, 12, 14],\n",
              " [0, 1, 2, 5, 9, 13],\n",
              " [0, 1, 2, 5, 13, 16],\n",
              " [0, 1, 2, 5, 13, 22],\n",
              " [0, 1, 2, 5, 13, 23],\n",
              " [0, 1, 2, 5, 13, 24],\n",
              " [0, 1, 5, 6, 13, 15],\n",
              " [0, 1, 5, 6, 13, 16],\n",
              " [0, 1, 5, 6, 13, 21],\n",
              " [0, 1, 5, 6, 13, 23],\n",
              " [0, 1, 5, 6, 13, 24],\n",
              " [0, 1, 5, 12, 13, 14],\n",
              " [0, 1, 2, 5, 9, 14],\n",
              " [0, 1, 2, 5, 14, 16],\n",
              " [0, 1, 2, 5, 14, 22],\n",
              " [0, 1, 2, 5, 14, 23],\n",
              " [0, 1, 2, 5, 14, 24],\n",
              " [0, 1, 3, 5, 9, 14],\n",
              " [0, 1, 2, 5, 9, 15],\n",
              " [0, 1, 2, 5, 15, 22],\n",
              " [0, 1, 5, 6, 15, 21],\n",
              " [0, 1, 5, 8, 9, 15],\n",
              " [0, 1, 5, 8, 15, 21],\n",
              " [0, 1, 5, 8, 15, 22],\n",
              " [0, 1, 5, 10, 15, 21],\n",
              " [0, 1, 5, 10, 15, 22],\n",
              " [0, 1, 5, 15, 16, 20],\n",
              " [0, 1, 5, 15, 16, 23],\n",
              " [0, 1, 5, 15, 16, 24],\n",
              " [0, 1, 5, 15, 23, 24],\n",
              " [0, 1, 3, 5, 9, 17],\n",
              " [0, 1, 5, 7, 9, 17],\n",
              " [0, 1, 5, 7, 17, 21],\n",
              " [0, 1, 5, 7, 17, 23],\n",
              " [0, 1, 5, 7, 17, 24],\n",
              " [0, 1, 3, 5, 9, 18],\n",
              " [0, 1, 5, 7, 9, 18],\n",
              " [0, 1, 5, 7, 18, 21],\n",
              " [0, 1, 5, 7, 18, 23],\n",
              " [0, 1, 5, 7, 18, 24],\n",
              " [0, 1, 5, 6, 16, 21],\n",
              " [0, 1, 5, 6, 21, 23],\n",
              " [0, 1, 5, 6, 21, 24],\n",
              " [0, 1, 5, 7, 9, 21],\n",
              " [0, 1, 5, 7, 21, 23],\n",
              " [0, 1, 5, 7, 21, 24],\n",
              " [0, 1, 5, 8, 9, 21],\n",
              " [0, 1, 5, 8, 16, 21],\n",
              " [0, 1, 5, 8, 21, 22],\n",
              " [0, 1, 5, 8, 21, 23],\n",
              " [0, 1, 5, 8, 21, 24],\n",
              " [0, 1, 5, 10, 21, 22],\n",
              " [0, 1, 5, 10, 21, 23],\n",
              " [0, 1, 5, 10, 21, 24],\n",
              " [0, 1, 5, 9, 22, 27],\n",
              " [0, 1, 2, 4, 6, 9],\n",
              " [0, 1, 2, 6, 9, 22],\n",
              " [0, 1, 2, 6, 9, 27],\n",
              " [0, 1, 2, 6, 12, 14],\n",
              " [0, 1, 3, 4, 6, 9],\n",
              " [0, 1, 3, 6, 9, 22],\n",
              " [0, 1, 3, 6, 9, 27],\n",
              " [0, 1, 3, 6, 12, 14],\n",
              " [0, 1, 3, 6, 17, 18],\n",
              " [0, 1, 4, 5, 6, 9],\n",
              " [0, 1, 5, 6, 11, 12],\n",
              " [0, 1, 5, 6, 12, 14],\n",
              " [0, 1, 5, 6, 17, 18],\n",
              " [0, 1, 5, 6, 9, 27],\n",
              " [0, 1, 2, 4, 6, 7],\n",
              " [0, 1, 2, 6, 7, 14],\n",
              " [0, 1, 2, 6, 7, 22],\n",
              " [0, 1, 3, 4, 6, 7],\n",
              " [0, 1, 3, 6, 7, 14],\n",
              " [0, 1, 4, 5, 6, 7],\n",
              " [0, 1, 5, 6, 7, 11],\n",
              " [0, 1, 5, 6, 7, 12],\n",
              " [0, 1, 5, 6, 7, 14],\n",
              " [0, 1, 5, 6, 7, 26],\n",
              " [0, 1, 5, 6, 7, 27],\n",
              " [0, 1, 4, 6, 7, 8],\n",
              " [0, 1, 6, 7, 8, 9],\n",
              " [0, 1, 6, 7, 8, 10],\n",
              " [0, 1, 6, 7, 8, 15],\n",
              " [0, 1, 6, 7, 8, 16],\n",
              " [0, 1, 6, 7, 8, 21],\n",
              " [0, 1, 6, 7, 8, 22],\n",
              " [0, 1, 6, 7, 8, 23],\n",
              " [0, 1, 6, 7, 8, 24],\n",
              " [0, 1, 4, 6, 7, 9],\n",
              " [0, 1, 6, 7, 9, 22],\n",
              " [0, 1, 6, 7, 9, 27],\n",
              " [0, 1, 6, 7, 10, 15],\n",
              " [0, 1, 6, 7, 10, 21],\n",
              " [0, 1, 6, 7, 10, 22],\n",
              " [0, 1, 6, 7, 10, 23],\n",
              " [0, 1, 6, 7, 10, 24],\n",
              " [0, 1, 6, 7, 17, 18],\n",
              " [0, 1, 6, 7, 15, 23],\n",
              " [0, 1, 6, 7, 16, 23],\n",
              " [0, 1, 6, 7, 23, 24],\n",
              " [0, 1, 6, 7, 15, 24],\n",
              " [0, 1, 6, 7, 16, 24],\n",
              " [0, 1, 2, 6, 8, 14],\n",
              " [0, 1, 3, 6, 8, 14],\n",
              " [0, 1, 3, 6, 8, 17],\n",
              " [0, 1, 3, 6, 8, 18],\n",
              " [0, 1, 4, 6, 8, 9],\n",
              " [0, 1, 5, 6, 8, 11],\n",
              " [0, 1, 5, 6, 8, 12],\n",
              " [0, 1, 5, 6, 8, 14],\n",
              " [0, 1, 5, 6, 8, 17],\n",
              " [0, 1, 5, 6, 8, 18],\n",
              " [0, 1, 5, 6, 8, 26],\n",
              " [0, 1, 5, 6, 8, 27],\n",
              " [0, 1, 6, 7, 8, 17],\n",
              " [0, 1, 6, 7, 8, 18],\n",
              " [0, 1, 6, 8, 9, 22],\n",
              " [0, 1, 6, 8, 9, 27],\n",
              " [0, 1, 6, 8, 10, 15],\n",
              " [0, 1, 6, 8, 10, 21],\n",
              " [0, 1, 6, 8, 10, 22],\n",
              " [0, 1, 6, 8, 10, 23],\n",
              " [0, 1, 6, 8, 10, 24],\n",
              " [0, 1, 6, 8, 15, 16],\n",
              " [0, 1, 6, 8, 15, 20],\n",
              " [0, 1, 6, 8, 15, 23],\n",
              " [0, 1, 6, 8, 15, 24],\n",
              " [0, 1, 6, 8, 16, 20],\n",
              " [0, 1, 6, 8, 16, 23],\n",
              " [0, 1, 6, 8, 16, 24],\n",
              " [0, 1, 6, 8, 23, 24],\n",
              " [0, 1, 2, 4, 6, 10],\n",
              " [0, 1, 2, 6, 9, 10],\n",
              " [0, 1, 2, 6, 10, 14],\n",
              " [0, 1, 3, 4, 6, 10],\n",
              " [0, 1, 3, 6, 9, 10],\n",
              " [0, 1, 3, 6, 10, 14],\n",
              " [0, 1, 3, 6, 10, 17],\n",
              " [0, 1, 3, 6, 10, 18],\n",
              " [0, 1, 4, 5, 6, 10],\n",
              " [0, 1, 5, 6, 10, 11],\n",
              " [0, 1, 5, 6, 10, 12],\n",
              " [0, 1, 5, 6, 10, 14],\n",
              " [0, 1, 5, 6, 10, 17],\n",
              " [0, 1, 5, 6, 10, 18],\n",
              " [0, 1, 5, 6, 10, 26],\n",
              " [0, 1, 5, 6, 10, 27],\n",
              " [0, 1, 6, 7, 9, 10],\n",
              " [0, 1, 6, 7, 10, 17],\n",
              " [0, 1, 6, 7, 10, 18],\n",
              " [0, 1, 4, 6, 8, 10],\n",
              " [0, 1, 6, 8, 9, 10],\n",
              " [0, 1, 6, 8, 10, 16],\n",
              " [0, 1, 6, 10, 15, 16],\n",
              " [0, 1, 6, 10, 15, 20],\n",
              " [0, 1, 6, 10, 15, 23],\n",
              " [0, 1, 6, 10, 15, 24],\n",
              " [0, 1, 6, 9, 10, 22],\n",
              " [0, 1, 6, 10, 16, 23],\n",
              " [0, 1, 6, 10, 23, 24],\n",
              " [0, 1, 6, 10, 16, 24],\n",
              " [0, 1, 2, 4, 6, 13],\n",
              " [0, 1, 2, 6, 9, 13],\n",
              " [0, 1, 2, 6, 13, 14],\n",
              " [0, 1, 2, 6, 13, 22],\n",
              " [0, 1, 4, 5, 6, 13],\n",
              " [0, 1, 5, 6, 13, 14],\n",
              " [0, 1, 5, 6, 13, 17],\n",
              " [0, 1, 5, 6, 13, 18],\n",
              " [0, 1, 5, 6, 13, 26],\n",
              " [0, 1, 5, 6, 13, 27],\n",
              " [0, 1, 6, 11, 12, 13],\n",
              " [0, 1, 6, 12, 13, 14],\n",
              " [0, 1, 2, 4, 6, 15],\n",
              " [0, 1, 2, 6, 9, 15],\n",
              " [0, 1, 2, 6, 14, 15],\n",
              " [0, 1, 2, 6, 15, 22],\n",
              " [0, 1, 4, 5, 6, 15],\n",
              " [0, 1, 5, 6, 11, 15],\n",
              " [0, 1, 5, 6, 12, 15],\n",
              " [0, 1, 5, 6, 14, 15],\n",
              " [0, 1, 5, 6, 15, 17],\n",
              " [0, 1, 5, 6, 15, 18],\n",
              " [0, 1, 5, 6, 15, 26],\n",
              " [0, 1, 5, 6, 15, 27],\n",
              " [0, 1, 4, 6, 8, 15],\n",
              " [0, 1, 6, 8, 9, 15],\n",
              " [0, 1, 6, 8, 15, 21],\n",
              " [0, 1, 6, 8, 15, 22],\n",
              " [0, 1, 6, 10, 15, 21],\n",
              " [0, 1, 6, 10, 15, 22],\n",
              " [0, 1, 6, 15, 16, 20],\n",
              " [0, 1, 6, 15, 16, 23],\n",
              " [0, 1, 6, 15, 16, 24],\n",
              " [0, 1, 6, 15, 23, 24],\n",
              " [0, 1, 2, 4, 6, 16],\n",
              " [0, 1, 2, 6, 9, 16],\n",
              " [0, 1, 2, 6, 14, 16],\n",
              " [0, 1, 2, 6, 16, 22],\n",
              " [0, 1, 4, 6, 8, 16],\n",
              " [0, 1, 6, 8, 9, 16],\n",
              " [0, 1, 6, 8, 16, 21],\n",
              " [0, 1, 6, 8, 16, 22],\n",
              " [0, 1, 6, 16, 23, 24],\n",
              " [0, 1, 4, 5, 6, 21],\n",
              " [0, 1, 5, 6, 11, 21],\n",
              " [0, 1, 5, 6, 12, 21],\n",
              " [0, 1, 5, 6, 14, 21],\n",
              " [0, 1, 5, 6, 17, 21],\n",
              " [0, 1, 5, 6, 18, 21],\n",
              " [0, 1, 5, 6, 21, 26],\n",
              " [0, 1, 5, 6, 21, 27],\n",
              " [0, 1, 6, 7, 9, 21],\n",
              " [0, 1, 6, 7, 17, 21],\n",
              " [0, 1, 6, 7, 18, 21],\n",
              " [0, 1, 6, 7, 21, 23],\n",
              " [0, 1, 6, 7, 21, 24],\n",
              " [0, 1, 4, 6, 8, 21],\n",
              " [0, 1, 6, 8, 9, 21],\n",
              " [0, 1, 6, 8, 21, 22],\n",
              " [0, 1, 6, 8, 21, 23],\n",
              " [0, 1, 6, 8, 21, 24],\n",
              " [0, 1, 6, 10, 21, 22],\n",
              " [0, 1, 6, 10, 21, 23],\n",
              " [0, 1, 6, 10, 21, 24],\n",
              " [0, 1, 2, 4, 6, 23],\n",
              " [0, 1, 2, 6, 9, 23],\n",
              " [0, 1, 2, 6, 14, 23],\n",
              " [0, 1, 2, 6, 22, 23],\n",
              " [0, 1, 6, 7, 9, 23],\n",
              " [0, 1, 6, 7, 17, 23],\n",
              " [0, 1, 6, 7, 18, 23],\n",
              " [0, 1, 4, 6, 8, 23],\n",
              " [0, 1, 6, 8, 9, 23],\n",
              " [0, 1, 6, 8, 22, 23],\n",
              " [0, 1, 6, 10, 22, 23],\n",
              " [0, 1, 6, 15, 20, 23],\n",
              " [0, 1, 6, 16, 20, 23],\n",
              " [0, 1, 2, 4, 6, 24],\n",
              " [0, 1, 2, 6, 9, 24],\n",
              " [0, 1, 2, 6, 14, 24],\n",
              " [0, 1, 2, 6, 22, 24],\n",
              " [0, 1, 6, 7, 9, 24],\n",
              " [0, 1, 6, 7, 17, 24],\n",
              " [0, 1, 6, 7, 18, 24],\n",
              " [0, 1, 4, 6, 8, 24],\n",
              " [0, 1, 6, 8, 9, 24],\n",
              " [0, 1, 6, 8, 22, 24],\n",
              " [0, 1, 6, 10, 22, 24],\n",
              " [0, 1, 6, 15, 20, 24],\n",
              " [0, 1, 6, 16, 20, 24],\n",
              " [0, 1, 2, 7, 11, 13],\n",
              " [0, 1, 2, 7, 12, 13],\n",
              " [0, 1, 2, 7, 12, 14],\n",
              " [0, 1, 2, 7, 15, 16],\n",
              " [0, 1, 2, 7, 15, 20],\n",
              " [0, 1, 2, 7, 16, 20],\n",
              " [0, 1, 3, 7, 12, 14],\n",
              " [0, 1, 5, 7, 11, 12],\n",
              " [0, 1, 5, 7, 11, 13],\n",
              " [0, 1, 5, 7, 12, 13],\n",
              " [0, 1, 5, 7, 12, 14],\n",
              " [0, 1, 5, 7, 15, 16],\n",
              " [0, 1, 5, 7, 15, 20],\n",
              " [0, 1, 6, 7, 11, 13],\n",
              " [0, 1, 6, 7, 12, 13],\n",
              " [0, 1, 6, 7, 15, 16],\n",
              " [0, 1, 6, 7, 15, 20],\n",
              " [0, 1, 6, 7, 16, 20],\n",
              " [0, 1, 2, 7, 8, 13],\n",
              " [0, 1, 2, 7, 8, 14],\n",
              " [0, 1, 3, 7, 8, 14],\n",
              " [0, 1, 4, 7, 8, 9],\n",
              " [0, 1, 5, 7, 8, 11],\n",
              " [0, 1, 5, 7, 8, 12],\n",
              " [0, 1, 5, 7, 8, 13],\n",
              " [0, 1, 5, 7, 8, 14],\n",
              " [0, 1, 5, 7, 8, 26],\n",
              " ...]"
            ]
          },
          "metadata": {},
          "execution_count": 105
        }
      ]
    },
    {
      "cell_type": "code",
      "source": [
        "len(cycle6)"
      ],
      "metadata": {
        "colab": {
          "base_uri": "https://localhost:8080/"
        },
        "id": "vt7gwJj-j6OB",
        "outputId": "9e2ae9b5-855e-4c6f-f13b-9a442ecd256b"
      },
      "execution_count": null,
      "outputs": [
        {
          "output_type": "execute_result",
          "data": {
            "text/plain": [
              "15972"
            ]
          },
          "metadata": {},
          "execution_count": 106
        }
      ]
    },
    {
      "cell_type": "markdown",
      "source": [
        "Yes, it is possible for a social network to have more hexagonal cycles than triangular cycles.\n",
        "\n",
        "In a social network, nodes represent individuals, and edges represent connections between individuals. A cycle is a closed path in the network that starts and ends at the same node, and a hexagonal cycle is a cycle that passes through six nodes, while a triangular cycle passes through three nodes.\n",
        "\n",
        "The number of hexagonal and triangular cycles in a social network depends on the structure of the network. For example, a social network where most individuals have six connections will tend to have more hexagonal cycles, while a network where most individuals have three connections will tend to have more triangular cycles.\n",
        "\n",
        "It is possible for a social network to have more hexagonal cycles than triangular cycles if the network has a relatively high degree of clustering. Clustering refers to the tendency for individuals to form clusters or communities in a network. In a highly clustered network, individuals tend to have many connections to others in their cluster, which can result in the formation of hexagonal cycles.\n",
        "\n",
        "In summary, the number of hexagonal and triangular cycles in a social network depends on the network's structure, and it is possible for a social network to have more hexagonal cycles than triangular cycles if the network is highly clustered."
      ],
      "metadata": {
        "id": "kgrE6XzXwYuB"
      }
    },
    {
      "cell_type": "markdown",
      "source": [
        "# Graph Energy"
      ],
      "metadata": {
        "id": "BtzeBIiolXtS"
      }
    },
    {
      "cell_type": "markdown",
      "source": [
        "The graph energy is a mathematical concept that is used to characterize the total energy of a graph. The energy of a graph is a sum of the squared absolute values of the eigenvalues of its adjacency matrix. The adjacency matrix of a graph is a square matrix that represents the connections between the nodes of the graph.\n",
        "\n",
        "The graph energy is a measure of the overall connectivity and organization of a graph. A higher graph energy value indicates that the graph is more strongly connected and better organized, whereas a lower graph energy value indicates a weaker connectivity and organization.\n",
        "\n",
        "Graph energy has applications in various fields, such as chemistry, physics, and network science. For example, in chemistry, the graph energy of a molecule can be used to predict its reactivity and stability. In physics, the graph energy of a system can be used to analyze its quantum mechanical properties. In network science, the graph energy can be used to compare the overall connectivity and organization of different networks."
      ],
      "metadata": {
        "id": "TuE2yaIkvbmn"
      }
    },
    {
      "cell_type": "code",
      "source": [
        "nodes = [\"Hagrid\", \"Draco\", \"McGonagall\"]\n",
        "subgraph = G.subgraph(nodes)"
      ],
      "metadata": {
        "id": "AZ7JqfdSk84G"
      },
      "execution_count": null,
      "outputs": []
    },
    {
      "cell_type": "code",
      "source": [
        "nx.draw_networkx(subgraph, pos=pos, node_size = 800, font_size=8, node_color=\"pink\")\n",
        "nx.draw_networkx_edges(subgraph, pos=pos)\n",
        "edge_labels = nx.get_edge_attributes(subgraph, 'weight')\n",
        "nx.draw_networkx_edge_labels(subgraph, pos=pos, edge_labels=edge_labels)\n",
        "plt.show()"
      ],
      "metadata": {
        "colab": {
          "base_uri": "https://localhost:8080/",
          "height": 406
        },
        "id": "wUYWyw24lfV8",
        "outputId": "53eca506-2668-47da-de48-9e23f0fb6b7c"
      },
      "execution_count": null,
      "outputs": [
        {
          "output_type": "display_data",
          "data": {
            "text/plain": [
              "<Figure size 640x480 with 1 Axes>"
            ],
            "image/png": "[encoded data removed]"
          },
          "metadata": {}
        }
      ]
    },
    {
      "cell_type": "code",
      "source": [
        "A = nx.adjacency_matrix(subgraph).todense()\n",
        "eigvals = np.linalg.eigvals(A)\n",
        "energy = sum(abs(eigvals)**2)\n",
        "print(\"Graph Energy:\", energy)"
      ],
      "metadata": {
        "colab": {
          "base_uri": "https://localhost:8080/"
        },
        "id": "pZLgi0F1lgXV",
        "outputId": "472d36b2-8a5d-4bb1-f7e9-8b29bb44e345"
      },
      "execution_count": null,
      "outputs": [
        {
          "output_type": "stream",
          "name": "stdout",
          "text": [
            "Graph Energy: 400.00000000000017\n"
          ]
        }
      ]
    },
    {
      "cell_type": "code",
      "source": [
        "TotalEnergy3 = 0\n",
        "for i in cycle3:\n",
        "  nodes=[characters[i[0]], characters[i[1]], characters[i[2]]]\n",
        "  subgraph = G.subgraph(nodes)\n",
        "  A = nx.adjacency_matrix(subgraph).todense()\n",
        "  eigvals = np.linalg.eigvals(A)\n",
        "  energy = sum(abs(eigvals)**2)\n",
        "  TotalEnergy3 = TotalEnergy3 + energy\n",
        "TotalEnergy3 / len(cycle3)"
      ],
      "metadata": {
        "colab": {
          "base_uri": "https://localhost:8080/"
        },
        "id": "5PJoephrlzKl",
        "outputId": "fbba71e0-ddb5-4516-e6de-c2c00db8228d"
      },
      "execution_count": null,
      "outputs": [
        {
          "output_type": "execute_result",
          "data": {
            "text/plain": [
              "20329.43157894737"
            ]
          },
          "metadata": {},
          "execution_count": 110
        }
      ]
    },
    {
      "cell_type": "markdown",
      "source": [
        "After removing node 3"
      ],
      "metadata": {
        "id": "q9TxrYbtmBuQ"
      }
    },
    {
      "cell_type": "code",
      "source": [
        "TotalEnergy2 = 0\n",
        "for i in cycle3:\n",
        "  nodes=[characters[i[0]], characters[i[1]]]\n",
        "  subgraph = G.subgraph(nodes)\n",
        "  A = nx.adjacency_matrix(subgraph).todense()\n",
        "  eigvals = np.linalg.eigvals(A)\n",
        "  energy = sum(abs(eigvals)**2)\n",
        "  TotalEnergy2 = TotalEnergy2 + energy\n",
        "TotalEnergy2 / len(cycle3)"
      ],
      "metadata": {
        "colab": {
          "base_uri": "https://localhost:8080/"
        },
        "id": "-ip2tZy0l7T7",
        "outputId": "7348d915-5a17-46d4-b10d-9dfd5cfd5bca"
      },
      "execution_count": null,
      "outputs": [
        {
          "output_type": "execute_result",
          "data": {
            "text/plain": [
              "17160.81403508772"
            ]
          },
          "metadata": {},
          "execution_count": 111
        }
      ]
    },
    {
      "cell_type": "code",
      "source": [
        "norm2=(TotalEnergy3-TotalEnergy2)/TotalEnergy3\n",
        "norm2"
      ],
      "metadata": {
        "colab": {
          "base_uri": "https://localhost:8080/"
        },
        "id": "Si3t5f-JrdCL",
        "outputId": "781f2d69-5ad9-4189-a3d2-a36c34bf798f"
      },
      "execution_count": null,
      "outputs": [
        {
          "output_type": "execute_result",
          "data": {
            "text/plain": [
              "0.15586355828763"
            ]
          },
          "metadata": {},
          "execution_count": 112
        }
      ]
    },
    {
      "cell_type": "markdown",
      "source": [
        "After removing node 2"
      ],
      "metadata": {
        "id": "RCy9GGX1mGQT"
      }
    },
    {
      "cell_type": "code",
      "source": [
        "TotalEnergy31 = 0\n",
        "for i in cycle3:\n",
        "  nodes=[characters[i[0]], characters[i[2]]]\n",
        "  subgraph = G.subgraph(nodes)\n",
        "  A = nx.adjacency_matrix(subgraph).todense()\n",
        "  eigvals = np.linalg.eigvals(A)\n",
        "  energy = sum(abs(eigvals)**2)\n",
        "  TotalEnergy31 = TotalEnergy31 + energy\n",
        "TotalEnergy31 / len(cycle3)"
      ],
      "metadata": {
        "colab": {
          "base_uri": "https://localhost:8080/"
        },
        "id": "XVw1rBxqmFgr",
        "outputId": "32c8d23c-75e8-44b4-e578-d127b39d12c3"
      },
      "execution_count": null,
      "outputs": [
        {
          "output_type": "execute_result",
          "data": {
            "text/plain": [
              "2597.642105263158"
            ]
          },
          "metadata": {},
          "execution_count": 113
        }
      ]
    },
    {
      "cell_type": "markdown",
      "source": [
        "After removing node 1"
      ],
      "metadata": {
        "id": "gPMfG1I9mLgx"
      }
    },
    {
      "cell_type": "code",
      "source": [
        "TotalEnergy4 = 0\n",
        "for i in cycle3:\n",
        "  nodes=[characters[i[1]], characters[i[2]]]\n",
        "  subgraph = G.subgraph(nodes)\n",
        "  A = nx.adjacency_matrix(subgraph).todense()\n",
        "  eigvals = np.linalg.eigvals(A)\n",
        "  energy = sum(abs(eigvals)**2)\n",
        "  TotalEnergy4 = TotalEnergy4 + energy\n",
        "TotalEnergy4 / len(cycle3)"
      ],
      "metadata": {
        "colab": {
          "base_uri": "https://localhost:8080/"
        },
        "id": "U9eeUSFHmK7x",
        "outputId": "c1e90b3e-2d6e-4bb6-852c-0ec770947d30"
      },
      "execution_count": null,
      "outputs": [
        {
          "output_type": "execute_result",
          "data": {
            "text/plain": [
              "570.9754385964912"
            ]
          },
          "metadata": {},
          "execution_count": 114
        }
      ]
    },
    {
      "cell_type": "code",
      "source": [
        "norm4=(TotalEnergy3-TotalEnergy4)/TotalEnergy3\n",
        "norm4"
      ],
      "metadata": {
        "colab": {
          "base_uri": "https://localhost:8080/"
        },
        "id": "cNwlVtIMrpJz",
        "outputId": "9749b904-a6db-426f-d3a5-2b5974b87ee8"
      },
      "execution_count": null,
      "outputs": [
        {
          "output_type": "execute_result",
          "data": {
            "text/plain": [
              "0.9719138512860449"
            ]
          },
          "metadata": {},
          "execution_count": 115
        }
      ]
    },
    {
      "cell_type": "markdown",
      "source": [
        "FOR CYCLE6"
      ],
      "metadata": {
        "id": "hJkz59UYmb-E"
      }
    },
    {
      "cell_type": "code",
      "source": [
        "TotalEnergy6 = 0\n",
        "for i in cycle6:\n",
        "  nodes=[characters[i[0]], characters[i[1]], characters[i[2]], characters[i[3]], characters[i[4]], characters[i[5]]]\n",
        "  subgraph = G.subgraph(nodes)\n",
        "  A = nx.adjacency_matrix(subgraph).todense()\n",
        "  eigvals = np.linalg.eigvals(A)\n",
        "  energy = sum(abs(eigvals)**2)\n",
        "  TotalEnergy6 = TotalEnergy6 + energy\n",
        "TotalEnergy6/len(cycle6)"
      ],
      "metadata": {
        "colab": {
          "base_uri": "https://localhost:8080/"
        },
        "id": "55QDW9iYmQsP",
        "outputId": "5643be6a-dda3-4b4d-8921-017634534e7a"
      },
      "execution_count": null,
      "outputs": [
        {
          "output_type": "execute_result",
          "data": {
            "text/plain": [
              "79143.89030803907"
            ]
          },
          "metadata": {},
          "execution_count": 116
        }
      ]
    },
    {
      "cell_type": "markdown",
      "source": [
        "After removing node 1 (index:0)"
      ],
      "metadata": {
        "id": "rNMAFGVzmr30"
      }
    },
    {
      "cell_type": "code",
      "source": [
        "TotalEnergy5 = 0\n",
        "for i in cycle6:\n",
        "  nodes=[characters[i[1]], characters[i[2]], characters[i[3]], characters[i[4]], characters[i[5]]]\n",
        "  subgraph = G.subgraph(nodes)\n",
        "  A = nx.adjacency_matrix(subgraph).todense()\n",
        "  eigvals = np.linalg.eigvals(A)\n",
        "  energy = sum(abs(eigvals)**2)\n",
        "  TotalEnergy5 = TotalEnergy5 + energy\n",
        "TotalEnergy5/len(cycle6)"
      ],
      "metadata": {
        "colab": {
          "base_uri": "https://localhost:8080/"
        },
        "id": "aqFKuRMSmfDS",
        "outputId": "d0f1bd8a-ed87-4422-e5ae-58b107c3a92f"
      },
      "execution_count": null,
      "outputs": [
        {
          "output_type": "execute_result",
          "data": {
            "text/plain": [
              "4662.254445279239"
            ]
          },
          "metadata": {},
          "execution_count": 117
        }
      ]
    },
    {
      "cell_type": "code",
      "source": [
        "norm5=(TotalEnergy6-TotalEnergy5)/TotalEnergy6\n",
        "norm5"
      ],
      "metadata": {
        "colab": {
          "base_uri": "https://localhost:8080/"
        },
        "id": "dzh3HkqQrA4R",
        "outputId": "2f4355d9-7de8-4678-b651-3c6f220db71c"
      },
      "execution_count": null,
      "outputs": [
        {
          "output_type": "execute_result",
          "data": {
            "text/plain": [
              "0.9410914168215248"
            ]
          },
          "metadata": {},
          "execution_count": 118
        }
      ]
    },
    {
      "cell_type": "markdown",
      "source": [
        "After removing node 6"
      ],
      "metadata": {
        "id": "_PLG90C1oM-B"
      }
    },
    {
      "cell_type": "code",
      "source": [
        "TotalEnergy5 = 0\n",
        "for i in cycle6:\n",
        "  nodes=[characters[i[0]],characters[i[1]], characters[i[2]], characters[i[3]], characters[i[4]]]\n",
        "  subgraph = G.subgraph(nodes)\n",
        "  A = nx.adjacency_matrix(subgraph).todense()\n",
        "  eigvals = np.linalg.eigvals(A)\n",
        "  energy = sum(abs(eigvals)**2)\n",
        "  TotalEnergy5 = TotalEnergy5 + energy\n",
        "TotalEnergy5/len(cycle6)"
      ],
      "metadata": {
        "colab": {
          "base_uri": "https://localhost:8080/"
        },
        "id": "sPATsIxGoOPy",
        "outputId": "00712f29-a773-4b49-d55f-ef57ab6eb47d"
      },
      "execution_count": null,
      "outputs": [
        {
          "output_type": "execute_result",
          "data": {
            "text/plain": [
              "78003.14901076884"
            ]
          },
          "metadata": {},
          "execution_count": 119
        }
      ]
    },
    {
      "cell_type": "code",
      "source": [
        "norm5=(TotalEnergy6-TotalEnergy5)/TotalEnergy6\n",
        "norm5"
      ],
      "metadata": {
        "colab": {
          "base_uri": "https://localhost:8080/"
        },
        "id": "ArNO16nyrIrN",
        "outputId": "cf77b4dc-0809-413f-9d31-437b42e3716f"
      },
      "execution_count": null,
      "outputs": [
        {
          "output_type": "execute_result",
          "data": {
            "text/plain": [
              "0.014413510541752479"
            ]
          },
          "metadata": {},
          "execution_count": 120
        }
      ]
    },
    {
      "cell_type": "code",
      "source": [
        "for i in cycle6:  \n",
        "  nodes=[characters[i[0]], characters[i[1]], characters[i[2]], characters[i[3]], characters[i[4]],characters[i[5]]]\n",
        "  subgraph = G.subgraph(nodes)\n",
        "  nx.draw_networkx(subgraph, pos=pos, node_size = 800, font_size=8, node_color=\"pink\")\n",
        "  nx.draw_networkx_edges(subgraph, pos=pos)\n",
        "  edge_labels = nx.get_edge_attributes(subgraph, 'weight')\n",
        "  nx.draw_networkx_edge_labels(subgraph, pos=pos, edge_labels=edge_labels)\n",
        "  plt.show()\n",
        "\n",
        "  #remove node 1\n",
        "  nodes=[ characters[i[1]], characters[i[2]], characters[i[3]], characters[i[4]],characters[i[5]]]\n",
        "  subgraph = G.subgraph(nodes)\n",
        "  nx.draw_networkx(subgraph, pos=pos, node_size = 800, font_size=8, node_color=\"pink\")\n",
        "  nx.draw_networkx_edges(subgraph, pos=pos)\n",
        "  edge_labels = nx.get_edge_attributes(subgraph, 'weight')\n",
        "  nx.draw_networkx_edge_labels(subgraph, pos=pos, edge_labels=edge_labels)\n",
        "  plt.show()\n",
        "\n",
        "  #remove node 6\n",
        "  nodes=[ characters[i[0]],characters[i[1]], characters[i[2]], characters[i[3]], characters[i[4]]]\n",
        "  subgraph = G.subgraph(nodes)\n",
        "  nx.draw_networkx(subgraph, pos=pos, node_size = 800, font_size=8, node_color=\"pink\")\n",
        "  nx.draw_networkx_edges(subgraph, pos=pos)\n",
        "  edge_labels = nx.get_edge_attributes(subgraph, 'weight')\n",
        "  nx.draw_networkx_edge_labels(subgraph, pos=pos, edge_labels=edge_labels)\n",
        "  plt.show()\n",
        "\n",
        "  break"
      ],
      "metadata": {
        "colab": {
          "base_uri": "https://localhost:8080/",
          "height": 1000
        },
        "id": "C21IQe-TmyHc",
        "outputId": "c348533f-eb72-43f8-9690-76fc66428563"
      },
      "execution_count": null,
      "outputs": [
        {
          "output_type": "display_data",
          "data": {
            "text/plain": [
              "<Figure size 640x480 with 1 Axes>"
            ],
            "image/png": "[encoded data removed]"
          },
          "metadata": {}
        },
        {
          "output_type": "display_data",
          "data": {
            "text/plain": [
              "<Figure size 640x480 with 1 Axes>"
            ],
            "image/png": "[encoded data removed]"
          },
          "metadata": {}
        },
        {
          "output_type": "display_data",
          "data": {
            "text/plain": [
              "<Figure size 640x480 with 1 Axes>"
            ],
            "image/png": "[encoded data removed]"
          },
          "metadata": {}
        }
      ]
    },
    {
      "cell_type": "markdown",
      "source": [
        "# Algebraic Connectivity"
      ],
      "metadata": {
        "id": "Doc22VbfnY28"
      }
    },
    {
      "cell_type": "markdown",
      "source": [
        "The algebraic connectivity is a graph metric that characterizes the overall connectivity and robustness of a graph. It is defined as the second smallest eigenvalue of the Laplacian matrix of the graph, which is a square matrix that encodes the connections between the nodes of the graph.\n",
        "\n",
        "The algebraic connectivity is significant because it provides information about the ability of a graph to maintain connectivity in the face of node or edge failures. A higher algebraic connectivity value indicates that the graph is more robust to such failures, while a lower algebraic connectivity value indicates that the graph is more vulnerable.\n",
        "\n",
        "The algebraic connectivity has applications in various fields, such as computer science, engineering, and social networks. For example, in computer science, the algebraic connectivity can be used to analyze the robustness of computer networks against cyber attacks. In engineering, the algebraic connectivity can be used to design more reliable communication networks. In social networks, the algebraic connectivity can be used to study the resilience of human social systems against disruptions."
      ],
      "metadata": {
        "id": "Cjwyz5N0v6V0"
      }
    },
    {
      "cell_type": "code",
      "source": [
        "TotalConnectivity3 = 0\n",
        "for i in cycle3:\n",
        "  nodes=[characters[i[0]], characters[i[1]], characters[i[2]]]\n",
        "  subgraph = G.subgraph(nodes)\n",
        "  L = nx.laplacian_matrix(subgraph).todense()\n",
        "  eigvals = np.linalg.eigvals(L)\n",
        "  alg_conn = eigvals[1]\n",
        "  TotalConnectivity3 = TotalConnectivity3 + alg_conn\n",
        "TotalConnectivity3/len(cycle3)"
      ],
      "metadata": {
        "colab": {
          "base_uri": "https://localhost:8080/"
        },
        "id": "98YQOfhynBrV",
        "outputId": "8e5f9872-2af1-4e3e-88dc-5e230a108899"
      },
      "execution_count": null,
      "outputs": [
        {
          "output_type": "execute_result",
          "data": {
            "text/plain": [
              "13.043799853985586"
            ]
          },
          "metadata": {},
          "execution_count": 122
        }
      ]
    },
    {
      "cell_type": "markdown",
      "source": [
        "After removing node 3"
      ],
      "metadata": {
        "id": "yD8BzJNrnjwb"
      }
    },
    {
      "cell_type": "code",
      "source": [
        "TotalConnectivity2 = 0\n",
        "for i in cycle3:\n",
        "  nodes=[characters[i[0]], characters[i[1]]]\n",
        "  subgraph = G.subgraph(nodes)\n",
        "  L = nx.laplacian_matrix(subgraph).todense()\n",
        "  eigvals = np.linalg.eigvals(L)\n",
        "  alg_conn = eigvals[1]\n",
        "  TotalConnectivity2 = TotalConnectivity2 + alg_conn\n",
        "TotalConnectivity2/len(cycle3)"
      ],
      "metadata": {
        "colab": {
          "base_uri": "https://localhost:8080/"
        },
        "id": "YZx33lrJne4A",
        "outputId": "22bd86fa-c801-46ff-904a-9874494e2867"
      },
      "execution_count": null,
      "outputs": [
        {
          "output_type": "execute_result",
          "data": {
            "text/plain": [
              "-1.6532584268453208e-15"
            ]
          },
          "metadata": {},
          "execution_count": 123
        }
      ]
    },
    {
      "cell_type": "markdown",
      "source": [
        "After removing node 2"
      ],
      "metadata": {
        "id": "cMJijY-0no-I"
      }
    },
    {
      "cell_type": "code",
      "source": [
        "TotalConnectivity2 = 0\n",
        "for i in cycle3:\n",
        "  nodes=[characters[i[0]], characters[i[2]]]\n",
        "  subgraph = G.subgraph(nodes)\n",
        "  L = nx.laplacian_matrix(subgraph).todense()\n",
        "  eigvals = np.linalg.eigvals(L)\n",
        "  alg_conn = eigvals[1]\n",
        "  TotalConnectivity2 = TotalConnectivity2 + alg_conn\n",
        "TotalConnectivity2/len(cycle3)"
      ],
      "metadata": {
        "colab": {
          "base_uri": "https://localhost:8080/"
        },
        "id": "9ObqT6iknllt",
        "outputId": "73d6d709-e0b3-4226-889c-b4a661edfde5"
      },
      "execution_count": null,
      "outputs": [
        {
          "output_type": "execute_result",
          "data": {
            "text/plain": [
              "-2.9294305772565536e-16"
            ]
          },
          "metadata": {},
          "execution_count": 124
        }
      ]
    },
    {
      "cell_type": "markdown",
      "source": [
        "After removing node 1"
      ],
      "metadata": {
        "id": "vJMRp0jEnqX3"
      }
    },
    {
      "cell_type": "code",
      "source": [
        "TotalConnectivity2 = 0\n",
        "for i in cycle3:\n",
        "  nodes=[characters[i[1]], characters[i[2]]]\n",
        "  subgraph = G.subgraph(nodes)\n",
        "  L = nx.laplacian_matrix(subgraph).todense()\n",
        "  eigvals = np.linalg.eigvals(L)\n",
        "  alg_conn = eigvals[1]\n",
        "  TotalConnectivity2 = TotalConnectivity2 + alg_conn\n",
        "TotalConnectivity2/len(cycle3)"
      ],
      "metadata": {
        "colab": {
          "base_uri": "https://localhost:8080/"
        },
        "id": "DycYkpzOntAx",
        "outputId": "a03ffe4f-6f8a-4bc6-b21f-733522d90f38"
      },
      "execution_count": null,
      "outputs": [
        {
          "output_type": "execute_result",
          "data": {
            "text/plain": [
              "-5.001846889890179e-16"
            ]
          },
          "metadata": {},
          "execution_count": 125
        }
      ]
    },
    {
      "cell_type": "markdown",
      "source": [
        "For cycle6"
      ],
      "metadata": {
        "id": "TwfQLW0fn09I"
      }
    },
    {
      "cell_type": "code",
      "source": [
        "TotalConnectivity6 = 0\n",
        "for i in cycle6:\n",
        "  nodes=[characters[i[0]], characters[i[1]], characters[i[2]], characters[i[3]], characters[i[4]], characters[i[5]]]\n",
        "  subgraph = G.subgraph(nodes)\n",
        "  L = nx.laplacian_matrix(subgraph).todense()\n",
        "  eigvals = np.linalg.eigvals(L)\n",
        "  alg_conn = eigvals[1]\n",
        "  TotalConnectivity6 = TotalConnectivity6 + alg_conn\n",
        "TotalConnectivity6/len(cycle6)"
      ],
      "metadata": {
        "colab": {
          "base_uri": "https://localhost:8080/"
        },
        "id": "X169CA_NnuKs",
        "outputId": "9d68ec53-d5ea-41fc-eb37-9ac3f2166c50"
      },
      "execution_count": null,
      "outputs": [
        {
          "output_type": "execute_result",
          "data": {
            "text/plain": [
              "119.77700268168218"
            ]
          },
          "metadata": {},
          "execution_count": 126
        }
      ]
    },
    {
      "cell_type": "markdown",
      "source": [
        "After removing node 1"
      ],
      "metadata": {
        "id": "VHUmOwVxn6tW"
      }
    },
    {
      "cell_type": "code",
      "source": [
        "TotalConnectivity5 = 0\n",
        "for i in cycle6:\n",
        "  nodes=[characters[i[1]], characters[i[2]], characters[i[3]], characters[i[4]], characters[i[5]]]\n",
        "  subgraph = G.subgraph(nodes)\n",
        "  L = nx.laplacian_matrix(subgraph).todense()\n",
        "  eigvals = np.linalg.eigvals(L)\n",
        "  alg_conn = eigvals[1]\n",
        "  TotalConnectivity5 = TotalConnectivity5 + alg_conn\n",
        "TotalConnectivity5/len(cycle6)"
      ],
      "metadata": {
        "colab": {
          "base_uri": "https://localhost:8080/"
        },
        "id": "vEAwF_uon4K_",
        "outputId": "f3f2c02a-d29e-4986-a99a-3639dd701fd3"
      },
      "execution_count": null,
      "outputs": [
        {
          "output_type": "execute_result",
          "data": {
            "text/plain": [
              "26.483365627689484"
            ]
          },
          "metadata": {},
          "execution_count": 127
        }
      ]
    },
    {
      "cell_type": "markdown",
      "source": [
        "After removing node 6"
      ],
      "metadata": {
        "id": "NEIK4yTIn9Gb"
      }
    },
    {
      "cell_type": "code",
      "source": [
        "TotalConnectivity5 = 0\n",
        "for i in cycle6:\n",
        "  nodes=[characters[i[0]],characters[i[1]], characters[i[2]], characters[i[3]], characters[i[4]]]\n",
        "  subgraph = G.subgraph(nodes)\n",
        "  L = nx.laplacian_matrix(subgraph).todense()\n",
        "  eigvals = np.linalg.eigvals(L)\n",
        "  alg_conn = eigvals[1]\n",
        "  TotalConnectivity5 = TotalConnectivity5 + alg_conn\n",
        "TotalConnectivity5/len(cycle6)"
      ],
      "metadata": {
        "colab": {
          "base_uri": "https://localhost:8080/"
        },
        "id": "sF-nD0jKn_jK",
        "outputId": "07f0b374-9592-448c-8d00-e263c9105dfe"
      },
      "execution_count": null,
      "outputs": [
        {
          "output_type": "execute_result",
          "data": {
            "text/plain": [
              "99.1109943244355"
            ]
          },
          "metadata": {},
          "execution_count": 128
        }
      ]
    },
    {
      "cell_type": "markdown",
      "source": [
        "# Inferences"
      ],
      "metadata": {
        "id": "0q0jrUuEwDuN"
      }
    },
    {
      "cell_type": "markdown",
      "source": [
        "The graph energy and algebraic connectivity can increase or decrease with an increase in the number of nodes in a graph, depending on the specific characteristics of the graph.\n",
        "\n",
        "For example, in a regular graph where each node has the same number of edges, both the graph energy and algebraic connectivity can increase with an increase in the number of nodes. This is because regular graphs are highly symmetric and well-organized, which leads to a higher energy and algebraic connectivity.\n",
        "\n",
        "However, in a random graph where the edges are formed randomly, the graph energy and algebraic connectivity may not necessarily increase with an increase in the number of nodes. In fact, the energy and algebraic connectivity of a random graph are typically dependent on the average degree of the graph, rather than the number of nodes.\n",
        "\n",
        "In summary, the relationship between the number of nodes and the graph energy/algebraic connectivity depends on the specific characteristics of the graph."
      ],
      "metadata": {
        "id": "rn7C-6RVwKSJ"
      }
    }
  ]
}